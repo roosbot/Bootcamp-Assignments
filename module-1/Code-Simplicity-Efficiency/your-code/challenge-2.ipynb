{
 "cells": [
  {
   "cell_type": "code",
   "execution_count": null,
   "metadata": {},
   "outputs": [],
   "source": [
    "# I gave variables a more descriptive name\n",
    "# I added spaces for consistency\n",
    "# I put the libraries at the top\n",
    "# I put new variables before the function\n",
    "# I added the string library to more efficiently generate source for random strings and digits"
   ]
  },
  {
   "cell_type": "code",
   "execution_count": null,
   "metadata": {},
   "outputs": [],
   "source": [
    "\"\"\"\n",
    "The code below generates a given number of random strings that consists of numbers and \n",
    "lower case English letters. You can also define the range of the variable lengths of\n",
    "the strings being generated.\n",
    "The code is functional but has a lot of room for improvement. Use what you have learned\n",
    "about simple and efficient code, refactor the code.\n",
    "\"\"\""
   ]
  },
  {
   "cell_type": "code",
   "execution_count": 6,
   "metadata": {},
   "outputs": [
    {
     "name": "stdout",
     "output_type": "stream",
     "text": [
      "Enter minimum string length: 5\n",
      "Enter maximum string length: 10\n",
      "How many random strings to generate? 1\n",
      "['Wn6rAo']\n"
     ]
    }
   ],
   "source": [
    "import random\n",
    "import sys\n",
    "import string\n",
    "\n",
    "def RandomStringGenerator(length = 12):\n",
    "    randomSource = list(string.ascii_letters + string.digits)\n",
    "    step = 0\n",
    "    password = ''\n",
    "    while step < length:\n",
    "        import random\n",
    "        password += random.choice(randomSource)\n",
    "        step += 1\n",
    "    return password\n",
    "\n",
    "def BatchStringGenerator(num_strings, min_length=8, max_length=12):\n",
    "    result = []\n",
    "    for i in range(num_strings):\n",
    "        choice = None\n",
    "        if min_length < max_length:\n",
    "            import random\n",
    "            choice = random.choice(range(min_length, max_length))\n",
    "        elif min_length == max_length:\n",
    "            choice = min_length\n",
    "        else:\n",
    "            sys.exit('Incorrect min and max string lengths. Try again.')\n",
    "        result.append(RandomStringGenerator(choice))\n",
    "    return result\n",
    "\n",
    "min_length = input('Enter minimum string length: ')\n",
    "max_length = input('Enter maximum string length: ')\n",
    "num_strings = input('How many random strings to generate? ')\n",
    "\n",
    "print(BatchStringGenerator(int(num_strings), int(min_length), int(max_length)))"
   ]
  }
 ],
 "metadata": {
  "kernelspec": {
   "display_name": "Python 3",
   "language": "python",
   "name": "python3"
  },
  "language_info": {
   "codemirror_mode": {
    "name": "ipython",
    "version": 3
   },
   "file_extension": ".py",
   "mimetype": "text/x-python",
   "name": "python",
   "nbconvert_exporter": "python",
   "pygments_lexer": "ipython3",
   "version": "3.7.6"
  }
 },
 "nbformat": 4,
 "nbformat_minor": 4
}
