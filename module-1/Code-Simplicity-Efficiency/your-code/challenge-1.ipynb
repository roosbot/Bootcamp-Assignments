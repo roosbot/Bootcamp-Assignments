{
 "cells": [
  {
   "cell_type": "code",
   "execution_count": null,
   "metadata": {},
   "outputs": [],
   "source": [
    "\"\"\"\n",
    "This is a dumb calculator that can add and subtract whole numbers from zero to five.\n",
    "When you run the code, you are prompted to enter two numbers (in the form of English\n",
    "word instead of number) and the operator sign (also in the form of English word).\n",
    "The code will perform the calculation and give the result if your input is what it\n",
    "expects.\n",
    "\n",
    "The code is very long and messy. Refactor it according to what you have learned about\n",
    "code simplicity and efficiency.\n",
    "\"\"\"\n"
   ]
  },
  {
   "cell_type": "code",
   "execution_count": null,
   "metadata": {},
   "outputs": [],
   "source": [
    "# I seperated the code and put it in different functions\n",
    "## so that each function does only one thing"
   ]
  },
  {
   "cell_type": "code",
   "execution_count": null,
   "metadata": {},
   "outputs": [],
   "source": [
    "# I made the userinput lowercase friendly"
   ]
  },
  {
   "cell_type": "code",
   "execution_count": null,
   "metadata": {},
   "outputs": [],
   "source": [
    "# I gave variables a more descriptive name"
   ]
  },
  {
   "cell_type": "code",
   "execution_count": 149,
   "metadata": {},
   "outputs": [
    {
     "name": "stdout",
     "output_type": "stream",
     "text": [
      "Welcome to this calculator!\n",
      "It can add and subtract whole numbers from zero to five\n",
      "Please choose your first number (zero to five): five\n",
      "['five']\n"
     ]
    }
   ],
   "source": [
    "# Ask for first user input in words \n",
    "\n",
    "print(\"Welcome to this calculator!\")\n",
    "print(\"It can add and subtract whole numbers from zero to five\")\n",
    "\n",
    "inputWord = []\n",
    "\n",
    "\n",
    "if len(inputWord) < 1:\n",
    "    word = input(\"Please choose your first number (zero to five): \").lower()\n",
    "    inputWord.append(word)\n",
    "    print(inputWord)"
   ]
  },
  {
   "cell_type": "code",
   "execution_count": 150,
   "metadata": {},
   "outputs": [
    {
     "name": "stdout",
     "output_type": "stream",
     "text": [
      "What do you want to do? plus or minus: plus\n",
      "['five', 'plus']\n"
     ]
    }
   ],
   "source": [
    "# Ask for plus or minus in words \n",
    "\n",
    "if len(inputWord) < 2:\n",
    "    word = input(\"What do you want to do? plus or minus: \").lower()\n",
    "    inputWord.append(word)\n",
    "    print(inputWord)"
   ]
  },
  {
   "cell_type": "code",
   "execution_count": 151,
   "metadata": {},
   "outputs": [
    {
     "name": "stdout",
     "output_type": "stream",
     "text": [
      "Please choose your second number (zero to five): five\n",
      "['five', 'plus', 'five']\n"
     ]
    }
   ],
   "source": [
    "# Ask for second user input in words \n",
    "\n",
    "if len(inputWord) < 3:\n",
    "    word = input(\"Please choose your second number (zero to five): \").lower()\n",
    "    inputWord.append(word)\n",
    "    print(inputWord)"
   ]
  },
  {
   "cell_type": "code",
   "execution_count": 152,
   "metadata": {},
   "outputs": [
    {
     "name": "stdout",
     "output_type": "stream",
     "text": [
      "['5', '+', '5']\n"
     ]
    }
   ],
   "source": [
    "# Convert words into numbers\n",
    "\n",
    "inputNumber = []\n",
    "for x in inputWord:\n",
    "    if x == \"zero\":\n",
    "        inputNumber.append(\"0\")\n",
    "    elif x == \"one\":\n",
    "        inputNumber.append(\"1\")\n",
    "    elif x == \"two\":\n",
    "        inputNumber.append(\"2\")\n",
    "    elif x == \"three\":\n",
    "        inputNumber.append(\"3\")\n",
    "    elif x == \"four\":\n",
    "        inputNumber.append(\"4\")\n",
    "    elif x == \"five\":\n",
    "        inputNumber.append(\"5\")\n",
    "    elif x == \"plus\":\n",
    "        inputNumber.append(\"+\")\n",
    "    elif x == \"minus\":\n",
    "        inputNumber.append(\"-\")\n",
    "    else:\n",
    "        print(\"Something went wrong\")\n",
    "print(inputNumber)"
   ]
  },
  {
   "cell_type": "code",
   "execution_count": 153,
   "metadata": {},
   "outputs": [
    {
     "name": "stdout",
     "output_type": "stream",
     "text": [
      "['5', '+', '5', '10']\n"
     ]
    }
   ],
   "source": [
    "if inputNumber[1] == \"+\":\n",
    "    result = int(inputNumber[0]) + int(inputNumber[2])\n",
    "    inputNumber.append(str(result))\n",
    "elif inputNumber[1] == \"-\":\n",
    "    result = int(inputNumber[0]) - int(inputNumber[2])\n",
    "    inputNumber.append(str(result))\n",
    "else:\n",
    "    print(\"I am not able to read plus or minus\")\n",
    "print(inputNumber)"
   ]
  },
  {
   "cell_type": "code",
   "execution_count": 154,
   "metadata": {},
   "outputs": [
    {
     "name": "stdout",
     "output_type": "stream",
     "text": [
      "['five', 'plus', 'five', 'ten']\n"
     ]
    }
   ],
   "source": [
    "# Convert numbers into words\n",
    "\n",
    "outputWord = []\n",
    "for x in inputNumber:\n",
    "    if x == \"0\":\n",
    "        outputWord.append(\"zero\")\n",
    "    elif x == \"1\":\n",
    "        outputWord.append(\"one\")\n",
    "    elif x == \"2\":\n",
    "        outputWord.append(\"two\")\n",
    "    elif x == \"3\":\n",
    "        outputWord.append(\"three\")\n",
    "    elif x == \"4\":\n",
    "        outputWord.append(\"four\")\n",
    "    elif x == \"5\":\n",
    "        outputWord.append(\"five\")\n",
    "    elif x == \"6\":\n",
    "        outputWord.append(\"six\")\n",
    "    elif x == \"7\":\n",
    "        outputWord.append(\"seven\")\n",
    "    elif x == \"8\":\n",
    "        outputWord.append(\"eight\")\n",
    "    elif x == \"9\":\n",
    "        outputWord.append(\"nine\")\n",
    "    elif x == \"10\":\n",
    "        outputWord.append(\"ten\")\n",
    "    elif x == \"+\":\n",
    "        outputWord.append(\"plus\")\n",
    "    elif x == \"-\":\n",
    "        outputWord.append(\"minus\")\n",
    "    else:\n",
    "        print(\"Something went wrong\")\n",
    "print(outputWord)"
   ]
  },
  {
   "cell_type": "code",
   "execution_count": 123,
   "metadata": {},
   "outputs": [
    {
     "ename": "IndexError",
     "evalue": "list index out of range",
     "output_type": "error",
     "traceback": [
      "\u001b[0;31m---------------------------------------------------------------------------\u001b[0m",
      "\u001b[0;31mIndexError\u001b[0m                                Traceback (most recent call last)",
      "\u001b[0;32m<ipython-input-123-fb3a51cb4051>\u001b[0m in \u001b[0;36m<module>\u001b[0;34m\u001b[0m\n\u001b[1;32m      1\u001b[0m \u001b[0;31m# Calculate result\u001b[0m\u001b[0;34m\u001b[0m\u001b[0;34m\u001b[0m\u001b[0;34m\u001b[0m\u001b[0m\n\u001b[1;32m      2\u001b[0m \u001b[0;34m\u001b[0m\u001b[0m\n\u001b[0;32m----> 3\u001b[0;31m \u001b[0mprint\u001b[0m\u001b[0;34m(\u001b[0m\u001b[0moutputWord\u001b[0m\u001b[0;34m[\u001b[0m\u001b[0;36m0\u001b[0m\u001b[0;34m]\u001b[0m\u001b[0;34m,\u001b[0m \u001b[0moutputWord\u001b[0m\u001b[0;34m[\u001b[0m\u001b[0;36m1\u001b[0m\u001b[0;34m]\u001b[0m\u001b[0;34m,\u001b[0m \u001b[0moutputWord\u001b[0m\u001b[0;34m[\u001b[0m\u001b[0;36m2\u001b[0m\u001b[0;34m]\u001b[0m\u001b[0;34m,\u001b[0m \u001b[0;34m\"equals\"\u001b[0m\u001b[0;34m,\u001b[0m \u001b[0moutputWord\u001b[0m\u001b[0;34m[\u001b[0m\u001b[0;36m3\u001b[0m\u001b[0;34m]\u001b[0m\u001b[0;34m)\u001b[0m\u001b[0;34m\u001b[0m\u001b[0;34m\u001b[0m\u001b[0m\n\u001b[0m\u001b[1;32m      4\u001b[0m \u001b[0;34m\u001b[0m\u001b[0m\n\u001b[1;32m      5\u001b[0m \u001b[0;31m# \"four minus zero equals four\u001b[0m\u001b[0;34m\u001b[0m\u001b[0;34m\u001b[0m\u001b[0;34m\u001b[0m\u001b[0m\n",
      "\u001b[0;31mIndexError\u001b[0m: list index out of range"
     ]
    }
   ],
   "source": [
    "# Calculate result\n",
    "\n",
    "print(outputWord[0], outputWord[1], outputWord[2], \"equals\", outputWord[3])\n",
    "\n",
    "# \"four minus zero equals four"
   ]
  },
  {
   "cell_type": "code",
   "execution_count": null,
   "metadata": {},
   "outputs": [],
   "source": [
    "def reStart():\n",
    "    \n",
    "    answer = input(\"Do you want to calculate another time? Enter yes or no. \").lower()\n",
    "    if answer == \"yes\":\n",
    "        print(\"Let's calculate some more!\")\n",
    "        userInput()\n",
    "    elif answer == \"no\":\n",
    "        print(\"Alright, thank you and goodbye!\")\n",
    "    else: \n",
    "        print(\"Sorry, I don't understand. Please enter yes or no.\")\n",
    "        reStart()"
   ]
  },
  {
   "cell_type": "code",
   "execution_count": null,
   "metadata": {},
   "outputs": [],
   "source": [
    "userInput()\n",
    "reStart()\n"
   ]
  },
  {
   "cell_type": "code",
   "execution_count": null,
   "metadata": {},
   "outputs": [],
   "source": []
  }
 ],
 "metadata": {
  "kernelspec": {
   "display_name": "Python 3",
   "language": "python",
   "name": "python3"
  },
  "language_info": {
   "codemirror_mode": {
    "name": "ipython",
    "version": 3
   },
   "file_extension": ".py",
   "mimetype": "text/x-python",
   "name": "python",
   "nbconvert_exporter": "python",
   "pygments_lexer": "ipython3",
   "version": "3.7.6"
  }
 },
 "nbformat": 4,
 "nbformat_minor": 4
}
