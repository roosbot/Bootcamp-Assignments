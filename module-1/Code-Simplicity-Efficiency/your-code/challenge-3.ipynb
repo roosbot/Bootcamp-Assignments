{
 "cells": [
  {
   "cell_type": "code",
   "execution_count": null,
   "metadata": {},
   "outputs": [],
   "source": [
    "# I gave the function a more descriptive name\n",
    "# I gave variables a more descriptive name\n",
    "# I added spaces for consistency\n",
    "# I put new variables on top\n",
    "# I deleted unnecessary code             \n",
    "# if (x * x == y * y + z * z):\n",
    "# solutions.append([x, y, z])"
   ]
  },
  {
   "cell_type": "code",
   "execution_count": 27,
   "metadata": {},
   "outputs": [
    {
     "name": "stdout",
     "output_type": "stream",
     "text": [
      "What is the maximal length of the triangle side? Enter a number: 6\n",
      "The longest side possible is 5\n"
     ]
    }
   ],
   "source": [
    "\"\"\"\n",
    "You are presented with an integer number larger than 5. Your goal is to identify the longest side\n",
    "possible in a right triangle whose sides are not longer than the number you are given.\n",
    "\n",
    "For example, if you are given the number 15, there are 3 possibilities to compose right triangles:\n",
    "\n",
    "1. [3, 4, 5]\n",
    "2. [6, 8, 10]\n",
    "3. [5, 12, 13]\n",
    "\n",
    "The following function shows one way to solve the problem but the code is not ideal or efficient.\n",
    "Refactor the code based on what you have learned about code simplicity and efficiency.\n",
    "\"\"\"\n",
    "\n",
    "number = input(\"What is the maximal length of the triangle side? Enter a number: \")\n",
    "\n",
    "def longestSide(number):\n",
    "    \n",
    "    solutions = []\n",
    "    longest_side = 0\n",
    "    \n",
    "    solutions = [[x, y, z] for z in range(3, number) for y in range(4, number) for x in range(5, number)] \n",
    "                       \n",
    "    for solution in solutions:\n",
    "        if longest_side < max(solution):\n",
    "            longest_side = max(solution)\n",
    "            \n",
    "    return longest_side\n",
    "\n",
    "print(\"The longest side possible is \" + str(longestSide(int(number))))\n"
   ]
  }
 ],
 "metadata": {
  "kernelspec": {
   "display_name": "Python 3",
   "language": "python",
   "name": "python3"
  },
  "language_info": {
   "codemirror_mode": {
    "name": "ipython",
    "version": 3
   },
   "file_extension": ".py",
   "mimetype": "text/x-python",
   "name": "python",
   "nbconvert_exporter": "python",
   "pygments_lexer": "ipython3",
   "version": "3.7.6"
  }
 },
 "nbformat": 4,
 "nbformat_minor": 4
}
