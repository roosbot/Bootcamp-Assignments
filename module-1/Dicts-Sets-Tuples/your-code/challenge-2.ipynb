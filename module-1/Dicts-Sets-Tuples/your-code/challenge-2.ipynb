{
 "cells": [
  {
   "cell_type": "markdown",
   "metadata": {},
   "source": [
    "## Challenge 2: Sets\n",
    "\n",
    "There are a lot to learn about Python Sets and the information presented in the lesson is limited due to its length. To learn Python Sets in depth you are strongly encouraged to review the W3Schools tutorial on [Python Sets Examples and Methods](https://www.w3schools.com/python/python_sets.asp) before you work on this lab. Some difficult questions in this lab have their solutions in the W3Schools tutorial.\n",
    "\n",
    "#### First, import the Python `random` library."
   ]
  },
  {
   "cell_type": "code",
   "execution_count": 1,
   "metadata": {},
   "outputs": [],
   "source": [
    "import random"
   ]
  },
  {
   "cell_type": "markdown",
   "metadata": {},
   "source": [
    "#### In the cell below, create a list named `sample_list_1` with 80 random values. \n",
    "\n",
    "Requirements:\n",
    "\n",
    "* Each value is an integer falling between 0 and 100.\n",
    "* Each value in the list is unique.\n",
    "\n",
    "Print `sample_list_1` to review its values\n",
    "\n",
    "*Hint: use `random.sample` ([reference](https://docs.python.org/3/library/random.html#random.sample)).*"
   ]
  },
  {
   "cell_type": "code",
   "execution_count": 2,
   "metadata": {},
   "outputs": [
    {
     "name": "stdout",
     "output_type": "stream",
     "text": [
      "[28, 75, 97, 61, 73, 19, 49, 63, 86, 53, 79, 0, 29, 78, 67, 25, 91, 83, 24, 76, 90, 99, 47, 23, 62, 80, 87, 7, 37, 2, 72, 57, 38, 52, 16, 32, 51, 9, 68, 42, 22, 11, 82, 18, 44, 89, 64, 6, 40, 66, 95, 36, 39, 34, 84, 20, 17, 65, 46, 48, 13, 74, 71, 60, 26, 45, 98, 10, 21, 41, 69, 14, 1, 93, 3, 85, 50, 96, 81, 70]\n",
      "The list contains: 80 values.\n",
      "The list contains: 80 unique values.\n"
     ]
    }
   ],
   "source": [
    "# Your code here\n",
    "sample_list_1 = random.sample(range(100), 80)\n",
    "print(sample_list_1)\n",
    "\n",
    "# Here I check if the list contains indeed 80 values\n",
    "print(\"The list contains:\", len(sample_list_1), \"values.\")\n",
    "\n",
    "# Here I check if the list indeed contains 80 unique values\n",
    "# I create a set because they only contain unique values\n",
    "print(\"The list contains:\", len(set(sample_list_1)), \"unique values.\")"
   ]
  },
  {
   "cell_type": "markdown",
   "metadata": {},
   "source": [
    "#### Convert `sample_list_1` to a set called `set1`. Print the length of the set. Is its length still 80?"
   ]
  },
  {
   "cell_type": "code",
   "execution_count": 3,
   "metadata": {},
   "outputs": [
    {
     "name": "stdout",
     "output_type": "stream",
     "text": [
      "The length of the set is: 80\n"
     ]
    }
   ],
   "source": [
    "# Your code here\n",
    "\n",
    "# Yes\n",
    "set1 = set(sample_list_1)\n",
    "print(\"The length of the set is:\", len(set1))"
   ]
  },
  {
   "cell_type": "markdown",
   "metadata": {},
   "source": [
    "#### Create another list named `sample_list_2` with 80 random values.\n",
    "\n",
    "Requirements:\n",
    "\n",
    "* Each value is an integer falling between 0 and 100.\n",
    "* The values in the list don't have to be unique.\n",
    "\n",
    "*Hint: Use a FOR loop.*"
   ]
  },
  {
   "cell_type": "code",
   "execution_count": 4,
   "metadata": {},
   "outputs": [
    {
     "name": "stdout",
     "output_type": "stream",
     "text": [
      "[34, 83, 26, 58, 3, 30, 20, 93, 9, 87, 2, 88, 28, 52, 52, 61, 37, 92, 55, 60, 17, 6, 71, 24, 72, 43, 35, 76, 26, 35, 75, 77, 44, 92, 71, 76, 30, 58, 54, 16, 91, 63, 76, 2, 26, 5, 48, 92, 8, 58, 83, 44, 90, 30, 41, 90, 10, 9, 26, 56, 0, 12, 5, 98, 78, 97, 41, 6, 58, 41, 32, 49, 11, 83, 88, 29, 60, 9, 89, 59]\n",
      "The lenght of the list is: 80\n"
     ]
    }
   ],
   "source": [
    "# Your code here\n",
    "sample_list_2 = [random.randint(0,100) for number in range(80)]\n",
    "print(sample_list_2)\n",
    "\n",
    "# Here I check the length of the list\n",
    "print(\"The lenght of the list is:\", len(sample_list_2))"
   ]
  },
  {
   "cell_type": "markdown",
   "metadata": {},
   "source": [
    "#### Convert `sample_list_2` to a set called `set2`. Print the length of the set. Is its length still 80?"
   ]
  },
  {
   "cell_type": "code",
   "execution_count": 5,
   "metadata": {},
   "outputs": [
    {
     "name": "stdout",
     "output_type": "stream",
     "text": [
      "52\n"
     ]
    }
   ],
   "source": [
    "# Your code here\n",
    "# No, now it is less, so there were duplicate numbers in the sample_list_2\n",
    "set2 = set(sample_list_2)\n",
    "print(len(set2))"
   ]
  },
  {
   "cell_type": "markdown",
   "metadata": {},
   "source": [
    "#### Identify the elements present in `set1` but not in `set2`. Assign the elements to a new set named `set3`."
   ]
  },
  {
   "cell_type": "code",
   "execution_count": 6,
   "metadata": {},
   "outputs": [
    {
     "name": "stdout",
     "output_type": "stream",
     "text": [
      "{1, 7, 13, 14, 18, 19, 21, 22, 23, 25, 36, 38, 39, 40, 42, 45, 46, 47, 50, 51, 53, 57, 62, 64, 65, 66, 67, 68, 69, 70, 73, 74, 79, 80, 81, 82, 84, 85, 86, 95, 96, 99}\n"
     ]
    }
   ],
   "source": [
    "# Your code here\n",
    "set3 = set1 - set2\n",
    "print(set3)"
   ]
  },
  {
   "cell_type": "markdown",
   "metadata": {},
   "source": [
    "#### Identify the elements present in `set2` but not in `set1`. Assign the elements to a new set named `set4`."
   ]
  },
  {
   "cell_type": "code",
   "execution_count": 7,
   "metadata": {},
   "outputs": [
    {
     "name": "stdout",
     "output_type": "stream",
     "text": [
      "{35, 5, 8, 88, 43, 12, 77, 54, 55, 56, 58, 59, 92, 30}\n"
     ]
    }
   ],
   "source": [
    "# Your code here\n",
    "set4 = set2 - set1\n",
    "print(set4)"
   ]
  },
  {
   "cell_type": "markdown",
   "metadata": {},
   "source": [
    "#### Now Identify the elements shared between `set1` and `set2`. Assign the elements to a new set named `set5`."
   ]
  },
  {
   "cell_type": "code",
   "execution_count": 8,
   "metadata": {},
   "outputs": [
    {
     "name": "stdout",
     "output_type": "stream",
     "text": [
      "{0, 2, 3, 6, 9, 10, 11, 16, 17, 20, 24, 26, 28, 29, 32, 34, 37, 41, 44, 48, 49, 52, 60, 61, 63, 71, 72, 75, 76, 78, 83, 87, 89, 90, 91, 93, 97, 98}\n"
     ]
    }
   ],
   "source": [
    "# Your code here\n",
    "set5 = set1.intersection(set2)\n",
    "print(set5)"
   ]
  },
  {
   "cell_type": "markdown",
   "metadata": {},
   "source": [
    "#### What is the relationship among the following values:\n",
    "\n",
    "* len(set1)\n",
    "* len(set2)\n",
    "* len(set3)\n",
    "* len(set4)\n",
    "* len(set5)\n",
    "\n",
    "Use a math formular to represent that relationship. Test your formular with Python code."
   ]
  },
  {
   "cell_type": "code",
   "execution_count": 9,
   "metadata": {},
   "outputs": [
    {
     "name": "stdout",
     "output_type": "stream",
     "text": [
      "set1 > set2\n",
      "set1 > set3\n",
      "set1 > set4\n",
      "set1 > set5\n",
      "set2 <= set1\n",
      "set2 > set3\n",
      "set2 > set4\n",
      "set2 > set5\n",
      "set3 <= set1\n",
      "set3 <= set2\n",
      "set3 > set4\n",
      "set3 > set5\n",
      "set4 <= set1\n",
      "set4 <= set2\n",
      "set4 <= set3\n",
      "set4 <= set5\n",
      "set5 <= set1\n",
      "set5 <= set2\n",
      "set5 <= set3\n",
      "set5 > set4\n"
     ]
    }
   ],
   "source": [
    "# Your code here\n",
    "\n",
    "# Relationships with len(set1)\n",
    "if len(set1) > len(set2):\n",
    "   print(\"set1 > set2\")\n",
    "else:\n",
    "   print(\"set1 <= set2\")\n",
    "\n",
    "if len(set1) > len(set3):\n",
    "   print(\"set1 > set3\")\n",
    "else:\n",
    "   print(\"set1 <= set3\")\n",
    "\n",
    "if len(set1) > len(set4):\n",
    "   print(\"set1 > set4\")\n",
    "else:\n",
    "   print(\"set1 <= set4\")\n",
    "\n",
    "if len(set1) > len(set5):\n",
    "   print(\"set1 > set5\")\n",
    "else:\n",
    "   print(\"set1 <= set5\")\n",
    "\n",
    "# len(set2)\n",
    "if len(set2) > len(set1):\n",
    "   print(\"set2 > set1\")\n",
    "else:\n",
    "   print(\"set2 <= set1\")\n",
    "\n",
    "if len(set2) > len(set3):\n",
    "   print(\"set2 > set3\")\n",
    "else:\n",
    "   print(\"set2 <= set3\")\n",
    "\n",
    "if len(set2) > len(set4):\n",
    "   print(\"set2 > set4\")\n",
    "else:\n",
    "   print(\"set2 <= set4\")\n",
    "\n",
    "if len(set2) > len(set5):\n",
    "   print(\"set2 > set5\")\n",
    "else:\n",
    "   print(\"set2 <= set5\")\n",
    "\n",
    "# Relationships with len(set3)\n",
    "if len(set3) > len(set1):\n",
    "   print(\"set3 > set1\")\n",
    "else:\n",
    "   print(\"set3 <= set1\")\n",
    "\n",
    "if len(set3) > len(set2):\n",
    "   print(\"set3 > set2\")\n",
    "else:\n",
    "   print(\"set3 <= set2\")\n",
    "\n",
    "if len(set3) > len(set4):\n",
    "   print(\"set3 > set4\")\n",
    "else:\n",
    "   print(\"set3 <= set4\")\n",
    "\n",
    "if len(set3) > len(set5):\n",
    "   print(\"set3 > set5\")\n",
    "else:\n",
    "   print(\"set3 <= set5\")\n",
    "\n",
    "# Relationships with len(set4)\n",
    "if len(set4) > len(set1):\n",
    "   print(\"set4 > set1\")\n",
    "else:\n",
    "   print(\"set4 <= set1\")\n",
    "\n",
    "if len(set4) > len(set2):\n",
    "   print(\"set4 > set2\")\n",
    "else:\n",
    "   print(\"set4 <= set2\")\n",
    "\n",
    "if len(set4) > len(set3):\n",
    "   print(\"set4 > set3\")\n",
    "else:\n",
    "   print(\"set4 <= set3\")\n",
    "\n",
    "if len(set4) > len(set5):\n",
    "   print(\"set4 > set5\")\n",
    "else:\n",
    "   print(\"set4 <= set5\")\n",
    "\n",
    "# Relationships with len(set5)\n",
    "if len(set5) > len(set1):\n",
    "   print(\"set5 > set2\")\n",
    "else:\n",
    "   print(\"set5 <= set1\")\n",
    "\n",
    "if len(set5) > len(set2):\n",
    "   print(\"set5 > set2\")\n",
    "else:\n",
    "   print(\"set5 <= set2\")\n",
    "\n",
    "if len(set5) > len(set3):\n",
    "   print(\"set5 > set3\")\n",
    "else:\n",
    "   print(\"set5 <= set3\")\n",
    "\n",
    "if len(set5) > len(set4):\n",
    "   print(\"set5 > set4\")\n",
    "else:\n",
    "   print(\"set5 <= set4\")\n",
    "\n",
    "# Here I checked  the lenght of all sets\n",
    "# print(\"Length of set1 is:\", len(set1))\n",
    "# print(\"Length of set2 is:\", len(set2))\n",
    "# print(\"Length of set3 is:\", len(set3))\n",
    "# print(\"Length of set4 is:\", len(set4))\n",
    "# print(\"Length of set5 is:\", len(set5))\n"
   ]
  },
  {
   "cell_type": "markdown",
   "metadata": {},
   "source": [
    "#### Create an empty set called `set6`."
   ]
  },
  {
   "cell_type": "code",
   "execution_count": 10,
   "metadata": {},
   "outputs": [],
   "source": [
    "# Your code here\n",
    "set6 = set()"
   ]
  },
  {
   "cell_type": "markdown",
   "metadata": {},
   "source": [
    "#### Add `set3` and `set5` to `set6` using the Python Set `update` method."
   ]
  },
  {
   "cell_type": "code",
   "execution_count": 11,
   "metadata": {},
   "outputs": [
    {
     "name": "stdout",
     "output_type": "stream",
     "text": [
      "{0, 1, 2, 3, 6, 7, 9, 10, 11, 13, 14, 16, 17, 18, 19, 20, 21, 22, 23, 24, 25, 26, 28, 29, 32, 34, 36, 37, 38, 39, 40, 41, 42, 44, 45, 46, 47, 48, 49, 50, 51, 52, 53, 57, 60, 61, 62, 63, 64, 65, 66, 67, 68, 69, 70, 71, 72, 73, 74, 75, 76, 78, 79, 80, 81, 82, 83, 84, 85, 86, 87, 89, 90, 91, 93, 95, 96, 97, 98, 99}\n"
     ]
    }
   ],
   "source": [
    "# Your code here\n",
    "set6.update(set3, set5)\n",
    "print(set6)"
   ]
  },
  {
   "cell_type": "markdown",
   "metadata": {},
   "source": [
    "#### Check if `set1` and `set6` are equal."
   ]
  },
  {
   "cell_type": "code",
   "execution_count": 12,
   "metadata": {},
   "outputs": [
    {
     "name": "stdout",
     "output_type": "stream",
     "text": [
      "Yes, set1 and set6 are equal\n"
     ]
    }
   ],
   "source": [
    "# Your code here\n",
    "if set1 == set6:\n",
    "    print(\"Yes, set1 and set6 are equal\")\n",
    "else:\n",
    "    print(\"No, they are not equal\")"
   ]
  },
  {
   "cell_type": "markdown",
   "metadata": {},
   "source": [
    "#### Check if `set1` contains `set2` using the Python Set `issubset` method. Then check if `set1` contains `set3`.*"
   ]
  },
  {
   "cell_type": "code",
   "execution_count": 1,
   "metadata": {},
   "outputs": [
    {
     "ename": "NameError",
     "evalue": "name 'set2' is not defined",
     "output_type": "error",
     "traceback": [
      "\u001b[0;31m---------------------------------------------------------------------------\u001b[0m",
      "\u001b[0;31mNameError\u001b[0m                                 Traceback (most recent call last)",
      "\u001b[0;32m<ipython-input-1-2f4607839c35>\u001b[0m in \u001b[0;36m<module>\u001b[0;34m\u001b[0m\n\u001b[1;32m      1\u001b[0m \u001b[0;31m# Your code here\u001b[0m\u001b[0;34m\u001b[0m\u001b[0;34m\u001b[0m\u001b[0;34m\u001b[0m\u001b[0m\n\u001b[0;32m----> 2\u001b[0;31m \u001b[0mprint\u001b[0m\u001b[0;34m(\u001b[0m\u001b[0mset2\u001b[0m\u001b[0;34m.\u001b[0m\u001b[0missubset\u001b[0m\u001b[0;34m(\u001b[0m\u001b[0mset1\u001b[0m\u001b[0;34m)\u001b[0m\u001b[0;34m)\u001b[0m\u001b[0;34m\u001b[0m\u001b[0;34m\u001b[0m\u001b[0m\n\u001b[0m\u001b[1;32m      3\u001b[0m \u001b[0mprint\u001b[0m\u001b[0;34m(\u001b[0m\u001b[0mset3\u001b[0m\u001b[0;34m.\u001b[0m\u001b[0missubset\u001b[0m\u001b[0;34m(\u001b[0m\u001b[0mset1\u001b[0m\u001b[0;34m)\u001b[0m\u001b[0;34m)\u001b[0m\u001b[0;34m\u001b[0m\u001b[0;34m\u001b[0m\u001b[0m\n",
      "\u001b[0;31mNameError\u001b[0m: name 'set2' is not defined"
     ]
    }
   ],
   "source": [
    "# Your code here\n",
    "print(set2.issubset(set1))\n",
    "print(set3.issubset(set1))"
   ]
  },
  {
   "cell_type": "markdown",
   "metadata": {},
   "source": [
    "#### Using the Python Set `union` method, aggregate `set3`, `set4`, and `set5`. Then aggregate `set1` and `set2`. \n",
    "\n",
    "#### Check if the aggregated values are equal."
   ]
  },
  {
   "cell_type": "code",
   "execution_count": 14,
   "metadata": {},
   "outputs": [
    {
     "name": "stdout",
     "output_type": "stream",
     "text": [
      "{0, 1, 2, 3, 5, 6, 7, 8, 9, 10, 11, 12, 13, 14, 16, 17, 18, 19, 20, 21, 22, 23, 24, 25, 26, 28, 29, 30, 32, 34, 35, 36, 37, 38, 39, 40, 41, 42, 43, 44, 45, 46, 47, 48, 49, 50, 51, 52, 53, 54, 55, 56, 57, 58, 59, 60, 61, 62, 63, 64, 65, 66, 67, 68, 69, 70, 71, 72, 73, 74, 75, 76, 77, 78, 79, 80, 81, 82, 83, 84, 85, 86, 87, 88, 89, 90, 91, 92, 93, 95, 96, 97, 98, 99}\n",
      "{0, 1, 2, 3, 5, 6, 7, 8, 9, 10, 11, 12, 13, 14, 16, 17, 18, 19, 20, 21, 22, 23, 24, 25, 26, 28, 29, 30, 32, 34, 35, 36, 37, 38, 39, 40, 41, 42, 43, 44, 45, 46, 47, 48, 49, 50, 51, 52, 53, 54, 55, 56, 57, 58, 59, 60, 61, 62, 63, 64, 65, 66, 67, 68, 69, 70, 71, 72, 73, 74, 75, 76, 77, 78, 79, 80, 81, 82, 83, 84, 85, 86, 87, 88, 89, 90, 91, 92, 93, 95, 96, 97, 98, 99}\n",
      "Yes, the aggregated values are equal\n"
     ]
    }
   ],
   "source": [
    "# Your code here\n",
    "agg_345 = set3.union(set4,set5)\n",
    "print(agg_345)\n",
    "\n",
    "agg_12 = set1.union(set2)\n",
    "print(agg_12)\n",
    "\n",
    "if agg_12 == agg_345:\n",
    "    print(\"Yes, the aggregated values are equal\")\n",
    "else:\n",
    "    print(\"No, the aggregated values are not equal\")"
   ]
  },
  {
   "cell_type": "markdown",
   "metadata": {},
   "source": [
    "#### Using the `pop` method, remove the first element from `set1`."
   ]
  },
  {
   "cell_type": "code",
   "execution_count": 15,
   "metadata": {},
   "outputs": [
    {
     "name": "stdout",
     "output_type": "stream",
     "text": [
      "{1, 2, 3, 6, 7, 9, 10, 11, 13, 14, 16, 17, 18, 19, 20, 21, 22, 23, 24, 25, 26, 28, 29, 32, 34, 36, 37, 38, 39, 40, 41, 42, 44, 45, 46, 47, 48, 49, 50, 51, 52, 53, 57, 60, 61, 62, 63, 64, 65, 66, 67, 68, 69, 70, 71, 72, 73, 74, 75, 76, 78, 79, 80, 81, 82, 83, 84, 85, 86, 87, 89, 90, 91, 93, 95, 96, 97, 98, 99}\n"
     ]
    }
   ],
   "source": [
    "# Your code here\n",
    "set1.pop()\n",
    "print(set1)"
   ]
  },
  {
   "cell_type": "markdown",
   "metadata": {},
   "source": [
    "#### Remove every element in the following list from `set1` if they are present in the set. Print the remaining elements.\n",
    "\n",
    "```\n",
    "list_to_remove = [1, 9, 11, 19, 21, 29, 31, 39, 41, 49, 51, 59, 61, 69, 71, 79, 81, 89, 91, 99]\n",
    "```"
   ]
  },
  {
   "cell_type": "code",
   "execution_count": 16,
   "metadata": {},
   "outputs": [
    {
     "name": "stdout",
     "output_type": "stream",
     "text": [
      "{2, 3, 6, 7, 10, 13, 14, 16, 17, 18, 20, 22, 23, 24, 25, 26, 28, 32, 34, 36, 37, 38, 40, 42, 44, 45, 46, 47, 48, 50, 52, 53, 57, 60, 62, 63, 64, 65, 66, 67, 68, 70, 72, 73, 74, 75, 76, 78, 80, 82, 83, 84, 85, 86, 87, 90, 93, 95, 96, 97, 98}\n"
     ]
    }
   ],
   "source": [
    "# Your code here\n",
    "list_to_remove = [1, 9, 11, 19, 21, 29, 31, 39, 41, 49, 51, 59, 61, 69, 71, 79, 81, 89, 91, 99]\n",
    "\n",
    "\n",
    "for element in list_to_remove:\n",
    "    if element in set1:\n",
    "        set1.remove(element)\n",
    "    \n",
    "print(set1)\n",
    "    "
   ]
  }
 ],
 "metadata": {
  "kernelspec": {
   "display_name": "Python 3",
   "language": "python",
   "name": "python3"
  },
  "language_info": {
   "codemirror_mode": {
    "name": "ipython",
    "version": 3
   },
   "file_extension": ".py",
   "mimetype": "text/x-python",
   "name": "python",
   "nbconvert_exporter": "python",
   "pygments_lexer": "ipython3",
   "version": "3.7.6"
  }
 },
 "nbformat": 4,
 "nbformat_minor": 2
}
