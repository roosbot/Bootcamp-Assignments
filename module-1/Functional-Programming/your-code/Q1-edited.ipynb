{
 "cells": [
  {
   "cell_type": "markdown",
   "metadata": {},
   "source": [
    "In the cell below, create a Python function that creates a Bag of Words.\n",
    "\n",
    "Requirements:\n",
    "\n",
    "1. Your function should accept the following parameters:\n",
    "    * `corpus` [REQUIRED] - list of strings.\n",
    "    * `stop_words` [OPTIONAL] - array of stop words. The default value is an empty array.\n",
    "\n",
    "1. Your function should return a Python object that contains the following:\n",
    "    * `bag_of_words` - array of strings of normalized unique words in the corpus.\n",
    "    * `term_freq` - array of the term-frequency vectors."
   ]
  },
  {
   "cell_type": "code",
   "execution_count": 1,
   "metadata": {},
   "outputs": [],
   "source": [
    "# # Import required libraries\n",
    "# import re\n",
    "\n",
    "# # Define function\n",
    "# def get_bow_from_docs(corpus, stop_words=[]):\n",
    "    \n",
    "#     # In the function, first define the variables you will use such as `corpus`, `bag_of_words`, and `term_freq`.\n",
    "    \n",
    "#     \"\"\"\n",
    "#     Convert corpus to lowercases and remove punctuation.\n",
    "#     \"\"\"\n",
    "        \n",
    "#     \"\"\"\n",
    "#     Loop `corpus`. Append the individual words in each doc into the `bag_of_words` array. The terms in `bag_of_words` \n",
    "#     should be unique which means before adding each term you need to check if it's already added to the array.\n",
    "#     In addition, check if each term is in the `stop_words` array. Only append the term to `bag_of_words`\n",
    "#     if it is not a stop word.\n",
    "#     \"\"\"\n",
    "    \n",
    "    \n",
    "#     \"\"\"\n",
    "#     Loop `corpus` again. For each doc string, count the number of occurrences of each term in `bag_of_words`. \n",
    "#     Create an array for each doc's term frequency and append it to `term_freq`.\n",
    "#     \"\"\"\n",
    "    \n",
    "#     # Now return your output as an object\n",
    "#     return {\n",
    "#         \"bag_of_words\": bag_of_words,\n",
    "#         \"term_freq\": term_freq,\n",
    "#         \"corpus\": corpus,\n",
    "#         \"corpus_copy\": corpus_copy,\n",
    "#         \"corpus_edit\": corpus_edit\n",
    "#     }\n",
    "    "
   ]
  },
  {
   "cell_type": "code",
   "execution_count": 2,
   "metadata": {},
   "outputs": [],
   "source": [
    "# Import required libraries\n",
    "import re\n",
    "\n",
    "# Define function\n",
    "def get_bow_from_docs(corpus, stop_words=[]):\n",
    "    \n",
    "    # In the function, first define the variables you will use such as `corpus`, `bag_of_words`, and `term_freq`.\n",
    "    bag_of_words = []\n",
    "    term_freq = []\n",
    "    corpus_clean = []\n",
    "    corpus_0 = []\n",
    "    count_0 = \"\"\n",
    "        \n",
    "    # Here I convert corpus to lowercases and remove punctuation\n",
    "    for words in corpus:\n",
    "        corpus_clean.append(re.sub('[^\\w\\s]','',words).lower())   \n",
    "    \n",
    "    \n",
    "    # Here I select only the first element of the list\n",
    "    corpus_0.append(corpus_clean[0])\n",
    "    # Here I split the sentence in seperate words\n",
    "    corpus_0 = ', '.join(corpus_0).split()\n",
    "    \n",
    "    \"\"\"\n",
    "    Loop `corpus`. Append the individual words in each doc into the `bag_of_words` array. The terms in `bag_of_words` \n",
    "    should be unique which means before adding each term you need to check if it's already added to the array.\n",
    "    In addition, check if each term is in the `stop_words` array. Only append the term to `bag_of_words`\n",
    "    if it is not a stop word.\n",
    "    \"\"\"\n",
    "    \n",
    "    # Here I split the sentence in seperate words\n",
    "    bag_of_words = ' '.join(corpus_clean).split()\n",
    "    # insert the list -> set (to make it unique)\n",
    "    bag_of_words = set(bag_of_words)\n",
    "    # convert the set -> list (to make it unique)\n",
    "    bag_of_words = (list(bag_of_words))\n",
    "    \n",
    "\n",
    "    # Loop corpus: Here I count the words in corpus_0 that occur in bag_of_words\n",
    "    for words in bag_of_words:\n",
    "        count_0 = (corpus_0.count(words))\n",
    "        term_freq.append(count_0)\n",
    "    \n",
    "    \n",
    "    # Now return your output as an object\n",
    "    return {\n",
    "        \"bag_of_words\": bag_of_words,\n",
    "        \"term_freq\": term_freq,\n",
    "    }"
   ]
  },
  {
   "cell_type": "markdown",
   "metadata": {},
   "source": [
    "Test your function without stop words. You should see the output like below:\n",
    "\n",
    "```{'bag_of_words': ['ironhack', 'is', 'cool', 'i', 'love', 'am', 'a', 'student', 'at'], 'term_freq': [[1, 1, 1, 0, 0, 0, 0, 0, 0], [1, 0, 0, 1, 1, 0, 0, 0, 0], [1, 0, 0, 1, 0, 1, 1, 1, 1]]}```"
   ]
  },
  {
   "cell_type": "code",
   "execution_count": 3,
   "metadata": {},
   "outputs": [
    {
     "name": "stdout",
     "output_type": "stream",
     "text": [
      "{'bag_of_words': ['cool', 'is', 'ironhack', 'i', 'a', 'at', 'love', 'am', 'student'], 'term_freq': [1, 1, 1, 0, 0, 0, 0, 0, 0]}\n"
     ]
    }
   ],
   "source": [
    "# Define the corpus list\n",
    "a_corpus = ['Ironhack is Cool!', 'I love Ironhack', 'I am a student at Ironhack.']\n",
    "\n",
    "# Obtain BoW from your function\n",
    "bow = get_bow_from_docs(a_corpus)\n",
    "\n",
    "# Print BoW\n",
    "print(bow)"
   ]
  },
  {
   "cell_type": "code",
   "execution_count": 4,
   "metadata": {},
   "outputs": [],
   "source": [
    "# I can't seem to find how o add the other parts of the corpus :(\n",
    "#     print(\"Corpus_clean\", corpus_clean)\n",
    "#     print(\"Corpus_0\", corpus_0)\n",
    "#     print(\"Bag_of_words\", bag_of_words)"
   ]
  },
  {
   "cell_type": "code",
   "execution_count": 5,
   "metadata": {},
   "outputs": [
    {
     "name": "stdout",
     "output_type": "stream",
     "text": [
      "frozenset({'ten', 'against', 'but', 'two', 'with', 'indeed', 'whereafter', 'itself', 'every', 'per', 'across', 'due', 'less', 'thru', 'amoungst', 'keep', 'give', 'become', 'done', 'along', 'an', 'down', 'top', 'seemed', 'thin', 'except', 'we', 'off', 'what', 'because', 'meanwhile', 'afterwards', 'other', 'whereupon', 'namely', 'wherein', 'why', 'at', 'eg', 'anyone', 'nor', 'un', 'co', 'around', 'ever', 'this', 'if', 'least', 'where', 'hereafter', 'beside', 'whereby', 'very', 'yourself', 'sometimes', 'bottom', 'so', 'yourselves', 'do', 'fire', 'next', 'which', 'within', 'seeming', 'hereby', 'too', 'someone', 'whither', 'hereupon', 'whenever', 'are', 'any', 'my', 'could', 'or', 'from', 'who', 'interest', 'thence', 'their', 'fill', 'might', 'same', 'forty', 'formerly', 'by', 'once', 'even', 'fifteen', 'yours', 'somewhere', 'hundred', 'the', 'between', 'wherever', 'ours', 'system', 'however', 'sixty', 'cant', 'neither', 'thereby', 'us', 'being', 'its', 'while', 'her', 'toward', 'has', 'that', 'on', 'therein', 'side', 'among', 'becomes', 'for', 'during', 'these', 'via', 'mostly', 'several', 'here', 'none', 'your', 'each', 'after', 'third', 'etc', 'ourselves', 'hasnt', 'some', 'as', 'full', 'must', 'upon', 'amount', 'those', 'then', 'back', 'former', 'whatever', 'nine', 'sincere', 'another', 'how', 'now', 'also', 'them', 'show', 'again', 'until', 'whole', 'everything', 'more', 'about', 'everywhere', 'nowhere', 'towards', 'together', 'and', 'part', 'beforehand', 'may', 'therefore', 'one', 'cannot', 'herein', 'almost', 'perhaps', 'anything', 'front', 'con', 'otherwise', 'describe', 'whence', 'herself', 'detail', 'whether', 'when', 'serious', 'something', 'was', 'twenty', 'nevertheless', 'without', 'such', 'eight', 'into', 'see', 'had', 'she', 'couldnt', 'all', 'bill', 'over', 'would', 'throughout', 'empty', 'somehow', 'they', 'nobody', 'becoming', 'move', 'please', 'up', 'since', 'thereupon', 'in', 'often', 'hers', 'first', 'have', 'became', 'than', 'always', 'cry', 'ie', 'rather', 'above', 'put', 'either', 'to', 'last', 'moreover', 'thick', 'be', 'been', 'seems', 'amongst', 'anywhere', 'else', 'before', 'can', 'not', 'he', 'find', 'thus', 'whereas', 'i', 'myself', 'him', 'his', 'seem', 'is', 'under', 'it', 'three', 'enough', 'me', 'though', 'still', 'whom', 'alone', 'noone', 'mill', 'anyhow', 'onto', 'only', 'am', 'whose', 'himself', 'although', 'most', 'others', 'inc', 'further', 'twelve', 'you', 'were', 'made', 'anyway', 'ltd', 'latter', 'eleven', 'nothing', 'besides', 'latterly', 'no', 'well', 'never', 'few', 'four', 'get', 'many', 'take', 'hence', 'should', 'found', 'sometime', 'will', 'fifty', 'own', 'five', 'there', 'thereafter', 'both', 're', 'elsewhere', 'our', 'a', 'yet', 'out', 'mine', 'themselves', 'whoever', 'everyone', 'call', 'below', 'much', 'through', 'six', 'already', 'de', 'beyond', 'of', 'name', 'behind', 'go'})\n"
     ]
    },
    {
     "name": "stderr",
     "output_type": "stream",
     "text": [
      "/opt/anaconda3/lib/python3.7/site-packages/sklearn/utils/deprecation.py:144: FutureWarning: The sklearn.feature_extraction.stop_words module is  deprecated in version 0.22 and will be removed in version 0.24. The corresponding classes / functions should instead be imported from sklearn.feature_extraction.text. Anything that cannot be imported from sklearn.feature_extraction.text is now part of the private API.\n",
      "  warnings.warn(message, FutureWarning)\n"
     ]
    }
   ],
   "source": [
    "from sklearn.feature_extraction import stop_words\n",
    "print(stop_words.ENGLISH_STOP_WORDS)"
   ]
  },
  {
   "cell_type": "markdown",
   "metadata": {},
   "source": [
    "You should have seen a large list of words that looks like:\n",
    "\n",
    "```frozenset({'across', 'mine', 'cannot', ...})```\n",
    "\n",
    "`frozenset` is a type of Python object that is immutable. In this lab you can use it just like an array (list) without conversion."
   ]
  },
  {
   "cell_type": "markdown",
   "metadata": {},
   "source": [
    "Next, test your function with supplying `stop_words.ENGLISH_STOP_WORDS` as the second parameter."
   ]
  },
  {
   "cell_type": "code",
   "execution_count": 6,
   "metadata": {},
   "outputs": [
    {
     "name": "stdout",
     "output_type": "stream",
     "text": [
      "{'bag_of_words': ['cool', 'is', 'ironhack', 'i', 'a', 'at', 'love', 'am', 'student'], 'term_freq': [1, 1, 1, 0, 0, 0, 0, 0, 0]}\n"
     ]
    }
   ],
   "source": [
    "bow = get_bow_from_docs(a_corpus, stop_words.ENGLISH_STOP_WORDS)\n",
    "\n",
    "print(bow)"
   ]
  },
  {
   "cell_type": "markdown",
   "metadata": {},
   "source": [
    "You should have seen:\n",
    "\n",
    "```{'bag_of_words': ['ironhack', 'cool', 'love', 'student'], 'term_freq': [[1, 1, 0, 0], [1, 0, 1, 0], [1, 0, 0, 1]]}```"
   ]
  },
  {
   "cell_type": "code",
   "execution_count": null,
   "metadata": {},
   "outputs": [],
   "source": []
  }
 ],
 "metadata": {
  "kernelspec": {
   "display_name": "Python 3",
   "language": "python",
   "name": "python3"
  },
  "language_info": {
   "codemirror_mode": {
    "name": "ipython",
    "version": 3
   },
   "file_extension": ".py",
   "mimetype": "text/x-python",
   "name": "python",
   "nbconvert_exporter": "python",
   "pygments_lexer": "ipython3",
   "version": "3.7.6"
  }
 },
 "nbformat": 4,
 "nbformat_minor": 2
}
