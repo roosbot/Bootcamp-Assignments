{
 "cells": [
  {
   "cell_type": "markdown",
   "metadata": {},
   "source": [
    "In the cell below, create a Python function that creates a Bag of Words.\n",
    "\n",
    "Requirements:\n",
    "\n",
    "1. Your function should accept the following parameters:\n",
    "    * `corpus` [REQUIRED] - list of strings.\n",
    "    * `stop_words` [OPTIONAL] - array of stop words. The default value is an empty array.\n",
    "\n",
    "1. Your function should return a Python object that contains the following:\n",
    "    * `bag_of_words` - array of strings of normalized unique words in the corpus.\n",
    "    * `term_freq` - array of the term-frequency vectors."
   ]
  },
  {
   "cell_type": "code",
   "execution_count": 1,
   "metadata": {},
   "outputs": [],
   "source": [
    "# # Import required libraries\n",
    "# import re\n",
    "\n",
    "# # Define function\n",
    "# def get_bow_from_docs(corpus, stop_words=[]):\n",
    "    \n",
    "#     # In the function, first define the variables you will use such as `corpus`, `bag_of_words`, and `term_freq`.\n",
    "    \n",
    "#     \"\"\"\n",
    "#     Convert corpus to lowercases and remove punctuation.\n",
    "#     \"\"\"\n",
    "        \n",
    "#     \"\"\"\n",
    "#     Loop `corpus`. Append the individual words in each doc into the `bag_of_words` array. The terms in `bag_of_words` \n",
    "#     should be unique which means before adding each term you need to check if it's already added to the array.\n",
    "#     In addition, check if each term is in the `stop_words` array. Only append the term to `bag_of_words`\n",
    "#     if it is not a stop word.\n",
    "#     \"\"\"\n",
    "    \n",
    "    \n",
    "#     \"\"\"\n",
    "#     Loop `corpus` again. For each doc string, count the number of occurrences of each term in `bag_of_words`. \n",
    "#     Create an array for each doc's term frequency and append it to `term_freq`.\n",
    "#     \"\"\"\n",
    "    \n",
    "#     # Now return your output as an object\n",
    "#     return {\n",
    "#         \"bag_of_words\": bag_of_words,\n",
    "#         \"term_freq\": term_freq,\n",
    "#         \"corpus\": corpus,\n",
    "#         \"corpus_copy\": corpus_copy,\n",
    "#         \"corpus_edit\": corpus_edit\n",
    "#     }\n",
    "    "
   ]
  },
  {
   "cell_type": "code",
   "execution_count": 7,
   "metadata": {},
   "outputs": [],
   "source": [
    "# Import required libraries\n",
    "import re\n",
    "\n",
    "# Define function\n",
    "def get_bow_from_docs(corpus, stop_words=[]):\n",
    "    \n",
    "    # In the function, first define the variables you will use such as `corpus`, `bag_of_words`, and `term_freq`.\n",
    "    bag_of_words = []\n",
    "    term_freq = []\n",
    "    corpus_clean = []\n",
    "    corpus_0 = []\n",
    "    count_0 = \"\"\n",
    "        \n",
    "    # Here I convert corpus to lowercases and remove punctuation\n",
    "    for words in corpus:\n",
    "        corpus_clean.append(re.sub('[^\\w\\s]','',words).lower())   \n",
    "    \n",
    "    \n",
    "    # Here I select only the first element of the list\n",
    "    corpus_0.append(corpus_clean[0])\n",
    "    # Here I split the sentence in seperate words\n",
    "    corpus_0 = ', '.join(corpus_0).split()\n",
    "    \n",
    "    \"\"\"\n",
    "    Loop `corpus`. Append the individual words in each doc into the `bag_of_words` array. The terms in `bag_of_words` \n",
    "    should be unique which means before adding each term you need to check if it's already added to the array.\n",
    "    In addition, check if each term is in the `stop_words` array. Only append the term to `bag_of_words`\n",
    "    if it is not a stop word.\n",
    "    \"\"\"\n",
    "    \n",
    "    # Here I split the sentence in seperate words\n",
    "    bag_of_words = ' '.join(corpus_clean).split()\n",
    "    # insert the list -> set (to make it unique)\n",
    "    bag_of_words = set(bag_of_words)\n",
    "    # convert the set -> list (to make it unique)\n",
    "    bag_of_words = (list(bag_of_words))\n",
    "    \n",
    "\n",
    "    # Loop corpus: Here I count the words in corpus_0 that occur in bag_of_words\n",
    "    for words in bag_of_words:\n",
    "        count_0 = (corpus_0.count(words))\n",
    "        term_freq.append(count_0)\n",
    "    \n",
    "    \n",
    "    # Now return your output as an object\n",
    "    return {\n",
    "        \"bag_of_words\": bag_of_words,\n",
    "        \"term_freq\": term_freq,\n",
    "    }"
   ]
  },
  {
   "cell_type": "markdown",
   "metadata": {},
   "source": [
    "Test your function without stop words. You should see the output like below:\n",
    "\n",
    "```{'bag_of_words': ['ironhack', 'is', 'cool', 'i', 'love', 'am', 'a', 'student', 'at'], 'term_freq': [[1, 1, 1, 0, 0, 0, 0, 0, 0], [1, 0, 0, 1, 1, 0, 0, 0, 0], [1, 0, 0, 1, 0, 1, 1, 1, 1]]}```"
   ]
  },
  {
   "cell_type": "code",
   "execution_count": 8,
   "metadata": {},
   "outputs": [
    {
     "name": "stdout",
     "output_type": "stream",
     "text": [
      "{'bag_of_words': ['is', 'am', 'cool', 'a', 'love', 'student', 'i', 'at', 'ironhack'], 'term_freq': [1, 0, 1, 0, 0, 0, 0, 0, 1]}\n"
     ]
    }
   ],
   "source": [
    "# Define the corpus list\n",
    "a_corpus = ['Ironhack is Cool!', 'I love Ironhack', 'I am a student at Ironhack.']\n",
    "\n",
    "# Obtain BoW from your function\n",
    "bow = get_bow_from_docs(a_corpus)\n",
    "\n",
    "# Print BoW\n",
    "print(bow)"
   ]
  },
  {
   "cell_type": "code",
   "execution_count": null,
   "metadata": {},
   "outputs": [],
   "source": [
    "# I can't seem to find how o add the other parts of the corpus :(\n",
    "#     print(\"Corpus_clean\", corpus_clean)\n",
    "#     print(\"Corpus_0\", corpus_0)\n",
    "#     print(\"Bag_of_words\", bag_of_words)"
   ]
  },
  {
   "cell_type": "code",
   "execution_count": 9,
   "metadata": {},
   "outputs": [
    {
     "name": "stdout",
     "output_type": "stream",
     "text": [
      "frozenset({'over', 'ten', 'serious', 'two', 'through', 'cannot', 'that', 'you', 'into', 'namely', 'mostly', 'ourselves', 'none', 'whence', 'other', 'somewhere', 'is', 'became', 'with', 'much', 'seems', 'within', 'are', 'full', 'moreover', 'these', 'our', 'yourselves', 'four', 'take', 'above', 'seemed', 'yours', 'six', 'front', 'if', 'had', 'in', 'indeed', 'same', 'its', 'thereafter', 'fifteen', 'no', 'thereby', 'another', 'here', 'else', 'eight', 'have', 'beyond', 'me', 'thus', 'latterly', 'most', 'why', 'then', 'three', 'will', 'who', 'everything', 'de', 'your', 'noone', 'also', 'during', 'be', 'could', 'again', 'for', 'but', 'which', 'find', 'being', 'nine', 'nevertheless', 'thru', 'made', 'several', 'therein', 'third', 'un', 'whose', 'empty', 'do', 'on', 'once', 'fire', 'his', 'nothing', 'towards', 'than', 'afterwards', 'hereafter', 'seeming', 'before', 'always', 'both', 'go', 'hundred', 'such', 'ie', 'onto', 'sixty', 'because', 'call', 'further', 'i', 'whether', 'amongst', 'elsewhere', 'he', 'yourself', 'hers', 'us', 'whoever', 'amoungst', 'few', 'mill', 'more', 'between', 'yet', 'was', 'many', 'after', 'am', 'until', 'anyway', 'up', 'about', 'thin', 'even', 'cant', 'off', 'sometime', 'only', 'it', 'therefore', 'besides', 'least', 'ever', 'own', 'must', 'detail', 'rather', 'them', 'name', 'nobody', 'she', 'show', 'although', 'seem', 'from', 'out', 'can', 'how', 'herein', 'might', 'often', 'across', 'all', 'nor', 'upon', 'eleven', 'been', 'last', 'too', 'down', 'anyhow', 'may', 'system', 'something', 'formerly', 'move', 'well', 'except', 'the', 'nowhere', 'others', 'amount', 'thick', 'their', 'get', 'herself', 'however', 'themselves', 'top', 'anywhere', 'etc', 'ltd', 'whenever', 'itself', 'they', 'hence', 'interest', 'give', 'himself', 'has', 'bottom', 'latter', 'side', 'see', 'sincere', 'among', 'myself', 'so', 'per', 'each', 'any', 'five', 'some', 'beforehand', 'cry', 'since', 'wherein', 'those', 're', 'him', 'twenty', 'someone', 'becomes', 'found', 'not', 'neither', 'anything', 'sometimes', 'done', 'mine', 'either', 'hasnt', 'inc', 'please', 'describe', 'to', 'former', 'co', 'should', 'ours', 'this', 'otherwise', 'whereafter', 'where', 'whither', 'throughout', 'fill', 'whereupon', 'whatever', 'now', 'or', 'whole', 'via', 'by', 'a', 'forty', 'next', 'couldnt', 'were', 'as', 'whom', 'without', 'along', 'behind', 'alone', 'becoming', 'what', 'twelve', 'con', 'thereupon', 'already', 'whereas', 'against', 'when', 'around', 'thence', 'part', 'perhaps', 'wherever', 'first', 'anyone', 'put', 'everywhere', 'of', 'and', 'less', 'there', 'beside', 'almost', 'toward', 'hereby', 'somehow', 'her', 'while', 'we', 'meanwhile', 'fifty', 'everyone', 'one', 'together', 'though', 'due', 'very', 'become', 'every', 'bill', 'whereby', 'an', 'my', 'back', 'below', 'under', 'still', 'keep', 'never', 'hereupon', 'would', 'enough', 'at', 'eg'})\n"
     ]
    },
    {
     "name": "stderr",
     "output_type": "stream",
     "text": [
      "/opt/anaconda3/lib/python3.7/site-packages/sklearn/utils/deprecation.py:144: FutureWarning: The sklearn.feature_extraction.stop_words module is  deprecated in version 0.22 and will be removed in version 0.24. The corresponding classes / functions should instead be imported from sklearn.feature_extraction.text. Anything that cannot be imported from sklearn.feature_extraction.text is now part of the private API.\n",
      "  warnings.warn(message, FutureWarning)\n"
     ]
    }
   ],
   "source": [
    "from sklearn.feature_extraction import stop_words\n",
    "print(stop_words.ENGLISH_STOP_WORDS)"
   ]
  },
  {
   "cell_type": "markdown",
   "metadata": {},
   "source": [
    "You should have seen a large list of words that looks like:\n",
    "\n",
    "```frozenset({'across', 'mine', 'cannot', ...})```\n",
    "\n",
    "`frozenset` is a type of Python object that is immutable. In this lab you can use it just like an array (list) without conversion."
   ]
  },
  {
   "cell_type": "markdown",
   "metadata": {},
   "source": [
    "Next, test your function with supplying `stop_words.ENGLISH_STOP_WORDS` as the second parameter."
   ]
  },
  {
   "cell_type": "code",
   "execution_count": 10,
   "metadata": {},
   "outputs": [
    {
     "name": "stdout",
     "output_type": "stream",
     "text": [
      "{'bag_of_words': ['term_freq', 'bag_of_words'], 'term_freq': [0, 1]}\n"
     ]
    }
   ],
   "source": [
    "bow = get_bow_from_docs(bow, stop_words.ENGLISH_STOP_WORDS)\n",
    "\n",
    "print(bow)"
   ]
  },
  {
   "cell_type": "markdown",
   "metadata": {},
   "source": [
    "You should have seen:\n",
    "\n",
    "```{'bag_of_words': ['ironhack', 'cool', 'love', 'student'], 'term_freq': [[1, 1, 0, 0], [1, 0, 1, 0], [1, 0, 0, 1]]}```"
   ]
  },
  {
   "cell_type": "code",
   "execution_count": null,
   "metadata": {},
   "outputs": [],
   "source": []
  }
 ],
 "metadata": {
  "kernelspec": {
   "display_name": "Python 3",
   "language": "python",
   "name": "python3"
  },
  "language_info": {
   "codemirror_mode": {
    "name": "ipython",
    "version": 3
   },
   "file_extension": ".py",
   "mimetype": "text/x-python",
   "name": "python",
   "nbconvert_exporter": "python",
   "pygments_lexer": "ipython3",
   "version": "3.7.6"
  }
 },
 "nbformat": 4,
 "nbformat_minor": 2
}
