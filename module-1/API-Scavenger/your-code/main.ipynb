{
 "cells": [
  {
   "cell_type": "markdown",
   "metadata": {},
   "source": [
    "# API Scavenger Game\n",
    "\n",
    "## Challenge 1: Fork Languages\n",
    "\n",
    "You will find out how many programming languages are used among all the forks created from the main lab repo of your bootcamp."
   ]
  },
  {
   "cell_type": "code",
   "execution_count": 27,
   "metadata": {},
   "outputs": [],
   "source": [
    "# import libraries here\n",
    "import json\n",
    "import requests\n",
    "import pandas as pd\n",
    "from pandas import json_normalize"
   ]
  },
  {
   "cell_type": "code",
   "execution_count": 33,
   "metadata": {},
   "outputs": [],
   "source": [
    "username = 'roosbot'\n",
    "token = 'jVvkmT2vUa6ThcE'\n",
    "\n",
    "# response = requests.get('https://api.github.com/user/repos?page=2&per_page=3', auth=(username,token))\n",
    "# data = pd.DataFrame(response.json())\n",
    "# data"
   ]
  },
  {
   "cell_type": "markdown",
   "metadata": {},
   "source": [
    "Assuming the main lab repo is ironhack-datalabs/madrid-oct-2018, you will:\n",
    "\n",
    "#### 1. Obtain the full list of forks created from the main lab repo via Github API."
   ]
  },
  {
   "cell_type": "code",
   "execution_count": 41,
   "metadata": {},
   "outputs": [
    {
     "name": "stdout",
     "output_type": "stream",
     "text": [
      "<Response [200]>\n",
      "30\n"
     ]
    }
   ],
   "source": [
    "url_base = 'https://api.github.com/repos/'\n",
    "owner = 'ironhack-datalabs/'\n",
    "repo = 'dataV2-labs/'\n",
    "pagenr = 'forks?page='\n",
    "sublist = []\n",
    "i = 1\n",
    "\n",
    "# Building the request\n",
    "response = requests.get(url_base + owner + repo + pagenr + str(i), auth=(username,token))\n",
    "\n",
    "# while len(response_json)>0:\n",
    "#     response = \n",
    "\n",
    "print(response)\n",
    "response_json = response.json()\n",
    "print(len(response_json))"
   ]
  },
  {
   "cell_type": "code",
   "execution_count": null,
   "metadata": {},
   "outputs": [],
   "source": []
  },
  {
   "cell_type": "code",
   "execution_count": 31,
   "metadata": {},
   "outputs": [
    {
     "ename": "TypeError",
     "evalue": "list indices must be integers or slices, not str",
     "output_type": "error",
     "traceback": [
      "\u001b[0;31m---------------------------------------------------------------------------\u001b[0m",
      "\u001b[0;31mTypeError\u001b[0m                                 Traceback (most recent call last)",
      "\u001b[0;32m<ipython-input-31-dccf247e5772>\u001b[0m in \u001b[0;36m<module>\u001b[0;34m\u001b[0m\n\u001b[1;32m      1\u001b[0m \u001b[0mresponse\u001b[0m \u001b[0;34m=\u001b[0m \u001b[0mrequests\u001b[0m\u001b[0;34m.\u001b[0m\u001b[0mget\u001b[0m\u001b[0;34m(\u001b[0m\u001b[0;34m\"https://api.github.com/repos/ironhack-datalabs/dataV2-labs/forks\"\u001b[0m\u001b[0;34m)\u001b[0m\u001b[0;34m\u001b[0m\u001b[0;34m\u001b[0m\u001b[0m\n\u001b[1;32m      2\u001b[0m \u001b[0mdata\u001b[0m \u001b[0;34m=\u001b[0m \u001b[0mresponse\u001b[0m\u001b[0;34m.\u001b[0m\u001b[0mjson\u001b[0m\u001b[0;34m(\u001b[0m\u001b[0;34m)\u001b[0m\u001b[0;34m\u001b[0m\u001b[0;34m\u001b[0m\u001b[0m\n\u001b[0;32m----> 3\u001b[0;31m \u001b[0mnum_pages\u001b[0m \u001b[0;34m=\u001b[0m \u001b[0mdata\u001b[0m\u001b[0;34m[\u001b[0m\u001b[0;34m\"last_page\"\u001b[0m\u001b[0;34m]\u001b[0m\u001b[0;34m\u001b[0m\u001b[0;34m\u001b[0m\u001b[0m\n\u001b[0m\u001b[1;32m      4\u001b[0m \u001b[0;34m\u001b[0m\u001b[0m\n\u001b[1;32m      5\u001b[0m \u001b[0;34m\u001b[0m\u001b[0m\n",
      "\u001b[0;31mTypeError\u001b[0m: list indices must be integers or slices, not str"
     ]
    }
   ],
   "source": [
    "response = requests.get(\"https://api.github.com/repos/ironhack-datalabs/dataV2-labs/forks\")\n",
    "data = response.json()\n",
    "num_pages = data[\"last_page\"]\n",
    "\n",
    "\n",
    "for page in range(2, num_pages + 1):\n",
    "    data = requests.get(\"https://api.github.com/repos/ironhack-datalabs/dataV2-labs/forks\", params={'page': page}).json()\n",
    "    print(data[\"page\"])\n",
    "\n",
    "\n",
    "# while data['next'] is not None:\n",
    "#     print(\"Next page found, downloading\", data['next'])\n",
    "#     response = requests.get(data['next'])\n",
    "#     data = response.json()\n",
    "# data"
   ]
  },
  {
   "cell_type": "markdown",
   "metadata": {},
   "source": [
    "To list forks, we can use the GET method. As explained in the GitHub API documentation, we need to make the request to: GET /repos/:owner/:repo/forks."
   ]
  },
  {
   "cell_type": "code",
   "execution_count": 32,
   "metadata": {},
   "outputs": [
    {
     "data": {
      "text/html": [
       "<div>\n",
       "<style scoped>\n",
       "    .dataframe tbody tr th:only-of-type {\n",
       "        vertical-align: middle;\n",
       "    }\n",
       "\n",
       "    .dataframe tbody tr th {\n",
       "        vertical-align: top;\n",
       "    }\n",
       "\n",
       "    .dataframe thead th {\n",
       "        text-align: right;\n",
       "    }\n",
       "</style>\n",
       "<table border=\"1\" class=\"dataframe\">\n",
       "  <thead>\n",
       "    <tr style=\"text-align: right;\">\n",
       "      <th></th>\n",
       "      <th>id</th>\n",
       "      <th>node_id</th>\n",
       "      <th>name</th>\n",
       "      <th>full_name</th>\n",
       "      <th>private</th>\n",
       "      <th>html_url</th>\n",
       "      <th>description</th>\n",
       "      <th>fork</th>\n",
       "      <th>url</th>\n",
       "      <th>forks_url</th>\n",
       "      <th>...</th>\n",
       "      <th>owner.following_url</th>\n",
       "      <th>owner.gists_url</th>\n",
       "      <th>owner.starred_url</th>\n",
       "      <th>owner.subscriptions_url</th>\n",
       "      <th>owner.organizations_url</th>\n",
       "      <th>owner.repos_url</th>\n",
       "      <th>owner.events_url</th>\n",
       "      <th>owner.received_events_url</th>\n",
       "      <th>owner.type</th>\n",
       "      <th>owner.site_admin</th>\n",
       "    </tr>\n",
       "  </thead>\n",
       "  <tbody>\n",
       "    <tr>\n",
       "      <th>0</th>\n",
       "      <td>216897595</td>\n",
       "      <td>MDEwOlJlcG9zaXRvcnkyMTY4OTc1OTU=</td>\n",
       "      <td>dataV2-labs</td>\n",
       "      <td>haggarw3/dataV2-labs</td>\n",
       "      <td>False</td>\n",
       "      <td>https://github.com/haggarw3/dataV2-labs</td>\n",
       "      <td>None</td>\n",
       "      <td>True</td>\n",
       "      <td>https://api.github.com/repos/haggarw3/dataV2-labs</td>\n",
       "      <td>https://api.github.com/repos/haggarw3/dataV2-l...</td>\n",
       "      <td>...</td>\n",
       "      <td>https://api.github.com/users/haggarw3/followin...</td>\n",
       "      <td>https://api.github.com/users/haggarw3/gists{/g...</td>\n",
       "      <td>https://api.github.com/users/haggarw3/starred{...</td>\n",
       "      <td>https://api.github.com/users/haggarw3/subscrip...</td>\n",
       "      <td>https://api.github.com/users/haggarw3/orgs</td>\n",
       "      <td>https://api.github.com/users/haggarw3/repos</td>\n",
       "      <td>https://api.github.com/users/haggarw3/events{/...</td>\n",
       "      <td>https://api.github.com/users/haggarw3/received...</td>\n",
       "      <td>User</td>\n",
       "      <td>False</td>\n",
       "    </tr>\n",
       "    <tr>\n",
       "      <th>1</th>\n",
       "      <td>215970459</td>\n",
       "      <td>MDEwOlJlcG9zaXRvcnkyMTU5NzA0NTk=</td>\n",
       "      <td>dataV2-labs</td>\n",
       "      <td>Slavulyaa/dataV2-labs</td>\n",
       "      <td>False</td>\n",
       "      <td>https://github.com/Slavulyaa/dataV2-labs</td>\n",
       "      <td>None</td>\n",
       "      <td>True</td>\n",
       "      <td>https://api.github.com/repos/Slavulyaa/dataV2-...</td>\n",
       "      <td>https://api.github.com/repos/Slavulyaa/dataV2-...</td>\n",
       "      <td>...</td>\n",
       "      <td>https://api.github.com/users/Slavulyaa/followi...</td>\n",
       "      <td>https://api.github.com/users/Slavulyaa/gists{/...</td>\n",
       "      <td>https://api.github.com/users/Slavulyaa/starred...</td>\n",
       "      <td>https://api.github.com/users/Slavulyaa/subscri...</td>\n",
       "      <td>https://api.github.com/users/Slavulyaa/orgs</td>\n",
       "      <td>https://api.github.com/users/Slavulyaa/repos</td>\n",
       "      <td>https://api.github.com/users/Slavulyaa/events{...</td>\n",
       "      <td>https://api.github.com/users/Slavulyaa/receive...</td>\n",
       "      <td>User</td>\n",
       "      <td>False</td>\n",
       "    </tr>\n",
       "    <tr>\n",
       "      <th>2</th>\n",
       "      <td>215567399</td>\n",
       "      <td>MDEwOlJlcG9zaXRvcnkyMTU1NjczOTk=</td>\n",
       "      <td>dataV2-labs</td>\n",
       "      <td>MelineM/dataV2-labs</td>\n",
       "      <td>False</td>\n",
       "      <td>https://github.com/MelineM/dataV2-labs</td>\n",
       "      <td>None</td>\n",
       "      <td>True</td>\n",
       "      <td>https://api.github.com/repos/MelineM/dataV2-labs</td>\n",
       "      <td>https://api.github.com/repos/MelineM/dataV2-la...</td>\n",
       "      <td>...</td>\n",
       "      <td>https://api.github.com/users/MelineM/following...</td>\n",
       "      <td>https://api.github.com/users/MelineM/gists{/gi...</td>\n",
       "      <td>https://api.github.com/users/MelineM/starred{/...</td>\n",
       "      <td>https://api.github.com/users/MelineM/subscript...</td>\n",
       "      <td>https://api.github.com/users/MelineM/orgs</td>\n",
       "      <td>https://api.github.com/users/MelineM/repos</td>\n",
       "      <td>https://api.github.com/users/MelineM/events{/p...</td>\n",
       "      <td>https://api.github.com/users/MelineM/received_...</td>\n",
       "      <td>User</td>\n",
       "      <td>False</td>\n",
       "    </tr>\n",
       "    <tr>\n",
       "      <th>3</th>\n",
       "      <td>215323533</td>\n",
       "      <td>MDEwOlJlcG9zaXRvcnkyMTUzMjM1MzM=</td>\n",
       "      <td>dataV2-labs</td>\n",
       "      <td>CLeila/dataV2-labs</td>\n",
       "      <td>False</td>\n",
       "      <td>https://github.com/CLeila/dataV2-labs</td>\n",
       "      <td>None</td>\n",
       "      <td>True</td>\n",
       "      <td>https://api.github.com/repos/CLeila/dataV2-labs</td>\n",
       "      <td>https://api.github.com/repos/CLeila/dataV2-lab...</td>\n",
       "      <td>...</td>\n",
       "      <td>https://api.github.com/users/CLeila/following{...</td>\n",
       "      <td>https://api.github.com/users/CLeila/gists{/gis...</td>\n",
       "      <td>https://api.github.com/users/CLeila/starred{/o...</td>\n",
       "      <td>https://api.github.com/users/CLeila/subscriptions</td>\n",
       "      <td>https://api.github.com/users/CLeila/orgs</td>\n",
       "      <td>https://api.github.com/users/CLeila/repos</td>\n",
       "      <td>https://api.github.com/users/CLeila/events{/pr...</td>\n",
       "      <td>https://api.github.com/users/CLeila/received_e...</td>\n",
       "      <td>User</td>\n",
       "      <td>False</td>\n",
       "    </tr>\n",
       "    <tr>\n",
       "      <th>4</th>\n",
       "      <td>215323405</td>\n",
       "      <td>MDEwOlJlcG9zaXRvcnkyMTUzMjM0MDU=</td>\n",
       "      <td>dataV2-labs</td>\n",
       "      <td>Deepika-Vijay/dataV2-labs</td>\n",
       "      <td>False</td>\n",
       "      <td>https://github.com/Deepika-Vijay/dataV2-labs</td>\n",
       "      <td>None</td>\n",
       "      <td>True</td>\n",
       "      <td>https://api.github.com/repos/Deepika-Vijay/dat...</td>\n",
       "      <td>https://api.github.com/repos/Deepika-Vijay/dat...</td>\n",
       "      <td>...</td>\n",
       "      <td>https://api.github.com/users/Deepika-Vijay/fol...</td>\n",
       "      <td>https://api.github.com/users/Deepika-Vijay/gis...</td>\n",
       "      <td>https://api.github.com/users/Deepika-Vijay/sta...</td>\n",
       "      <td>https://api.github.com/users/Deepika-Vijay/sub...</td>\n",
       "      <td>https://api.github.com/users/Deepika-Vijay/orgs</td>\n",
       "      <td>https://api.github.com/users/Deepika-Vijay/repos</td>\n",
       "      <td>https://api.github.com/users/Deepika-Vijay/eve...</td>\n",
       "      <td>https://api.github.com/users/Deepika-Vijay/rec...</td>\n",
       "      <td>User</td>\n",
       "      <td>False</td>\n",
       "    </tr>\n",
       "    <tr>\n",
       "      <th>5</th>\n",
       "      <td>215267431</td>\n",
       "      <td>MDEwOlJlcG9zaXRvcnkyMTUyNjc0MzE=</td>\n",
       "      <td>dataV2-labs</td>\n",
       "      <td>archanaVi/dataV2-labs</td>\n",
       "      <td>False</td>\n",
       "      <td>https://github.com/archanaVi/dataV2-labs</td>\n",
       "      <td>None</td>\n",
       "      <td>True</td>\n",
       "      <td>https://api.github.com/repos/archanaVi/dataV2-...</td>\n",
       "      <td>https://api.github.com/repos/archanaVi/dataV2-...</td>\n",
       "      <td>...</td>\n",
       "      <td>https://api.github.com/users/archanaVi/followi...</td>\n",
       "      <td>https://api.github.com/users/archanaVi/gists{/...</td>\n",
       "      <td>https://api.github.com/users/archanaVi/starred...</td>\n",
       "      <td>https://api.github.com/users/archanaVi/subscri...</td>\n",
       "      <td>https://api.github.com/users/archanaVi/orgs</td>\n",
       "      <td>https://api.github.com/users/archanaVi/repos</td>\n",
       "      <td>https://api.github.com/users/archanaVi/events{...</td>\n",
       "      <td>https://api.github.com/users/archanaVi/receive...</td>\n",
       "      <td>User</td>\n",
       "      <td>False</td>\n",
       "    </tr>\n",
       "    <tr>\n",
       "      <th>0</th>\n",
       "      <td>216897595</td>\n",
       "      <td>MDEwOlJlcG9zaXRvcnkyMTY4OTc1OTU=</td>\n",
       "      <td>dataV2-labs</td>\n",
       "      <td>haggarw3/dataV2-labs</td>\n",
       "      <td>False</td>\n",
       "      <td>https://github.com/haggarw3/dataV2-labs</td>\n",
       "      <td>None</td>\n",
       "      <td>True</td>\n",
       "      <td>https://api.github.com/repos/haggarw3/dataV2-labs</td>\n",
       "      <td>https://api.github.com/repos/haggarw3/dataV2-l...</td>\n",
       "      <td>...</td>\n",
       "      <td>https://api.github.com/users/haggarw3/followin...</td>\n",
       "      <td>https://api.github.com/users/haggarw3/gists{/g...</td>\n",
       "      <td>https://api.github.com/users/haggarw3/starred{...</td>\n",
       "      <td>https://api.github.com/users/haggarw3/subscrip...</td>\n",
       "      <td>https://api.github.com/users/haggarw3/orgs</td>\n",
       "      <td>https://api.github.com/users/haggarw3/repos</td>\n",
       "      <td>https://api.github.com/users/haggarw3/events{/...</td>\n",
       "      <td>https://api.github.com/users/haggarw3/received...</td>\n",
       "      <td>User</td>\n",
       "      <td>False</td>\n",
       "    </tr>\n",
       "    <tr>\n",
       "      <th>1</th>\n",
       "      <td>215970459</td>\n",
       "      <td>MDEwOlJlcG9zaXRvcnkyMTU5NzA0NTk=</td>\n",
       "      <td>dataV2-labs</td>\n",
       "      <td>Slavulyaa/dataV2-labs</td>\n",
       "      <td>False</td>\n",
       "      <td>https://github.com/Slavulyaa/dataV2-labs</td>\n",
       "      <td>None</td>\n",
       "      <td>True</td>\n",
       "      <td>https://api.github.com/repos/Slavulyaa/dataV2-...</td>\n",
       "      <td>https://api.github.com/repos/Slavulyaa/dataV2-...</td>\n",
       "      <td>...</td>\n",
       "      <td>https://api.github.com/users/Slavulyaa/followi...</td>\n",
       "      <td>https://api.github.com/users/Slavulyaa/gists{/...</td>\n",
       "      <td>https://api.github.com/users/Slavulyaa/starred...</td>\n",
       "      <td>https://api.github.com/users/Slavulyaa/subscri...</td>\n",
       "      <td>https://api.github.com/users/Slavulyaa/orgs</td>\n",
       "      <td>https://api.github.com/users/Slavulyaa/repos</td>\n",
       "      <td>https://api.github.com/users/Slavulyaa/events{...</td>\n",
       "      <td>https://api.github.com/users/Slavulyaa/receive...</td>\n",
       "      <td>User</td>\n",
       "      <td>False</td>\n",
       "    </tr>\n",
       "    <tr>\n",
       "      <th>2</th>\n",
       "      <td>215567399</td>\n",
       "      <td>MDEwOlJlcG9zaXRvcnkyMTU1NjczOTk=</td>\n",
       "      <td>dataV2-labs</td>\n",
       "      <td>MelineM/dataV2-labs</td>\n",
       "      <td>False</td>\n",
       "      <td>https://github.com/MelineM/dataV2-labs</td>\n",
       "      <td>None</td>\n",
       "      <td>True</td>\n",
       "      <td>https://api.github.com/repos/MelineM/dataV2-labs</td>\n",
       "      <td>https://api.github.com/repos/MelineM/dataV2-la...</td>\n",
       "      <td>...</td>\n",
       "      <td>https://api.github.com/users/MelineM/following...</td>\n",
       "      <td>https://api.github.com/users/MelineM/gists{/gi...</td>\n",
       "      <td>https://api.github.com/users/MelineM/starred{/...</td>\n",
       "      <td>https://api.github.com/users/MelineM/subscript...</td>\n",
       "      <td>https://api.github.com/users/MelineM/orgs</td>\n",
       "      <td>https://api.github.com/users/MelineM/repos</td>\n",
       "      <td>https://api.github.com/users/MelineM/events{/p...</td>\n",
       "      <td>https://api.github.com/users/MelineM/received_...</td>\n",
       "      <td>User</td>\n",
       "      <td>False</td>\n",
       "    </tr>\n",
       "    <tr>\n",
       "      <th>3</th>\n",
       "      <td>215323533</td>\n",
       "      <td>MDEwOlJlcG9zaXRvcnkyMTUzMjM1MzM=</td>\n",
       "      <td>dataV2-labs</td>\n",
       "      <td>CLeila/dataV2-labs</td>\n",
       "      <td>False</td>\n",
       "      <td>https://github.com/CLeila/dataV2-labs</td>\n",
       "      <td>None</td>\n",
       "      <td>True</td>\n",
       "      <td>https://api.github.com/repos/CLeila/dataV2-labs</td>\n",
       "      <td>https://api.github.com/repos/CLeila/dataV2-lab...</td>\n",
       "      <td>...</td>\n",
       "      <td>https://api.github.com/users/CLeila/following{...</td>\n",
       "      <td>https://api.github.com/users/CLeila/gists{/gis...</td>\n",
       "      <td>https://api.github.com/users/CLeila/starred{/o...</td>\n",
       "      <td>https://api.github.com/users/CLeila/subscriptions</td>\n",
       "      <td>https://api.github.com/users/CLeila/orgs</td>\n",
       "      <td>https://api.github.com/users/CLeila/repos</td>\n",
       "      <td>https://api.github.com/users/CLeila/events{/pr...</td>\n",
       "      <td>https://api.github.com/users/CLeila/received_e...</td>\n",
       "      <td>User</td>\n",
       "      <td>False</td>\n",
       "    </tr>\n",
       "    <tr>\n",
       "      <th>4</th>\n",
       "      <td>215323405</td>\n",
       "      <td>MDEwOlJlcG9zaXRvcnkyMTUzMjM0MDU=</td>\n",
       "      <td>dataV2-labs</td>\n",
       "      <td>Deepika-Vijay/dataV2-labs</td>\n",
       "      <td>False</td>\n",
       "      <td>https://github.com/Deepika-Vijay/dataV2-labs</td>\n",
       "      <td>None</td>\n",
       "      <td>True</td>\n",
       "      <td>https://api.github.com/repos/Deepika-Vijay/dat...</td>\n",
       "      <td>https://api.github.com/repos/Deepika-Vijay/dat...</td>\n",
       "      <td>...</td>\n",
       "      <td>https://api.github.com/users/Deepika-Vijay/fol...</td>\n",
       "      <td>https://api.github.com/users/Deepika-Vijay/gis...</td>\n",
       "      <td>https://api.github.com/users/Deepika-Vijay/sta...</td>\n",
       "      <td>https://api.github.com/users/Deepika-Vijay/sub...</td>\n",
       "      <td>https://api.github.com/users/Deepika-Vijay/orgs</td>\n",
       "      <td>https://api.github.com/users/Deepika-Vijay/repos</td>\n",
       "      <td>https://api.github.com/users/Deepika-Vijay/eve...</td>\n",
       "      <td>https://api.github.com/users/Deepika-Vijay/rec...</td>\n",
       "      <td>User</td>\n",
       "      <td>False</td>\n",
       "    </tr>\n",
       "    <tr>\n",
       "      <th>5</th>\n",
       "      <td>215267431</td>\n",
       "      <td>MDEwOlJlcG9zaXRvcnkyMTUyNjc0MzE=</td>\n",
       "      <td>dataV2-labs</td>\n",
       "      <td>archanaVi/dataV2-labs</td>\n",
       "      <td>False</td>\n",
       "      <td>https://github.com/archanaVi/dataV2-labs</td>\n",
       "      <td>None</td>\n",
       "      <td>True</td>\n",
       "      <td>https://api.github.com/repos/archanaVi/dataV2-...</td>\n",
       "      <td>https://api.github.com/repos/archanaVi/dataV2-...</td>\n",
       "      <td>...</td>\n",
       "      <td>https://api.github.com/users/archanaVi/followi...</td>\n",
       "      <td>https://api.github.com/users/archanaVi/gists{/...</td>\n",
       "      <td>https://api.github.com/users/archanaVi/starred...</td>\n",
       "      <td>https://api.github.com/users/archanaVi/subscri...</td>\n",
       "      <td>https://api.github.com/users/archanaVi/orgs</td>\n",
       "      <td>https://api.github.com/users/archanaVi/repos</td>\n",
       "      <td>https://api.github.com/users/archanaVi/events{...</td>\n",
       "      <td>https://api.github.com/users/archanaVi/receive...</td>\n",
       "      <td>User</td>\n",
       "      <td>False</td>\n",
       "    </tr>\n",
       "  </tbody>\n",
       "</table>\n",
       "<p>12 rows × 90 columns</p>\n",
       "</div>"
      ],
      "text/plain": [
       "          id                           node_id         name  \\\n",
       "0  216897595  MDEwOlJlcG9zaXRvcnkyMTY4OTc1OTU=  dataV2-labs   \n",
       "1  215970459  MDEwOlJlcG9zaXRvcnkyMTU5NzA0NTk=  dataV2-labs   \n",
       "2  215567399  MDEwOlJlcG9zaXRvcnkyMTU1NjczOTk=  dataV2-labs   \n",
       "3  215323533  MDEwOlJlcG9zaXRvcnkyMTUzMjM1MzM=  dataV2-labs   \n",
       "4  215323405  MDEwOlJlcG9zaXRvcnkyMTUzMjM0MDU=  dataV2-labs   \n",
       "5  215267431  MDEwOlJlcG9zaXRvcnkyMTUyNjc0MzE=  dataV2-labs   \n",
       "0  216897595  MDEwOlJlcG9zaXRvcnkyMTY4OTc1OTU=  dataV2-labs   \n",
       "1  215970459  MDEwOlJlcG9zaXRvcnkyMTU5NzA0NTk=  dataV2-labs   \n",
       "2  215567399  MDEwOlJlcG9zaXRvcnkyMTU1NjczOTk=  dataV2-labs   \n",
       "3  215323533  MDEwOlJlcG9zaXRvcnkyMTUzMjM1MzM=  dataV2-labs   \n",
       "4  215323405  MDEwOlJlcG9zaXRvcnkyMTUzMjM0MDU=  dataV2-labs   \n",
       "5  215267431  MDEwOlJlcG9zaXRvcnkyMTUyNjc0MzE=  dataV2-labs   \n",
       "\n",
       "                   full_name  private  \\\n",
       "0       haggarw3/dataV2-labs    False   \n",
       "1      Slavulyaa/dataV2-labs    False   \n",
       "2        MelineM/dataV2-labs    False   \n",
       "3         CLeila/dataV2-labs    False   \n",
       "4  Deepika-Vijay/dataV2-labs    False   \n",
       "5      archanaVi/dataV2-labs    False   \n",
       "0       haggarw3/dataV2-labs    False   \n",
       "1      Slavulyaa/dataV2-labs    False   \n",
       "2        MelineM/dataV2-labs    False   \n",
       "3         CLeila/dataV2-labs    False   \n",
       "4  Deepika-Vijay/dataV2-labs    False   \n",
       "5      archanaVi/dataV2-labs    False   \n",
       "\n",
       "                                       html_url description  fork  \\\n",
       "0       https://github.com/haggarw3/dataV2-labs        None  True   \n",
       "1      https://github.com/Slavulyaa/dataV2-labs        None  True   \n",
       "2        https://github.com/MelineM/dataV2-labs        None  True   \n",
       "3         https://github.com/CLeila/dataV2-labs        None  True   \n",
       "4  https://github.com/Deepika-Vijay/dataV2-labs        None  True   \n",
       "5      https://github.com/archanaVi/dataV2-labs        None  True   \n",
       "0       https://github.com/haggarw3/dataV2-labs        None  True   \n",
       "1      https://github.com/Slavulyaa/dataV2-labs        None  True   \n",
       "2        https://github.com/MelineM/dataV2-labs        None  True   \n",
       "3         https://github.com/CLeila/dataV2-labs        None  True   \n",
       "4  https://github.com/Deepika-Vijay/dataV2-labs        None  True   \n",
       "5      https://github.com/archanaVi/dataV2-labs        None  True   \n",
       "\n",
       "                                                 url  \\\n",
       "0  https://api.github.com/repos/haggarw3/dataV2-labs   \n",
       "1  https://api.github.com/repos/Slavulyaa/dataV2-...   \n",
       "2   https://api.github.com/repos/MelineM/dataV2-labs   \n",
       "3    https://api.github.com/repos/CLeila/dataV2-labs   \n",
       "4  https://api.github.com/repos/Deepika-Vijay/dat...   \n",
       "5  https://api.github.com/repos/archanaVi/dataV2-...   \n",
       "0  https://api.github.com/repos/haggarw3/dataV2-labs   \n",
       "1  https://api.github.com/repos/Slavulyaa/dataV2-...   \n",
       "2   https://api.github.com/repos/MelineM/dataV2-labs   \n",
       "3    https://api.github.com/repos/CLeila/dataV2-labs   \n",
       "4  https://api.github.com/repos/Deepika-Vijay/dat...   \n",
       "5  https://api.github.com/repos/archanaVi/dataV2-...   \n",
       "\n",
       "                                           forks_url  ...  \\\n",
       "0  https://api.github.com/repos/haggarw3/dataV2-l...  ...   \n",
       "1  https://api.github.com/repos/Slavulyaa/dataV2-...  ...   \n",
       "2  https://api.github.com/repos/MelineM/dataV2-la...  ...   \n",
       "3  https://api.github.com/repos/CLeila/dataV2-lab...  ...   \n",
       "4  https://api.github.com/repos/Deepika-Vijay/dat...  ...   \n",
       "5  https://api.github.com/repos/archanaVi/dataV2-...  ...   \n",
       "0  https://api.github.com/repos/haggarw3/dataV2-l...  ...   \n",
       "1  https://api.github.com/repos/Slavulyaa/dataV2-...  ...   \n",
       "2  https://api.github.com/repos/MelineM/dataV2-la...  ...   \n",
       "3  https://api.github.com/repos/CLeila/dataV2-lab...  ...   \n",
       "4  https://api.github.com/repos/Deepika-Vijay/dat...  ...   \n",
       "5  https://api.github.com/repos/archanaVi/dataV2-...  ...   \n",
       "\n",
       "                                 owner.following_url  \\\n",
       "0  https://api.github.com/users/haggarw3/followin...   \n",
       "1  https://api.github.com/users/Slavulyaa/followi...   \n",
       "2  https://api.github.com/users/MelineM/following...   \n",
       "3  https://api.github.com/users/CLeila/following{...   \n",
       "4  https://api.github.com/users/Deepika-Vijay/fol...   \n",
       "5  https://api.github.com/users/archanaVi/followi...   \n",
       "0  https://api.github.com/users/haggarw3/followin...   \n",
       "1  https://api.github.com/users/Slavulyaa/followi...   \n",
       "2  https://api.github.com/users/MelineM/following...   \n",
       "3  https://api.github.com/users/CLeila/following{...   \n",
       "4  https://api.github.com/users/Deepika-Vijay/fol...   \n",
       "5  https://api.github.com/users/archanaVi/followi...   \n",
       "\n",
       "                                     owner.gists_url  \\\n",
       "0  https://api.github.com/users/haggarw3/gists{/g...   \n",
       "1  https://api.github.com/users/Slavulyaa/gists{/...   \n",
       "2  https://api.github.com/users/MelineM/gists{/gi...   \n",
       "3  https://api.github.com/users/CLeila/gists{/gis...   \n",
       "4  https://api.github.com/users/Deepika-Vijay/gis...   \n",
       "5  https://api.github.com/users/archanaVi/gists{/...   \n",
       "0  https://api.github.com/users/haggarw3/gists{/g...   \n",
       "1  https://api.github.com/users/Slavulyaa/gists{/...   \n",
       "2  https://api.github.com/users/MelineM/gists{/gi...   \n",
       "3  https://api.github.com/users/CLeila/gists{/gis...   \n",
       "4  https://api.github.com/users/Deepika-Vijay/gis...   \n",
       "5  https://api.github.com/users/archanaVi/gists{/...   \n",
       "\n",
       "                                   owner.starred_url  \\\n",
       "0  https://api.github.com/users/haggarw3/starred{...   \n",
       "1  https://api.github.com/users/Slavulyaa/starred...   \n",
       "2  https://api.github.com/users/MelineM/starred{/...   \n",
       "3  https://api.github.com/users/CLeila/starred{/o...   \n",
       "4  https://api.github.com/users/Deepika-Vijay/sta...   \n",
       "5  https://api.github.com/users/archanaVi/starred...   \n",
       "0  https://api.github.com/users/haggarw3/starred{...   \n",
       "1  https://api.github.com/users/Slavulyaa/starred...   \n",
       "2  https://api.github.com/users/MelineM/starred{/...   \n",
       "3  https://api.github.com/users/CLeila/starred{/o...   \n",
       "4  https://api.github.com/users/Deepika-Vijay/sta...   \n",
       "5  https://api.github.com/users/archanaVi/starred...   \n",
       "\n",
       "                             owner.subscriptions_url  \\\n",
       "0  https://api.github.com/users/haggarw3/subscrip...   \n",
       "1  https://api.github.com/users/Slavulyaa/subscri...   \n",
       "2  https://api.github.com/users/MelineM/subscript...   \n",
       "3  https://api.github.com/users/CLeila/subscriptions   \n",
       "4  https://api.github.com/users/Deepika-Vijay/sub...   \n",
       "5  https://api.github.com/users/archanaVi/subscri...   \n",
       "0  https://api.github.com/users/haggarw3/subscrip...   \n",
       "1  https://api.github.com/users/Slavulyaa/subscri...   \n",
       "2  https://api.github.com/users/MelineM/subscript...   \n",
       "3  https://api.github.com/users/CLeila/subscriptions   \n",
       "4  https://api.github.com/users/Deepika-Vijay/sub...   \n",
       "5  https://api.github.com/users/archanaVi/subscri...   \n",
       "\n",
       "                           owner.organizations_url  \\\n",
       "0       https://api.github.com/users/haggarw3/orgs   \n",
       "1      https://api.github.com/users/Slavulyaa/orgs   \n",
       "2        https://api.github.com/users/MelineM/orgs   \n",
       "3         https://api.github.com/users/CLeila/orgs   \n",
       "4  https://api.github.com/users/Deepika-Vijay/orgs   \n",
       "5      https://api.github.com/users/archanaVi/orgs   \n",
       "0       https://api.github.com/users/haggarw3/orgs   \n",
       "1      https://api.github.com/users/Slavulyaa/orgs   \n",
       "2        https://api.github.com/users/MelineM/orgs   \n",
       "3         https://api.github.com/users/CLeila/orgs   \n",
       "4  https://api.github.com/users/Deepika-Vijay/orgs   \n",
       "5      https://api.github.com/users/archanaVi/orgs   \n",
       "\n",
       "                                    owner.repos_url  \\\n",
       "0       https://api.github.com/users/haggarw3/repos   \n",
       "1      https://api.github.com/users/Slavulyaa/repos   \n",
       "2        https://api.github.com/users/MelineM/repos   \n",
       "3         https://api.github.com/users/CLeila/repos   \n",
       "4  https://api.github.com/users/Deepika-Vijay/repos   \n",
       "5      https://api.github.com/users/archanaVi/repos   \n",
       "0       https://api.github.com/users/haggarw3/repos   \n",
       "1      https://api.github.com/users/Slavulyaa/repos   \n",
       "2        https://api.github.com/users/MelineM/repos   \n",
       "3         https://api.github.com/users/CLeila/repos   \n",
       "4  https://api.github.com/users/Deepika-Vijay/repos   \n",
       "5      https://api.github.com/users/archanaVi/repos   \n",
       "\n",
       "                                    owner.events_url  \\\n",
       "0  https://api.github.com/users/haggarw3/events{/...   \n",
       "1  https://api.github.com/users/Slavulyaa/events{...   \n",
       "2  https://api.github.com/users/MelineM/events{/p...   \n",
       "3  https://api.github.com/users/CLeila/events{/pr...   \n",
       "4  https://api.github.com/users/Deepika-Vijay/eve...   \n",
       "5  https://api.github.com/users/archanaVi/events{...   \n",
       "0  https://api.github.com/users/haggarw3/events{/...   \n",
       "1  https://api.github.com/users/Slavulyaa/events{...   \n",
       "2  https://api.github.com/users/MelineM/events{/p...   \n",
       "3  https://api.github.com/users/CLeila/events{/pr...   \n",
       "4  https://api.github.com/users/Deepika-Vijay/eve...   \n",
       "5  https://api.github.com/users/archanaVi/events{...   \n",
       "\n",
       "                           owner.received_events_url owner.type  \\\n",
       "0  https://api.github.com/users/haggarw3/received...       User   \n",
       "1  https://api.github.com/users/Slavulyaa/receive...       User   \n",
       "2  https://api.github.com/users/MelineM/received_...       User   \n",
       "3  https://api.github.com/users/CLeila/received_e...       User   \n",
       "4  https://api.github.com/users/Deepika-Vijay/rec...       User   \n",
       "5  https://api.github.com/users/archanaVi/receive...       User   \n",
       "0  https://api.github.com/users/haggarw3/received...       User   \n",
       "1  https://api.github.com/users/Slavulyaa/receive...       User   \n",
       "2  https://api.github.com/users/MelineM/received_...       User   \n",
       "3  https://api.github.com/users/CLeila/received_e...       User   \n",
       "4  https://api.github.com/users/Deepika-Vijay/rec...       User   \n",
       "5  https://api.github.com/users/archanaVi/receive...       User   \n",
       "\n",
       "  owner.site_admin  \n",
       "0            False  \n",
       "1            False  \n",
       "2            False  \n",
       "3            False  \n",
       "4            False  \n",
       "5            False  \n",
       "0            False  \n",
       "1            False  \n",
       "2            False  \n",
       "3            False  \n",
       "4            False  \n",
       "5            False  \n",
       "\n",
       "[12 rows x 90 columns]"
      ]
     },
     "execution_count": 32,
     "metadata": {},
     "output_type": "execute_result"
    }
   ],
   "source": [
    "url = \"https://api.github.com/repos/ironhack-datalabs/dataV2-labs/forks\"\n",
    "result = []\n",
    "\n",
    "response = requests.get('{}?per_page=100'.format(url))\n",
    "paginated = response.json()\n",
    "while 'next' in response.links:\n",
    "    response = requests.get(response.links['next']['url'])\n",
    "    data = json_normalize(response.json())\n",
    "    result = data.append(data)\n",
    "result"
   ]
  },
  {
   "cell_type": "code",
   "execution_count": 22,
   "metadata": {},
   "outputs": [
    {
     "ename": "NameError",
     "evalue": "name 'data_result' is not defined",
     "output_type": "error",
     "traceback": [
      "\u001b[0;31m---------------------------------------------------------------------------\u001b[0m",
      "\u001b[0;31mNameError\u001b[0m                                 Traceback (most recent call last)",
      "\u001b[0;32m<ipython-input-22-909fc6e046f5>\u001b[0m in \u001b[0;36m<module>\u001b[0;34m\u001b[0m\n\u001b[1;32m      2\u001b[0m \u001b[0mx\u001b[0m \u001b[0;34m=\u001b[0m \u001b[0;36m0\u001b[0m\u001b[0;34m\u001b[0m\u001b[0;34m\u001b[0m\u001b[0m\n\u001b[1;32m      3\u001b[0m \u001b[0;34m\u001b[0m\u001b[0m\n\u001b[0;32m----> 4\u001b[0;31m \u001b[0;32mwhile\u001b[0m \u001b[0mx\u001b[0m \u001b[0;34m<\u001b[0m \u001b[0mlen\u001b[0m\u001b[0;34m(\u001b[0m\u001b[0mdata_result\u001b[0m\u001b[0;34m)\u001b[0m\u001b[0;34m:\u001b[0m\u001b[0;34m\u001b[0m\u001b[0;34m\u001b[0m\u001b[0m\n\u001b[0m\u001b[1;32m      5\u001b[0m     \u001b[0mresponse\u001b[0m \u001b[0;34m=\u001b[0m \u001b[0mrequests\u001b[0m\u001b[0;34m.\u001b[0m\u001b[0mget\u001b[0m\u001b[0;34m(\u001b[0m\u001b[0;34m\"https://api.github.com/repos/ironhack-datalabs/dataV2-labs/forks?page={x}&per_page=100\"\u001b[0m\u001b[0;34m,\u001b[0m \u001b[0mauth\u001b[0m\u001b[0;34m=\u001b[0m\u001b[0;34m(\u001b[0m\u001b[0musername\u001b[0m\u001b[0;34m,\u001b[0m\u001b[0mtoken\u001b[0m\u001b[0;34m)\u001b[0m\u001b[0;34m)\u001b[0m\u001b[0;34m\u001b[0m\u001b[0;34m\u001b[0m\u001b[0m\n\u001b[1;32m      6\u001b[0m     \u001b[0mdata_result\u001b[0m \u001b[0;34m=\u001b[0m \u001b[0mresponse\u001b[0m\u001b[0;34m.\u001b[0m\u001b[0mjson\u001b[0m\u001b[0;34m(\u001b[0m\u001b[0;34m)\u001b[0m\u001b[0;34m\u001b[0m\u001b[0;34m\u001b[0m\u001b[0m\n",
      "\u001b[0;31mNameError\u001b[0m: name 'data_result' is not defined"
     ]
    }
   ],
   "source": [
    "# Iterate through your range\n",
    "x = 0\n",
    "\n",
    "while x < len(data_result):\n",
    "    response = requests.get(\"https://api.github.com/repos/ironhack-datalabs/dataV2-labs/forks?page={x}&per_page=100\", auth=(username,token))\n",
    "    data_result = response.json()\n",
    "    data = data.append(data_result)\n",
    "    x += 1\n",
    "\n",
    "data_result"
   ]
  },
  {
   "cell_type": "code",
   "execution_count": 23,
   "metadata": {},
   "outputs": [
    {
     "ename": "NameError",
     "evalue": "name 'pd' is not defined",
     "output_type": "error",
     "traceback": [
      "\u001b[0;31m---------------------------------------------------------------------------\u001b[0m",
      "\u001b[0;31mNameError\u001b[0m                                 Traceback (most recent call last)",
      "\u001b[0;32m<ipython-input-23-f5d7d97c54d8>\u001b[0m in \u001b[0;36m<module>\u001b[0;34m\u001b[0m\n\u001b[1;32m      1\u001b[0m \u001b[0;31m# Iterate through your range\u001b[0m\u001b[0;34m\u001b[0m\u001b[0;34m\u001b[0m\u001b[0;34m\u001b[0m\u001b[0m\n\u001b[0;32m----> 2\u001b[0;31m \u001b[0mdata\u001b[0m \u001b[0;34m=\u001b[0m \u001b[0mpd\u001b[0m\u001b[0;34m.\u001b[0m\u001b[0mDataFrame\u001b[0m\u001b[0;34m(\u001b[0m\u001b[0;34m)\u001b[0m\u001b[0;34m\u001b[0m\u001b[0;34m\u001b[0m\u001b[0m\n\u001b[0m\u001b[1;32m      3\u001b[0m \u001b[0;32mfor\u001b[0m \u001b[0mx\u001b[0m \u001b[0;32min\u001b[0m \u001b[0mrange\u001b[0m\u001b[0;34m(\u001b[0m\u001b[0;36m2\u001b[0m\u001b[0;34m)\u001b[0m\u001b[0;34m:\u001b[0m\u001b[0;34m\u001b[0m\u001b[0;34m\u001b[0m\u001b[0m\n\u001b[1;32m      4\u001b[0m     \u001b[0mresponse\u001b[0m \u001b[0;34m=\u001b[0m \u001b[0mrequests\u001b[0m\u001b[0;34m.\u001b[0m\u001b[0mget\u001b[0m\u001b[0;34m(\u001b[0m\u001b[0;34m\"https://api.github.com/repos/ironhack-datalabs/dataV2-labs/forks?page={x}&per_page=100\"\u001b[0m\u001b[0;34m,\u001b[0m \u001b[0mauth\u001b[0m\u001b[0;34m=\u001b[0m\u001b[0;34m(\u001b[0m\u001b[0musername\u001b[0m\u001b[0;34m,\u001b[0m\u001b[0mtoken\u001b[0m\u001b[0;34m)\u001b[0m\u001b[0;34m)\u001b[0m\u001b[0;34m\u001b[0m\u001b[0;34m\u001b[0m\u001b[0m\n\u001b[1;32m      5\u001b[0m     \u001b[0mdata_result\u001b[0m \u001b[0;34m=\u001b[0m \u001b[0mpd\u001b[0m\u001b[0;34m.\u001b[0m\u001b[0mDataFrame\u001b[0m\u001b[0;34m(\u001b[0m\u001b[0mjson_normalize\u001b[0m\u001b[0;34m(\u001b[0m\u001b[0mresponse\u001b[0m\u001b[0;34m.\u001b[0m\u001b[0mjson\u001b[0m\u001b[0;34m(\u001b[0m\u001b[0;34m)\u001b[0m\u001b[0;34m)\u001b[0m\u001b[0;34m)\u001b[0m\u001b[0;34m\u001b[0m\u001b[0;34m\u001b[0m\u001b[0m\n",
      "\u001b[0;31mNameError\u001b[0m: name 'pd' is not defined"
     ]
    }
   ],
   "source": [
    "# Iterate through your range\n",
    "data = pd.DataFrame()\n",
    "for x in range(2):\n",
    "    response = requests.get(\"https://api.github.com/repos/ironhack-datalabs/dataV2-labs/forks?page={x}&per_page=100\", auth=(username,token))\n",
    "    data_result = pd.DataFrame(json_normalize(response.json()))\n",
    "    data = pd.concat([data, data_result], axis = 0).reset_index(drop=True)\n",
    "\n",
    "data"
   ]
  },
  {
   "cell_type": "markdown",
   "metadata": {},
   "source": [
    "#### 2. Loop the JSON response to find out the language attribute of each fork. Use an array to store the language attributes of each fork.\n",
    "Hint: Each language should appear only once in your array.\n",
    "Print the language array. It should be something like: [\"Python\", \"Jupyter Notebook\", \"HTML\"]"
   ]
  },
  {
   "cell_type": "code",
   "execution_count": 24,
   "metadata": {},
   "outputs": [
    {
     "data": {
      "text/plain": [
       "['Jupyter Notebook', None]"
      ]
     },
     "execution_count": 24,
     "metadata": {},
     "output_type": "execute_result"
    }
   ],
   "source": [
    "# your code here\n",
    "df_GitAPI = pd.DataFrame(flat_list)\n",
    "# Shows all columns. Here range 75 is used.\n",
    "pd.set_otion('display.max_columns', 75)\n",
    "df_GitAPI.head(3)\n",
    "# list(set(data[\"language\"]))\n",
    "df_GitAPI.language.unique()"
   ]
  },
  {
   "cell_type": "markdown",
   "metadata": {},
   "source": [
    "## Challenge 2: Count Commits\n",
    "Count how many commits were made in the month of october of 2018.\n",
    "#### 1. Obtain all the commits made in October 2018 via API, which is a JSON array that contains multiple commit objects."
   ]
  },
  {
   "cell_type": "code",
   "execution_count": 25,
   "metadata": {},
   "outputs": [
    {
     "ename": "NameError",
     "evalue": "name 'pd' is not defined",
     "output_type": "error",
     "traceback": [
      "\u001b[0;31m---------------------------------------------------------------------------\u001b[0m",
      "\u001b[0;31mNameError\u001b[0m                                 Traceback (most recent call last)",
      "\u001b[0;32m<ipython-input-25-d4344176bf83>\u001b[0m in \u001b[0;36m<module>\u001b[0;34m\u001b[0m\n\u001b[1;32m      1\u001b[0m \u001b[0;31m# Iterate through range\u001b[0m\u001b[0;34m\u001b[0m\u001b[0;34m\u001b[0m\u001b[0;34m\u001b[0m\u001b[0m\n\u001b[0;32m----> 2\u001b[0;31m \u001b[0mdata\u001b[0m \u001b[0;34m=\u001b[0m \u001b[0mpd\u001b[0m\u001b[0;34m.\u001b[0m\u001b[0mDataFrame\u001b[0m\u001b[0;34m(\u001b[0m\u001b[0;34m)\u001b[0m\u001b[0;34m\u001b[0m\u001b[0;34m\u001b[0m\u001b[0m\n\u001b[0m\u001b[1;32m      3\u001b[0m \u001b[0;32mfor\u001b[0m \u001b[0mx\u001b[0m \u001b[0;32min\u001b[0m \u001b[0mrange\u001b[0m\u001b[0;34m(\u001b[0m\u001b[0;36m40\u001b[0m\u001b[0;34m)\u001b[0m\u001b[0;34m:\u001b[0m\u001b[0;34m\u001b[0m\u001b[0;34m\u001b[0m\u001b[0m\n\u001b[1;32m      4\u001b[0m     \u001b[0mresponse2\u001b[0m \u001b[0;34m=\u001b[0m \u001b[0mrequests\u001b[0m\u001b[0;34m.\u001b[0m\u001b[0mget\u001b[0m\u001b[0;34m(\u001b[0m\u001b[0;34m\"https://api.github.com/repos/ironhack-datalabs/dataV2-labs/commits?page={x}\"\u001b[0m\u001b[0;34m,\u001b[0m \u001b[0mauth\u001b[0m\u001b[0;34m=\u001b[0m\u001b[0;34m(\u001b[0m\u001b[0musername\u001b[0m\u001b[0;34m,\u001b[0m\u001b[0mtoken\u001b[0m\u001b[0;34m)\u001b[0m\u001b[0;34m)\u001b[0m\u001b[0;34m\u001b[0m\u001b[0;34m\u001b[0m\u001b[0m\n\u001b[1;32m      5\u001b[0m     \u001b[0mdata_result2\u001b[0m \u001b[0;34m=\u001b[0m \u001b[0mpd\u001b[0m\u001b[0;34m.\u001b[0m\u001b[0mDataFrame\u001b[0m\u001b[0;34m(\u001b[0m\u001b[0mjson_normalize\u001b[0m\u001b[0;34m(\u001b[0m\u001b[0mresponse2\u001b[0m\u001b[0;34m.\u001b[0m\u001b[0mjson\u001b[0m\u001b[0;34m(\u001b[0m\u001b[0;34m)\u001b[0m\u001b[0;34m)\u001b[0m\u001b[0;34m)\u001b[0m\u001b[0;34m\u001b[0m\u001b[0;34m\u001b[0m\u001b[0m\n",
      "\u001b[0;31mNameError\u001b[0m: name 'pd' is not defined"
     ]
    }
   ],
   "source": [
    "# Iterate through range\n",
    "data = pd.DataFrame()\n",
    "for x in range(40):\n",
    "    response2 = requests.get(\"https://api.github.com/repos/ironhack-datalabs/dataV2-labs/commits?page={x}\", auth=(username,token))\n",
    "    data_result2 = pd.DataFrame(json_normalize(response2.json()))\n",
    "    data2 = pd.concat([data2, data_result2], axis = 0).reset_index(drop=True)\n",
    "\n",
    "data2"
   ]
  },
  {
   "cell_type": "code",
   "execution_count": 26,
   "metadata": {},
   "outputs": [
    {
     "ename": "NameError",
     "evalue": "name 'data2' is not defined",
     "output_type": "error",
     "traceback": [
      "\u001b[0;31m---------------------------------------------------------------------------\u001b[0m",
      "\u001b[0;31mNameError\u001b[0m                                 Traceback (most recent call last)",
      "\u001b[0;32m<ipython-input-26-f1880543ec5c>\u001b[0m in \u001b[0;36m<module>\u001b[0;34m\u001b[0m\n\u001b[0;32m----> 1\u001b[0;31m \u001b[0mdata2\u001b[0m\u001b[0;34m.\u001b[0m\u001b[0mcolumns\u001b[0m\u001b[0;34m\u001b[0m\u001b[0;34m\u001b[0m\u001b[0m\n\u001b[0m",
      "\u001b[0;31mNameError\u001b[0m: name 'data2' is not defined"
     ]
    }
   ],
   "source": [
    "data2.columns"
   ]
  },
  {
   "cell_type": "markdown",
   "metadata": {},
   "source": [
    "#### 2. Count how many commit objects are contained in the array."
   ]
  },
  {
   "cell_type": "code",
   "execution_count": 15,
   "metadata": {},
   "outputs": [
    {
     "ename": "NameError",
     "evalue": "name 'data2' is not defined",
     "output_type": "error",
     "traceback": [
      "\u001b[0;31m---------------------------------------------------------------------------\u001b[0m",
      "\u001b[0;31mNameError\u001b[0m                                 Traceback (most recent call last)",
      "\u001b[0;32m<ipython-input-15-c064fe08e3fc>\u001b[0m in \u001b[0;36m<module>\u001b[0;34m\u001b[0m\n\u001b[1;32m      1\u001b[0m \u001b[0;31m# your code here\u001b[0m\u001b[0;34m\u001b[0m\u001b[0;34m\u001b[0m\u001b[0;34m\u001b[0m\u001b[0m\n\u001b[1;32m      2\u001b[0m \u001b[0;34m\u001b[0m\u001b[0m\n\u001b[0;32m----> 3\u001b[0;31m \u001b[0mfilter_data2\u001b[0m \u001b[0;34m=\u001b[0m \u001b[0mdata2\u001b[0m\u001b[0;34m[\u001b[0m\u001b[0mdata2\u001b[0m\u001b[0;34m[\u001b[0m\u001b[0;34m\"commit.committer.date\"\u001b[0m\u001b[0;34m]\u001b[0m\u001b[0;34m.\u001b[0m\u001b[0mstr\u001b[0m\u001b[0;34m.\u001b[0m\u001b[0mcontains\u001b[0m\u001b[0;34m(\u001b[0m\u001b[0;34m'2019-10'\u001b[0m\u001b[0;34m,\u001b[0m \u001b[0mregex\u001b[0m\u001b[0;34m=\u001b[0m\u001b[0;32mFalse\u001b[0m\u001b[0;34m)\u001b[0m \u001b[0;34m==\u001b[0m \u001b[0;32mTrue\u001b[0m\u001b[0;34m]\u001b[0m\u001b[0;34m\u001b[0m\u001b[0;34m\u001b[0m\u001b[0m\n\u001b[0m\u001b[1;32m      4\u001b[0m \u001b[0mfilter_data2\u001b[0m\u001b[0;34m[\u001b[0m\u001b[0;34m\"commit.committer.date\"\u001b[0m\u001b[0;34m]\u001b[0m\u001b[0;34m.\u001b[0m\u001b[0msort_values\u001b[0m\u001b[0;34m(\u001b[0m\u001b[0mascending\u001b[0m \u001b[0;34m=\u001b[0m \u001b[0;32mFalse\u001b[0m\u001b[0;34m)\u001b[0m\u001b[0;34m\u001b[0m\u001b[0;34m\u001b[0m\u001b[0m\n",
      "\u001b[0;31mNameError\u001b[0m: name 'data2' is not defined"
     ]
    }
   ],
   "source": [
    "# your code here\n",
    "\n",
    "filter_data2 = data2[data2[\"commit.committer.date\"].str.contains('2019-10', regex=False) == True]\n",
    "filter_data2[\"commit.committer.date\"].sort_values(ascending = False)\n"
   ]
  },
  {
   "cell_type": "code",
   "execution_count": 16,
   "metadata": {},
   "outputs": [
    {
     "ename": "NameError",
     "evalue": "name 'filter_data2' is not defined",
     "output_type": "error",
     "traceback": [
      "\u001b[0;31m---------------------------------------------------------------------------\u001b[0m",
      "\u001b[0;31mNameError\u001b[0m                                 Traceback (most recent call last)",
      "\u001b[0;32m<ipython-input-16-e3118c128f0c>\u001b[0m in \u001b[0;36m<module>\u001b[0;34m\u001b[0m\n\u001b[1;32m      1\u001b[0m \u001b[0;31m# your code here\u001b[0m\u001b[0;34m\u001b[0m\u001b[0;34m\u001b[0m\u001b[0;34m\u001b[0m\u001b[0m\n\u001b[0;32m----> 2\u001b[0;31m \u001b[0mlen\u001b[0m\u001b[0;34m(\u001b[0m\u001b[0mfilter_data2\u001b[0m\u001b[0;34m[\u001b[0m\u001b[0;34m\"commit.committer.date\"\u001b[0m\u001b[0;34m]\u001b[0m\u001b[0;34m.\u001b[0m\u001b[0msort_values\u001b[0m\u001b[0;34m(\u001b[0m\u001b[0mascending\u001b[0m \u001b[0;34m=\u001b[0m \u001b[0;32mFalse\u001b[0m\u001b[0;34m)\u001b[0m\u001b[0;34m)\u001b[0m\u001b[0;34m\u001b[0m\u001b[0;34m\u001b[0m\u001b[0m\n\u001b[0m",
      "\u001b[0;31mNameError\u001b[0m: name 'filter_data2' is not defined"
     ]
    }
   ],
   "source": [
    "# your code here\n",
    "len(filter_data2[\"commit.committer.date\"].sort_values(ascending = False))"
   ]
  },
  {
   "cell_type": "markdown",
   "metadata": {},
   "source": [
    "## Challenge 3: Hidden Cold Joke\n",
    "\n",
    "Using Python, call Github API to find out the cold joke contained in the 24 secret files in the following repo:\n",
    "\n",
    "https://github.com/ironhack-datalabs/scavenger\n",
    "\n",
    "The filenames of the secret files contain .scavengerhunt and they are scattered in different directories of this repo. The secret files are named from .0001.scavengerhunt to .0024.scavengerhunt. They are scattered randomly throughout this repo. You need to search for these files by calling the Github API, not searching the local files on your computer.\n",
    "\n",
    "#### 1. Find the secret files."
   ]
  },
  {
   "cell_type": "code",
   "execution_count": 17,
   "metadata": {},
   "outputs": [],
   "source": [
    "# your code here"
   ]
  },
  {
   "cell_type": "markdown",
   "metadata": {},
   "source": [
    "#### 2.  Sort the filenames ascendingly."
   ]
  },
  {
   "cell_type": "code",
   "execution_count": 18,
   "metadata": {},
   "outputs": [],
   "source": [
    "# your code here"
   ]
  },
  {
   "cell_type": "markdown",
   "metadata": {},
   "source": [
    "#### 3. Read the content of each secret files into an array of strings.\n",
    "Since the response is encoded, you will need to send the following information in the header of your request:\n",
    "````python\n",
    "headers = {'Accept': 'application/vnd.github.v3.raw'}\n",
    "````"
   ]
  },
  {
   "cell_type": "code",
   "execution_count": 19,
   "metadata": {},
   "outputs": [],
   "source": [
    "# your code here"
   ]
  },
  {
   "cell_type": "markdown",
   "metadata": {},
   "source": [
    "#### 4. Concatenate the strings in the array separating each two with a whitespace."
   ]
  },
  {
   "cell_type": "code",
   "execution_count": 20,
   "metadata": {},
   "outputs": [],
   "source": [
    "# your code here"
   ]
  },
  {
   "cell_type": "markdown",
   "metadata": {},
   "source": [
    "#### 5. Print out the joke."
   ]
  },
  {
   "cell_type": "code",
   "execution_count": 21,
   "metadata": {},
   "outputs": [],
   "source": [
    "# your code here"
   ]
  },
  {
   "cell_type": "code",
   "execution_count": null,
   "metadata": {},
   "outputs": [],
   "source": []
  },
  {
   "cell_type": "code",
   "execution_count": 28,
   "metadata": {},
   "outputs": [
    {
     "name": "stdout",
     "output_type": "stream",
     "text": [
      "Asking http://api.github.com/ironhack-datalabs/dataV2-labs/forks\n",
      "Asking http://api.github.com/ironhack-datalabs/dataV2-labs/commits\n"
     ]
    }
   ],
   "source": [
    "import os\n",
    "githubToken = os.getenv('GITHUB_TOKEN')\n",
    "url = 'http://api.github.com/ironhack-datalabs/dataV2-labs/forks?'\n",
    "baseurl = 'http://api.github.com/ironhack-datalabs/dataV2-labs/forks?'\n",
    "\n",
    "def getAuth(url, baseurl, headers={'Authorization':'token {}'.format(githubToken)}):\n",
    "    completeUrl = baseurl+'{}'.format(url)\n",
    "    print('Asking {}'.format(completeUrl))\n",
    "    res = requests.get(completeUrl, headers=headers)\n",
    "    return res.json()\n",
    "\n",
    "IHrepo = 'http://api.github.com/ironhack-datalabs/dataV2-labs/'\n",
    "apicall = 'forks'\n",
    "\n",
    "results = getAuth(apicall, IHrepo)\n",
    "\n",
    "#process results for forks\n",
    "\n",
    "apicall = 'commits'\n",
    "results = getAuth(apicall, IHrepo)\n",
    "\n"
   ]
  },
  {
   "cell_type": "code",
   "execution_count": 29,
   "metadata": {},
   "outputs": [
    {
     "data": {
      "text/plain": [
       "{'message': 'Bad credentials',\n",
       " 'documentation_url': 'https://developer.github.com/v3'}"
      ]
     },
     "execution_count": 29,
     "metadata": {},
     "output_type": "execute_result"
    }
   ],
   "source": [
    "results"
   ]
  }
 ],
 "metadata": {
  "kernelspec": {
   "display_name": "Python 3",
   "language": "python",
   "name": "python3"
  },
  "language_info": {
   "codemirror_mode": {
    "name": "ipython",
    "version": 3
   },
   "file_extension": ".py",
   "mimetype": "text/x-python",
   "name": "python",
   "nbconvert_exporter": "python",
   "pygments_lexer": "ipython3",
   "version": "3.7.6"
  }
 },
 "nbformat": 4,
 "nbformat_minor": 2
}
