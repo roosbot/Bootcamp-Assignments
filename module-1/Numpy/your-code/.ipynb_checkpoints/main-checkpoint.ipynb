{
 "cells": [
  {
   "cell_type": "markdown",
   "metadata": {},
   "source": [
    "# Introduction to NumPy\n",
    "\n",
    "\n",
    "#### 1. Import NumPy under the name np."
   ]
  },
  {
   "cell_type": "code",
   "execution_count": 1,
   "metadata": {},
   "outputs": [],
   "source": [
    "# your code here\n",
    "import numpy as np"
   ]
  },
  {
   "cell_type": "markdown",
   "metadata": {},
   "source": [
    "#### 2. Print your NumPy version."
   ]
  },
  {
   "cell_type": "code",
   "execution_count": 2,
   "metadata": {},
   "outputs": [
    {
     "name": "stdout",
     "output_type": "stream",
     "text": [
      "1.18.1\n"
     ]
    }
   ],
   "source": [
    "# your code here\n",
    "print(np.__version__)"
   ]
  },
  {
   "cell_type": "markdown",
   "metadata": {},
   "source": [
    "#### 3. Generate a 2x3x5 3-dimensional array with random values. Assign the array to variable *a*.\n",
    "**Challenge**: there are at least three easy ways that use numpy to generate random arrays. How many ways can you find?"
   ]
  },
  {
   "cell_type": "code",
   "execution_count": 3,
   "metadata": {},
   "outputs": [],
   "source": [
    "# Method 1\n",
    "a = np.random.random((2,3,5))"
   ]
  },
  {
   "cell_type": "code",
   "execution_count": 4,
   "metadata": {},
   "outputs": [
    {
     "data": {
      "text/plain": [
       "array([[[ 5, 21, 41, 35, 45],\n",
       "        [21, 49, 47, 37,  5],\n",
       "        [54, 93, 59, 22, 99]],\n",
       "\n",
       "       [[12, 33, 14,  1, 26],\n",
       "        [23, 95, 71, 10, 87],\n",
       "        [73, 70,  4,  4, 14]]])"
      ]
     },
     "execution_count": 4,
     "metadata": {},
     "output_type": "execute_result"
    }
   ],
   "source": [
    "# Method 2\n",
    "np.random.randint(0,100,(2,3,5))"
   ]
  },
  {
   "cell_type": "code",
   "execution_count": 5,
   "metadata": {},
   "outputs": [
    {
     "data": {
      "text/plain": [
       "array([[[ 4.40815433, 10.49214673, 45.92247606, 64.53814529,\n",
       "         93.09705174],\n",
       "        [12.49485274, 42.21686772, 36.68765905,  9.78883172,\n",
       "         50.011094  ],\n",
       "        [ 6.20632868, 48.08811601, 87.81516677, 70.38557634,\n",
       "         69.45969573]],\n",
       "\n",
       "       [[39.24238865, 99.18022732, 34.72782726, 90.30576875,\n",
       "          5.5916366 ],\n",
       "        [18.09169737, 34.15795759,  1.13017336,  4.09931701,\n",
       "         69.52959965],\n",
       "        [72.51891549, 42.93831833, 79.40789374, 28.53530376,\n",
       "         12.17648402]]])"
      ]
     },
     "execution_count": 5,
     "metadata": {},
     "output_type": "execute_result"
    }
   ],
   "source": [
    "# Method 3\n",
    "np.random.uniform(0,100,(2,3,5))"
   ]
  },
  {
   "cell_type": "markdown",
   "metadata": {},
   "source": [
    "#### 4. Print *a*.\n"
   ]
  },
  {
   "cell_type": "code",
   "execution_count": 6,
   "metadata": {},
   "outputs": [
    {
     "name": "stdout",
     "output_type": "stream",
     "text": [
      "[[[0.46958627 0.55952076 0.25386546 0.2115137  0.89144831]\n",
      "  [0.32000929 0.30421374 0.0688986  0.85140725 0.29758192]\n",
      "  [0.59729965 0.01404536 0.70600863 0.06925215 0.93014788]]\n",
      "\n",
      " [[0.34046015 0.64459435 0.48098704 0.98228823 0.00445143]\n",
      "  [0.76792705 0.78590023 0.93332911 0.9796564  0.97141482]\n",
      "  [0.79836088 0.83595435 0.3851145  0.82720362 0.84563107]]]\n"
     ]
    }
   ],
   "source": [
    "# your code here\n",
    "print(a)"
   ]
  },
  {
   "cell_type": "markdown",
   "metadata": {},
   "source": [
    "#### 5. Create a 5x2x3 3-dimensional array with all values equaling 1. Assign the array to variable *b*."
   ]
  },
  {
   "cell_type": "code",
   "execution_count": 7,
   "metadata": {},
   "outputs": [],
   "source": [
    "# your code here\n",
    "b = np.full((5,2,3), 1)"
   ]
  },
  {
   "cell_type": "markdown",
   "metadata": {},
   "source": [
    "#### 6. Print *b*.\n"
   ]
  },
  {
   "cell_type": "code",
   "execution_count": 8,
   "metadata": {},
   "outputs": [
    {
     "name": "stdout",
     "output_type": "stream",
     "text": [
      "[[[1 1 1]\n",
      "  [1 1 1]]\n",
      "\n",
      " [[1 1 1]\n",
      "  [1 1 1]]\n",
      "\n",
      " [[1 1 1]\n",
      "  [1 1 1]]\n",
      "\n",
      " [[1 1 1]\n",
      "  [1 1 1]]\n",
      "\n",
      " [[1 1 1]\n",
      "  [1 1 1]]]\n"
     ]
    }
   ],
   "source": [
    "# your code here\n",
    "print(b)"
   ]
  },
  {
   "cell_type": "markdown",
   "metadata": {},
   "source": [
    "#### 7. Do *a* and *b* have the same size? How do you prove that in Python code?"
   ]
  },
  {
   "cell_type": "code",
   "execution_count": 9,
   "metadata": {},
   "outputs": [
    {
     "name": "stdout",
     "output_type": "stream",
     "text": [
      "True\n"
     ]
    }
   ],
   "source": [
    "# your code here\n",
    "if a.size == b.size:\n",
    "    print(\"True\")\n",
    "else:\n",
    "    print(\"False\")"
   ]
  },
  {
   "cell_type": "markdown",
   "metadata": {},
   "source": [
    "#### 8. Are you able to add *a* and *b*? Why or why not?\n"
   ]
  },
  {
   "cell_type": "code",
   "execution_count": 10,
   "metadata": {},
   "outputs": [
    {
     "name": "stdout",
     "output_type": "stream",
     "text": [
      "No because they are not the same shape.\n"
     ]
    }
   ],
   "source": [
    "# your answer here\n",
    "# np.add(a,b)\n",
    "print(\"No because they are not the same shape.\")"
   ]
  },
  {
   "cell_type": "markdown",
   "metadata": {},
   "source": [
    "#### 9. Transpose *b* so that it has the same structure of *a* (i.e. become a 2x3x5 array). Assign the transposed array to variable *c*."
   ]
  },
  {
   "cell_type": "code",
   "execution_count": 11,
   "metadata": {},
   "outputs": [
    {
     "name": "stdout",
     "output_type": "stream",
     "text": [
      "[[[1 1 1 1 1]\n",
      "  [1 1 1 1 1]\n",
      "  [1 1 1 1 1]]\n",
      "\n",
      " [[1 1 1 1 1]\n",
      "  [1 1 1 1 1]\n",
      "  [1 1 1 1 1]]]\n"
     ]
    }
   ],
   "source": [
    "# your code here\n",
    "# a = 2x3x5\n",
    "# b = 5x2x3\n",
    "\n",
    "c = b.reshape(2,3,5)\n",
    "\n",
    "# c = np.transpose(b,(1,2,0)) also works\n",
    "\n",
    "\n",
    "print(c)"
   ]
  },
  {
   "cell_type": "markdown",
   "metadata": {},
   "source": [
    "#### 10. Try to add *a* and *c*. Now it should work. Assign the sum to variable *d*. But why does it work now?"
   ]
  },
  {
   "cell_type": "code",
   "execution_count": 25,
   "metadata": {},
   "outputs": [
    {
     "name": "stdout",
     "output_type": "stream",
     "text": [
      "[[[1.46958627 1.55952076 1.25386546 1.2115137  1.89144831]\n",
      "  [1.32000929 1.30421374 1.0688986  1.85140725 1.29758192]\n",
      "  [1.59729965 1.01404536 1.70600863 1.06925215 1.93014788]]\n",
      "\n",
      " [[1.34046015 1.64459435 1.48098704 1.98228823 1.00445143]\n",
      "  [1.76792705 1.78590023 1.93332911 1.9796564  1.97141482]\n",
      "  [1.79836088 1.83595435 1.3851145  1.82720362 1.84563107]]]\n",
      "Now it works because they are the same shape\n"
     ]
    }
   ],
   "source": [
    "# your code/answer here\n",
    "# d = np.add(a,c)\n",
    "d = a+c\n",
    "print(d)\n",
    "print(\"Now it works because they are the same shape\")"
   ]
  },
  {
   "cell_type": "markdown",
   "metadata": {},
   "source": [
    "#### 11. Print *a* and *d*. Notice the difference and relation of the two array in terms of the values? Explain."
   ]
  },
  {
   "cell_type": "code",
   "execution_count": 13,
   "metadata": {},
   "outputs": [
    {
     "name": "stdout",
     "output_type": "stream",
     "text": [
      "[[[0.46958627 0.55952076 0.25386546 0.2115137  0.89144831]\n",
      "  [0.32000929 0.30421374 0.0688986  0.85140725 0.29758192]\n",
      "  [0.59729965 0.01404536 0.70600863 0.06925215 0.93014788]]\n",
      "\n",
      " [[0.34046015 0.64459435 0.48098704 0.98228823 0.00445143]\n",
      "  [0.76792705 0.78590023 0.93332911 0.9796564  0.97141482]\n",
      "  [0.79836088 0.83595435 0.3851145  0.82720362 0.84563107]]] \n",
      " [[[1.46958627 1.55952076 1.25386546 1.2115137  1.89144831]\n",
      "  [1.32000929 1.30421374 1.0688986  1.85140725 1.29758192]\n",
      "  [1.59729965 1.01404536 1.70600863 1.06925215 1.93014788]]\n",
      "\n",
      " [[1.34046015 1.64459435 1.48098704 1.98228823 1.00445143]\n",
      "  [1.76792705 1.78590023 1.93332911 1.9796564  1.97141482]\n",
      "  [1.79836088 1.83595435 1.3851145  1.82720362 1.84563107]]]\n",
      "Yes, I see that a + 1 is the output of d\n"
     ]
    }
   ],
   "source": [
    "# your code/answer here\n",
    "print(a,\"\\n\",d)\n",
    "print(\"Yes, I see that a + 1 is the output of d\")"
   ]
  },
  {
   "cell_type": "markdown",
   "metadata": {},
   "source": [
    "#### 12. Multiply *a* and *c*. Assign the result to *e*."
   ]
  },
  {
   "cell_type": "code",
   "execution_count": 14,
   "metadata": {},
   "outputs": [],
   "source": [
    "# your code here\n",
    "e = np.multiply(a,c)"
   ]
  },
  {
   "cell_type": "markdown",
   "metadata": {},
   "source": [
    "#### 13. Does *e* equal to *a*? Why or why not?\n"
   ]
  },
  {
   "cell_type": "code",
   "execution_count": 15,
   "metadata": {},
   "outputs": [
    {
     "name": "stdout",
     "output_type": "stream",
     "text": [
      "True\n"
     ]
    }
   ],
   "source": [
    "# your code/answer here\n",
    "if a.size == e.size:\n",
    "    print(\"True\")\n",
    "else:\n",
    "    print(\"False\")"
   ]
  },
  {
   "cell_type": "markdown",
   "metadata": {},
   "source": [
    "#### 14. Identify the max, min, and mean values in *d*. Assign those values to variables *d_max*, *d_min* and *d_mean*."
   ]
  },
  {
   "cell_type": "code",
   "execution_count": 16,
   "metadata": {},
   "outputs": [
    {
     "name": "stdout",
     "output_type": "stream",
     "text": [
      "1.9822882305282936\n",
      "1.0044514339893924\n",
      "1.570935740696307\n"
     ]
    }
   ],
   "source": [
    "# your code here\n",
    "\n",
    "d_max = np.max(d)\n",
    "d_min = np.min(d)\n",
    "d_mean = np.mean(d)\n",
    "\n",
    "print(d_max)\n",
    "print(d_min)\n",
    "print(d_mean)"
   ]
  },
  {
   "cell_type": "markdown",
   "metadata": {},
   "source": [
    "#### 15. Now we want to label the values in *d*. First create an empty array *f* with the same shape (i.e. 2x3x5) as *d* using `np.empty`.\n"
   ]
  },
  {
   "cell_type": "code",
   "execution_count": 26,
   "metadata": {},
   "outputs": [
    {
     "name": "stdout",
     "output_type": "stream",
     "text": [
      "[[[1.46958627 1.55952076 1.25386546 1.2115137  1.89144831]\n",
      "  [1.32000929 1.30421374 1.0688986  1.85140725 1.29758192]\n",
      "  [1.59729965 1.01404536 1.70600863 1.06925215 1.93014788]]\n",
      "\n",
      " [[1.34046015 1.64459435 1.48098704 1.98228823 1.00445143]\n",
      "  [1.76792705 1.78590023 1.93332911 1.9796564  1.97141482]\n",
      "  [1.79836088 1.83595435 1.3851145  1.82720362 1.84563107]]]\n"
     ]
    }
   ],
   "source": [
    "# your code here\n",
    "f = np.empty((2,3,5))\n",
    "print(f)"
   ]
  },
  {
   "cell_type": "markdown",
   "metadata": {},
   "source": [
    "#### 16. Populate the values in *f*. \n",
    "\n",
    "For each value in *d*, if it's larger than *d_min* but smaller than *d_mean*, assign 25 to the corresponding value in *f*. If a value in *d* is larger than *d_mean* but smaller than *d_max*, assign 75 to the corresponding value in *f*. If a value equals to *d_mean*, assign 50 to the corresponding value in *f*. Assign 0 to the corresponding value(s) in *f* for *d_min* in *d*. Assign 100 to the corresponding value(s) in *f* for *d_max* in *d*. In the end, f should have only the following values: 0, 25, 50, 75, and 100.\n",
    "\n",
    "**Note**: you don't have to use Numpy in this question."
   ]
  },
  {
   "cell_type": "code",
   "execution_count": 37,
   "metadata": {},
   "outputs": [],
   "source": [
    "# your code here\n",
    "\n",
    "# f[d > d_min] = 25 # not necessary\n",
    "f[d < d_mean] = 25\n",
    "\n",
    "f[d > d_mean] = 75\n",
    "# f[d < d_max] = 75  # not necessary\n",
    "\n",
    "f[d == d_mean] = 50\n",
    "\n",
    "f[d == d_min] = 0\n",
    "f[d == d_max] = 100"
   ]
  },
  {
   "cell_type": "markdown",
   "metadata": {},
   "source": [
    "#### 17. Print *d* and *f*. Do you have your expected *f*?\n",
    "For instance, if your *d* is:\n",
    "```python\n",
    "[[[1.85836099, 1.67064465, 1.62576044, 1.40243961, 1.88454931],\n",
    "[1.75354326, 1.69403643, 1.36729252, 1.61415071, 1.12104981],\n",
    "[1.72201435, 1.1862918 , 1.87078449, 1.7726778 , 1.88180042]],\n",
    "[[1.44747908, 1.31673383, 1.02000951, 1.52218947, 1.97066381],\n",
    "[1.79129243, 1.74983003, 1.96028037, 1.85166831, 1.65450881],\n",
    "[1.18068344, 1.9587381 , 1.00656599, 1.93402165, 1.73514584]]]\n",
    "```\n",
    "Your *f* should be:\n",
    "```python\n",
    "[[[ 75.,  75.,  75.,  25.,  75.],\n",
    "[ 75.,  75.,  25.,  25.,  25.],\n",
    "[ 75.,  25.,  75.,  75.,  75.]],\n",
    "[[ 25.,  25.,  25.,  25., 100.],\n",
    "[ 75.,  75.,  75.,  75.,  75.],\n",
    "[ 25.,  75.,   0.,  75.,  75.]]]\n",
    "```"
   ]
  },
  {
   "cell_type": "code",
   "execution_count": 38,
   "metadata": {},
   "outputs": [
    {
     "name": "stdout",
     "output_type": "stream",
     "text": [
      "[[[1.46958627 1.55952076 1.25386546 1.2115137  1.89144831]\n",
      "  [1.32000929 1.30421374 1.0688986  1.85140725 1.29758192]\n",
      "  [1.59729965 1.01404536 1.70600863 1.06925215 1.93014788]]\n",
      "\n",
      " [[1.34046015 1.64459435 1.48098704 1.98228823 1.00445143]\n",
      "  [1.76792705 1.78590023 1.93332911 1.9796564  1.97141482]\n",
      "  [1.79836088 1.83595435 1.3851145  1.82720362 1.84563107]]]\n",
      "\n",
      "\n",
      "[[[ 25.  25.  25.  25.  75.]\n",
      "  [ 25.  25.  25.  75.  25.]\n",
      "  [ 75.  25.  75.  25.  75.]]\n",
      "\n",
      " [[ 25.  75.  25. 100.   0.]\n",
      "  [ 75.  75.  75.  75.  75.]\n",
      "  [ 75.  75.  25.  75.  75.]]]\n"
     ]
    }
   ],
   "source": [
    "# your code here\n",
    "\n",
    "print(d)\n",
    "print(\"\\n\")\n",
    "print(f)"
   ]
  },
  {
   "cell_type": "markdown",
   "metadata": {},
   "source": [
    "#### 18. Bonus question: instead of using numbers (i.e. 0, 25, 50, 75, and 100), use string values  (\"A\", \"B\", \"C\", \"D\", and \"E\") to label the array elements. For the example above, the expected result is:\n",
    "\n",
    "```python\n",
    "[[[ 'D',  'D',  'D',  'B',  'D'],\n",
    "[ 'D',  'D',  'B',  'B',  'B'],\n",
    "[ 'D',  'B',  'D',  'D',  'D']],\n",
    "[[ 'B',  'B',  'B',  'B',  'E'],\n",
    "[ 'D',  'D',  'D',  'D',  'D'],\n",
    "[ 'B',  'D',   'A',  'D', 'D']]]\n",
    "```\n",
    "**Note**: you don't have to use Numpy in this question."
   ]
  },
  {
   "cell_type": "code",
   "execution_count": 48,
   "metadata": {},
   "outputs": [
    {
     "name": "stdout",
     "output_type": "stream",
     "text": [
      "[[['B' 'B' 'B' 'B' 'C']\n",
      "  ['B' 'B' 'B' 'C' 'B']\n",
      "  ['C' 'B' 'C' 'B' 'C']]\n",
      "\n",
      " [['B' 'C' 'B' 'E' 'A']\n",
      "  ['C' 'C' 'C' 'C' 'C']\n",
      "  ['C' 'C' 'B' 'C' 'C']]]\n"
     ]
    }
   ],
   "source": [
    "# your code here\n",
    "\n",
    "g = np.empty((2,3,5), dtype = str)\n",
    "\n",
    "# f[d > d_min] = 25 # not necessary\n",
    "g[d < d_mean] = \"B\"\n",
    "\n",
    "g[d > d_mean] = \"C\"\n",
    "# f[d < d_max] = 75  # not necessary\n",
    "\n",
    "g[d == d_mean] = \"D\"\n",
    "\n",
    "g[d == d_min] = \"A\"\n",
    "g[d == d_max] = \"E\"\n",
    "\n",
    "print(g)"
   ]
  }
 ],
 "metadata": {
  "kernelspec": {
   "display_name": "Python 3",
   "language": "python",
   "name": "python3"
  },
  "language_info": {
   "codemirror_mode": {
    "name": "ipython",
    "version": 3
   },
   "file_extension": ".py",
   "mimetype": "text/x-python",
   "name": "python",
   "nbconvert_exporter": "python",
   "pygments_lexer": "ipython3",
   "version": "3.7.6"
  }
 },
 "nbformat": 4,
 "nbformat_minor": 2
}
