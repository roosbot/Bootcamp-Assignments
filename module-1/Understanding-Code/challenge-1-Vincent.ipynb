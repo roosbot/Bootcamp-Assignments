{
 "cells": [
  {
   "cell_type": "code",
   "execution_count": 3,
   "metadata": {},
   "outputs": [
    {
     "name": "stdout",
     "output_type": "stream",
     "text": [
      "Welcome to this calculator!\n",
      "It can add and subtract whole numbers from zero to five\n",
      "Please choose your first number (zero to five): Four\n",
      "What do you want to do? plus or minus: Plus\n",
      "Please choose your second number (zero to five): Five\n",
      "I am not able to answer this question. Check your input.\n",
      "Thanks for using this calculator, goodbye :)\n"
     ]
    }
   ],
   "source": [
    "\"\"\"\n",
    "This is a dumb calculator that can add and subtract whole numbers from zero to five.\n",
    "When you run the code, you are prompted to enter two numbers (in the form of English\n",
    "word instead of number) and the operator sign (also in the form of English word).\n",
    "The code will perform the calculation and give the result if your input is what it\n",
    "expects.\n",
    "\n",
    "The code is very long and messy. Refactor it according to what you have learned about\n",
    "code simplicity and efficiency.\n",
    "\"\"\"\n",
    "\n",
    "print('Welcome to this calculator!')\n",
    "print('It can add and subtract whole numbers from zero to five')\n",
    "a = input('Please choose your first number (zero to five): ')\n",
    "b = input('What do you want to do? plus or minus: ')\n",
    "c = input('Please choose your second number (zero to five): ')\n",
    "\n",
    "dictionary = {'negative five': -5, 'negative four': -4, 'negative three': -3, 'negative two': -2, 'negative one': -1, 'zero': 0, 'one': 1, 'two': 2, 'three': 3, 'four': 4, 'five': 5, 'six': 6, 'seven': 7, 'eight': 8, 'nine': 9, 'ten': 10}\n",
    "\n",
    "for key, value in dictionary.items():\n",
    "    if a == key:\n",
    "        value_a = value\n",
    "\n",
    "for key, value in dictionary.items():\n",
    "    if c == key:\n",
    "        value_c = value\n",
    "\n",
    "if b == 'minus':\n",
    "    value_c = -value_c\n",
    "\n",
    "value_d = value_a + value_c\n",
    "\n",
    "for key, value in dictionary.items():\n",
    "    if value_d == value:\n",
    "        d = key\n",
    "\n",
    "if (not a == 'zero' and not a == 'one' and not a == 'two' and not a == 'three' and not a == 'four' and not a == 'five') or (not c == 'zero' and not c == 'one' and not c == 'two' and not c == 'three' and not c == 'four' and not c == 'five') or (not b == 'plus' and not b == 'minus'):\n",
    "    print(\"I am not able to answer this question. Check your input.\")\n",
    "else:\n",
    "    print(f'{a} {b} {c} equals {d}')\n",
    "\n",
    "print(\"Thanks for using this calculator, goodbye :)\")"
   ]
  },
  {
   "cell_type": "code",
   "execution_count": null,
   "metadata": {},
   "outputs": [],
   "source": [
    "\n",
    "\"\"\" \n",
    "Feedback\n",
    "Glows:\n",
    "+ The code is indeed significantly shorter and more efficient, well done!\n",
    "+ I like that you used a dictionary to translate the strings to numbers\n",
    "+ The code is very neat and you are very consistent with your writing\n",
    "+ I like that you build a if function for all types of errors\n",
    "\n",
    "Grows:\n",
    "+ I notice that you didn't create functions which could be a nice feature\n",
    "+ You could have made the input case insensitive with .lower()\n",
    "+ Maybe there is a trick to convert negative values with a line of code without including them in your dictionary (this will decrease duplicate numbers in the dict)\n",
    "+ Where I liked the part that you build a if function for all types of errors, maybe there is a way to make this more efficient, as this looks kinda bulky.\n",
    "\n",
    "\"\"\""
   ]
  }
 ],
 "metadata": {
  "kernelspec": {
   "display_name": "Python 3",
   "language": "python",
   "name": "python3"
  },
  "language_info": {
   "codemirror_mode": {
    "name": "ipython",
    "version": 3
   },
   "file_extension": ".py",
   "mimetype": "text/x-python",
   "name": "python",
   "nbconvert_exporter": "python",
   "pygments_lexer": "ipython3",
   "version": "3.7.6"
  }
 },
 "nbformat": 4,
 "nbformat_minor": 4
}
