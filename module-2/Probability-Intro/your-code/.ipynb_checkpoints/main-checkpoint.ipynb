{
 "cells": [
  {
   "cell_type": "markdown",
   "metadata": {},
   "source": [
    "# Introduction To Probability\n",
    "## Challenge 1\n",
    "\n",
    "A and B are events of a probability space with $(\\omega, \\sigma, P)$ such that $P(A) = 0.3$, $P(B) = 0.6$ and $P(A \\cap B) = 0.1$\n",
    "\n",
    "Which of the following statements are false?\n",
    "* $P(A \\cup B) = 0.6$\n",
    "* $P(A \\cap B^{C}) = 0.2$\n",
    "* $P(A \\cap (B \\cup B^{C})) = 0.4$\n",
    "* $P(A^{C} \\cap B^{C}) = 0.3$\n",
    "* $P((A \\cap B)^{C}) = 0.9$"
   ]
  },
  {
   "cell_type": "code",
   "execution_count": null,
   "metadata": {},
   "outputs": [],
   "source": [
    "\"\"\"\n",
    "𝑃(𝐴)=0.3 , 𝑃(𝐵)=0.6 and 𝑃(𝐴∩𝐵)=0.1\n",
    "\n",
    "𝑃(𝐴∪𝐵) = 0.6 is false because of the rule of addition:\n",
    "    𝑃(𝐴∪𝐵) = 𝑃(𝐴) + 𝑃(𝐵) - 𝑃(𝐴∩𝐵)\n",
    "    𝑃(𝐴∪𝐵) = 0.3 +0.6 - 0.1\n",
    "    𝑃(𝐴∪𝐵) = 0.8\n",
    "\n",
    "𝑃(𝐴∩𝐵𝐶)=0.2 is true:\n",
    "    Everything that is in A and not in B so P(A)-P(B)\n",
    "    𝑃(𝐴∩𝐵𝐶) = 𝑃(𝐴) - (𝐴∩𝐵)\n",
    "    𝑃(𝐴∩𝐵𝐶) = 0.3 - 0.1\n",
    "    𝑃(𝐴∩𝐵𝐶) = 0.2\n",
    "    \n",
    "𝑃(𝐴∩(𝐵∪𝐵𝐶))=0.4 is\n",
    "    (𝐵∪𝐵𝐶) means evertything but B and now that part that intersects with A\n",
    "    𝑃(𝐴∩(𝐵∪𝐵𝐶)) = P(A) \n",
    "    𝑃(𝐴∩(𝐵∪𝐵𝐶)) = 0.3\n",
    "    \n",
    "𝑃(𝐴𝐶∩𝐵𝐶)=0.3 is false because those complements consists of all elements that are not in (𝐴∩𝐵):\n",
    "    𝑃(𝐴𝐶∩𝐵𝐶) = 1 - 𝑃(𝐴∪𝐵)\n",
    "    𝑃(𝐴𝐶∩𝐵𝐶) = 1 - 0.8\n",
    "    𝑃(𝐴𝐶∩𝐵𝐶) = 0.2\n",
    "\n",
    "𝑃((𝐴∩𝐵)𝐶)=0.9 is true because those complements consists of all elements that are not in (𝐴∩𝐵):\n",
    "    𝑃((𝐴∩𝐵)𝐶) = 1 - 𝑃(𝐴∩𝐵)\n",
    "    𝑃((𝐴∩𝐵)𝐶) = 1 - 0.1\n",
    "    𝑃((𝐴∩𝐵)𝐶) = 0.9\n",
    "\n",
    "# Source for visual understanding: https://www.onlinemathlearning.com/shading-venn-diagrams.html\n",
    "\n",
    "\"\"\""
   ]
  },
  {
   "cell_type": "markdown",
   "metadata": {},
   "source": [
    "## Challenge 2\n",
    "There is a box with 10 white balls, 12 red balls and 8 black balls. Calculate the probability of:\n",
    "* Taking a white ball out.\n",
    "* Taking a white ball out after taking a black ball out.\n",
    "* Taking a red ball out after taking a black and a red ball out.\n",
    "* Taking a red ball out after taking a black and a red ball out with reposition.\n",
    "\n",
    "**Hint**: Reposition means putting back the ball into the box after taking it out."
   ]
  },
  {
   "cell_type": "code",
   "execution_count": 3,
   "metadata": {},
   "outputs": [
    {
     "name": "stdout",
     "output_type": "stream",
     "text": [
      "The probability is : 0.3333333333333333\n"
     ]
    }
   ],
   "source": [
    "# Taking a white ball out\n",
    "print(\"The probability is :\",10/30)"
   ]
  },
  {
   "cell_type": "code",
   "execution_count": 1,
   "metadata": {},
   "outputs": [
    {
     "name": "stdout",
     "output_type": "stream",
     "text": [
      "The probability is : 0.09195402298850575\n"
     ]
    }
   ],
   "source": [
    "#Taking a white ball out after taking a black ball out\n",
    "print(\"The probability is :\",(8 / 30) * (10 / 29))"
   ]
  },
  {
   "cell_type": "code",
   "execution_count": 2,
   "metadata": {},
   "outputs": [
    {
     "name": "stdout",
     "output_type": "stream",
     "text": [
      "The probability is : 0.04334975369458128\n"
     ]
    }
   ],
   "source": [
    "#Taking a red ball out after taking a black and a red ball out.\n",
    "print(\"The probability is :\",(12 / 30) * (8 / 29) * (11 / 28))"
   ]
  },
  {
   "cell_type": "code",
   "execution_count": 6,
   "metadata": {},
   "outputs": [
    {
     "name": "stdout",
     "output_type": "stream",
     "text": [
      "The probability is : 0.03137037037037037  or 0.4 depending on interpertation\n"
     ]
    }
   ],
   "source": [
    "#Taking a red ball out after taking a black and a red ball out with reposition.\n",
    "print(\"The probability is :\",11/30 * 7/30* 11/30 ,\" or\",12 / 30,\"depending on interpertation\")"
   ]
  },
  {
   "cell_type": "markdown",
   "metadata": {},
   "source": [
    "## Challenge 3\n",
    "\n",
    "You are planning to go on a picnic today but the morning is cloudy. You hate rain so you don't know whether to go out or stay home! To help you make a decision, you gather the following data about rainy days:\n",
    "\n",
    "* 50% of all rainy days start off cloudy!\n",
    "* Cloudy mornings are common. About 40% of days start cloudy. \n",
    "* This month is usually dry so only 3 of 30 days (10%) tend to be rainy. \n",
    "\n",
    "What is the chance of rain during the day?"
   ]
  },
  {
   "cell_type": "code",
   "execution_count": null,
   "metadata": {},
   "outputs": [],
   "source": [
    "\"\"\"\n",
    "P(Cloud | Rain) = 0.5\n",
    "P(Cloud) =  0.4\n",
    "P(Rain) = 0.1\n",
    "\n",
    "P(𝐴|𝐵) = P𝐴∩𝐵 / P𝐵\n",
    "\n",
    "P(Rain|Cloud) = P(Rain) * P(Cloud|Rain) / P(Cloud)\n",
    "\n",
    "P(Rain|Cloud) = .1 * .5 / .4\n",
    "P(Rain|Cloud) = .125\n",
    "\n",
    "\"\"\""
   ]
  },
  {
   "cell_type": "code",
   "execution_count": 13,
   "metadata": {},
   "outputs": [
    {
     "name": "stdout",
     "output_type": "stream",
     "text": [
      "The chance of rain during the day is 12.5 %\n"
     ]
    }
   ],
   "source": [
    "print(\"The chance of rain during the day is\",.1 * .5 / .4 * 100,\"%\")"
   ]
  },
  {
   "cell_type": "markdown",
   "metadata": {},
   "source": [
    "## Challenge 4\n",
    "\n",
    "One thousand people were asked through a telephone survey whether they thought more street lighting is needed at night or not.\n",
    "\n",
    "Out of the 480 men that answered the survey, 324 said yes and 156 said no. On the other hand, out of the 520 women that answered, 351 said yes and 169 said no. \n",
    "\n",
    "We wonder if men and women have a different opinions about the street lighting matter. Is gender relevant or irrelevant to the question?\n",
    "\n",
    "Consider the following events:\n",
    "- The answer is yes, so the person that answered thinks that more street lighting is needed.\n",
    "- The person who answered is a man.\n",
    "\n",
    "We want to know if these events are independent, that is, if the fact of wanting more light depends on whether one is male or female. Are these events independent or not?\n",
    "\n",
    "**Hint**: To clearly compare the answers by gender, it is best to place the data in a table."
   ]
  },
  {
   "cell_type": "code",
   "execution_count": 56,
   "metadata": {},
   "outputs": [
    {
     "data": {
      "text/html": [
       "<div>\n",
       "<style scoped>\n",
       "    .dataframe tbody tr th:only-of-type {\n",
       "        vertical-align: middle;\n",
       "    }\n",
       "\n",
       "    .dataframe tbody tr th {\n",
       "        vertical-align: top;\n",
       "    }\n",
       "\n",
       "    .dataframe thead th {\n",
       "        text-align: right;\n",
       "    }\n",
       "</style>\n",
       "<table border=\"1\" class=\"dataframe\">\n",
       "  <thead>\n",
       "    <tr style=\"text-align: right;\">\n",
       "      <th></th>\n",
       "      <th>Yes</th>\n",
       "      <th>No</th>\n",
       "    </tr>\n",
       "  </thead>\n",
       "  <tbody>\n",
       "    <tr>\n",
       "      <th>Men</th>\n",
       "      <td>324</td>\n",
       "      <td>156</td>\n",
       "    </tr>\n",
       "    <tr>\n",
       "      <th>Women</th>\n",
       "      <td>351</td>\n",
       "      <td>169</td>\n",
       "    </tr>\n",
       "  </tbody>\n",
       "</table>\n",
       "</div>"
      ],
      "text/plain": [
       "       Yes   No\n",
       "Men    324  156\n",
       "Women  351  169"
      ]
     },
     "execution_count": 56,
     "metadata": {},
     "output_type": "execute_result"
    }
   ],
   "source": [
    "import pandas as pd\n",
    "colnames = [\"Yes\",\"No\"]\n",
    "answer = [[324,156],[351,169]]\n",
    "index_labels = [\"Men\",\"Women\"]\n",
    "answers = pd.DataFrame(answer,index=index_labels,columns=colnames)\n",
    "answers"
   ]
  },
  {
   "cell_type": "code",
   "execution_count": null,
   "metadata": {},
   "outputs": [],
   "source": [
    "\"\"\"\n",
    "\n",
    "In order for 2 events A and B to be independent, at least one \n",
    "of the following statements must be true:\n",
    "\n",
    "P(A)*P(B) = P(A ∩ B)\n",
    "P(A|B) = P(A)\n",
    "P(B|A) = P(B)\n",
    "\n",
    "Used as a reference: https://www.mathsisfun.com/data/bayes-theorem.html\n",
    "\n",
    "\"\"\""
   ]
  },
  {
   "cell_type": "code",
   "execution_count": 58,
   "metadata": {},
   "outputs": [],
   "source": [
    "# Calculate some probabilities\n",
    "total = 324 + 156 + 351 + 169\n",
    "p_man = 480 / total\n",
    "p_yes = (324 + 351) / total\n",
    "p_yesman = 324 / (324 + 351)\n",
    "p_manyes = 324 / (324 + 156)"
   ]
  },
  {
   "cell_type": "code",
   "execution_count": 59,
   "metadata": {},
   "outputs": [
    {
     "name": "stdout",
     "output_type": "stream",
     "text": [
      "P(Man) =  0.48\n",
      "P(Yes|Man) =  0.48\n"
     ]
    }
   ],
   "source": [
    "# Check if P(A|B) = P(A)\n",
    "print(\"P(Man) = \",p_man)\n",
    "print(\"P(Yes|Man) = \",p_yesman)"
   ]
  },
  {
   "cell_type": "code",
   "execution_count": 60,
   "metadata": {},
   "outputs": [
    {
     "name": "stdout",
     "output_type": "stream",
     "text": [
      "P(Yes) =  0.675\n",
      "P(Man|Yes) =  0.675\n"
     ]
    }
   ],
   "source": [
    "# Check if P(B|A) = P(B)\n",
    "print(\"P(Yes) = \",p_yes)\n",
    "print(\"P(Man|Yes) = \", p_manyes)"
   ]
  }
 ],
 "metadata": {
  "kernelspec": {
   "display_name": "Python 3",
   "language": "python",
   "name": "python3"
  },
  "language_info": {
   "codemirror_mode": {
    "name": "ipython",
    "version": 3
   },
   "file_extension": ".py",
   "mimetype": "text/x-python",
   "name": "python",
   "nbconvert_exporter": "python",
   "pygments_lexer": "ipython3",
   "version": "3.7.6"
  }
 },
 "nbformat": 4,
 "nbformat_minor": 2
}
