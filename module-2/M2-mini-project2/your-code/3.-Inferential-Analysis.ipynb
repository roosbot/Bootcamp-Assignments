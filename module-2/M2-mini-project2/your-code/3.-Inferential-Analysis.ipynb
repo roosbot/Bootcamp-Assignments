{
 "cells": [
  {
   "cell_type": "markdown",
   "metadata": {},
   "source": [
    "# Inferential statistics\n",
    "## Part III - Inferential Analysis\n",
    "\n",
    "We're now going to look for answers to the ongoing basketball discussions between you and your family. The main ones we want to reasearch are the following:\n",
    "\n",
    "- Your grandmother says that your sister couldn't play in a professional basketball league (not only the WNBA, but ANY professional basketball league) because she's too skinny and lacks muscle.\n",
    "- Your sister says that most female professional players fail their free throws.\n",
    "- Your brother-in-law heard on the TV that the average assists among NBA (male) and WNBA (female) players is 52 for the 2016-2017 season. He is convinced this average would be higher if we only considered the players from the WNBA.\n",
    "\n",
    "Let's investigate these claims and see if we can find proof to refute or support them.\n",
    "\n",
    "### Libraries\n",
    "Import the necessary libraries first."
   ]
  },
  {
   "cell_type": "code",
   "execution_count": 1,
   "metadata": {},
   "outputs": [],
   "source": [
    "# Libraries\n",
    "import math\n",
    "import pandas as pd\n",
    "import numpy as np\n",
    "from scipy import stats\n",
    "import matplotlib.pyplot as plt\n",
    "from scipy.stats import ttest_1samp\n",
    "pd.set_option('max_columns', 50)\n",
    "from scipy.stats import norm"
   ]
  },
  {
   "cell_type": "markdown",
   "metadata": {},
   "source": [
    "### Load the dataset\n",
    "\n",
    "Load the cleaned dataset."
   ]
  },
  {
   "cell_type": "code",
   "execution_count": 2,
   "metadata": {},
   "outputs": [
    {
     "data": {
      "text/html": [
       "<div>\n",
       "<style scoped>\n",
       "    .dataframe tbody tr th:only-of-type {\n",
       "        vertical-align: middle;\n",
       "    }\n",
       "\n",
       "    .dataframe tbody tr th {\n",
       "        vertical-align: top;\n",
       "    }\n",
       "\n",
       "    .dataframe thead th {\n",
       "        text-align: right;\n",
       "    }\n",
       "</style>\n",
       "<table border=\"1\" class=\"dataframe\">\n",
       "  <thead>\n",
       "    <tr style=\"text-align: right;\">\n",
       "      <th></th>\n",
       "      <th>Name</th>\n",
       "      <th>Team</th>\n",
       "      <th>Pos</th>\n",
       "      <th>Height</th>\n",
       "      <th>Weight</th>\n",
       "      <th>BMI</th>\n",
       "      <th>Birth_Place</th>\n",
       "      <th>Birthdate</th>\n",
       "      <th>Age</th>\n",
       "      <th>College</th>\n",
       "      <th>Experience</th>\n",
       "      <th>Games Played</th>\n",
       "      <th>MIN</th>\n",
       "      <th>FGM</th>\n",
       "      <th>FGA</th>\n",
       "      <th>FG%</th>\n",
       "      <th>3PM</th>\n",
       "      <th>3PA</th>\n",
       "      <th>3P%</th>\n",
       "      <th>FTM</th>\n",
       "      <th>FTA</th>\n",
       "      <th>FT%</th>\n",
       "      <th>OREB</th>\n",
       "      <th>DREB</th>\n",
       "      <th>REB</th>\n",
       "      <th>AST</th>\n",
       "      <th>STL</th>\n",
       "      <th>BLK</th>\n",
       "      <th>TO</th>\n",
       "      <th>PTS</th>\n",
       "      <th>DD2</th>\n",
       "      <th>TD3</th>\n",
       "    </tr>\n",
       "  </thead>\n",
       "  <tbody>\n",
       "    <tr>\n",
       "      <th>0</th>\n",
       "      <td>Aerial Powers</td>\n",
       "      <td>DAL</td>\n",
       "      <td>F</td>\n",
       "      <td>183</td>\n",
       "      <td>71</td>\n",
       "      <td>21.200991</td>\n",
       "      <td>US</td>\n",
       "      <td>January 17, 1994</td>\n",
       "      <td>23</td>\n",
       "      <td>Michigan State</td>\n",
       "      <td>2</td>\n",
       "      <td>8</td>\n",
       "      <td>173</td>\n",
       "      <td>30</td>\n",
       "      <td>85</td>\n",
       "      <td>35.3</td>\n",
       "      <td>12</td>\n",
       "      <td>32</td>\n",
       "      <td>37.5</td>\n",
       "      <td>21</td>\n",
       "      <td>26</td>\n",
       "      <td>80.8</td>\n",
       "      <td>6</td>\n",
       "      <td>22</td>\n",
       "      <td>28</td>\n",
       "      <td>12</td>\n",
       "      <td>3</td>\n",
       "      <td>6</td>\n",
       "      <td>12</td>\n",
       "      <td>93</td>\n",
       "      <td>0</td>\n",
       "      <td>0</td>\n",
       "    </tr>\n",
       "    <tr>\n",
       "      <th>1</th>\n",
       "      <td>Alana Beard</td>\n",
       "      <td>LA</td>\n",
       "      <td>G/F</td>\n",
       "      <td>185</td>\n",
       "      <td>73</td>\n",
       "      <td>21.329438</td>\n",
       "      <td>US</td>\n",
       "      <td>May 14, 1982</td>\n",
       "      <td>35</td>\n",
       "      <td>Duke</td>\n",
       "      <td>12</td>\n",
       "      <td>30</td>\n",
       "      <td>947</td>\n",
       "      <td>90</td>\n",
       "      <td>177</td>\n",
       "      <td>50.8</td>\n",
       "      <td>5</td>\n",
       "      <td>18</td>\n",
       "      <td>27.8</td>\n",
       "      <td>32</td>\n",
       "      <td>41</td>\n",
       "      <td>78.0</td>\n",
       "      <td>19</td>\n",
       "      <td>82</td>\n",
       "      <td>101</td>\n",
       "      <td>72</td>\n",
       "      <td>63</td>\n",
       "      <td>13</td>\n",
       "      <td>40</td>\n",
       "      <td>217</td>\n",
       "      <td>0</td>\n",
       "      <td>0</td>\n",
       "    </tr>\n",
       "    <tr>\n",
       "      <th>2</th>\n",
       "      <td>Alex Bentley</td>\n",
       "      <td>CON</td>\n",
       "      <td>G</td>\n",
       "      <td>170</td>\n",
       "      <td>69</td>\n",
       "      <td>23.875433</td>\n",
       "      <td>US</td>\n",
       "      <td>October 27, 1990</td>\n",
       "      <td>26</td>\n",
       "      <td>Penn State</td>\n",
       "      <td>4</td>\n",
       "      <td>26</td>\n",
       "      <td>617</td>\n",
       "      <td>82</td>\n",
       "      <td>218</td>\n",
       "      <td>37.6</td>\n",
       "      <td>19</td>\n",
       "      <td>64</td>\n",
       "      <td>29.7</td>\n",
       "      <td>35</td>\n",
       "      <td>42</td>\n",
       "      <td>83.3</td>\n",
       "      <td>4</td>\n",
       "      <td>36</td>\n",
       "      <td>40</td>\n",
       "      <td>78</td>\n",
       "      <td>22</td>\n",
       "      <td>3</td>\n",
       "      <td>24</td>\n",
       "      <td>218</td>\n",
       "      <td>0</td>\n",
       "      <td>0</td>\n",
       "    </tr>\n",
       "    <tr>\n",
       "      <th>3</th>\n",
       "      <td>Alex Montgomery</td>\n",
       "      <td>SAN</td>\n",
       "      <td>G/F</td>\n",
       "      <td>185</td>\n",
       "      <td>84</td>\n",
       "      <td>24.543462</td>\n",
       "      <td>US</td>\n",
       "      <td>December 11, 1988</td>\n",
       "      <td>28</td>\n",
       "      <td>Georgia Tech</td>\n",
       "      <td>6</td>\n",
       "      <td>31</td>\n",
       "      <td>721</td>\n",
       "      <td>75</td>\n",
       "      <td>195</td>\n",
       "      <td>38.5</td>\n",
       "      <td>21</td>\n",
       "      <td>68</td>\n",
       "      <td>30.9</td>\n",
       "      <td>17</td>\n",
       "      <td>21</td>\n",
       "      <td>81.0</td>\n",
       "      <td>35</td>\n",
       "      <td>134</td>\n",
       "      <td>169</td>\n",
       "      <td>65</td>\n",
       "      <td>20</td>\n",
       "      <td>10</td>\n",
       "      <td>38</td>\n",
       "      <td>188</td>\n",
       "      <td>2</td>\n",
       "      <td>0</td>\n",
       "    </tr>\n",
       "    <tr>\n",
       "      <th>4</th>\n",
       "      <td>Alexis Jones</td>\n",
       "      <td>MIN</td>\n",
       "      <td>G</td>\n",
       "      <td>175</td>\n",
       "      <td>78</td>\n",
       "      <td>25.469388</td>\n",
       "      <td>US</td>\n",
       "      <td>August 5, 1994</td>\n",
       "      <td>23</td>\n",
       "      <td>Baylor</td>\n",
       "      <td>R</td>\n",
       "      <td>24</td>\n",
       "      <td>137</td>\n",
       "      <td>16</td>\n",
       "      <td>50</td>\n",
       "      <td>32.0</td>\n",
       "      <td>7</td>\n",
       "      <td>20</td>\n",
       "      <td>35.0</td>\n",
       "      <td>11</td>\n",
       "      <td>12</td>\n",
       "      <td>91.7</td>\n",
       "      <td>3</td>\n",
       "      <td>9</td>\n",
       "      <td>12</td>\n",
       "      <td>12</td>\n",
       "      <td>7</td>\n",
       "      <td>0</td>\n",
       "      <td>14</td>\n",
       "      <td>50</td>\n",
       "      <td>0</td>\n",
       "      <td>0</td>\n",
       "    </tr>\n",
       "  </tbody>\n",
       "</table>\n",
       "</div>"
      ],
      "text/plain": [
       "              Name Team  Pos  Height  Weight        BMI Birth_Place  \\\n",
       "0    Aerial Powers  DAL    F     183      71  21.200991          US   \n",
       "1      Alana Beard   LA  G/F     185      73  21.329438          US   \n",
       "2     Alex Bentley  CON    G     170      69  23.875433          US   \n",
       "3  Alex Montgomery  SAN  G/F     185      84  24.543462          US   \n",
       "4     Alexis Jones  MIN    G     175      78  25.469388          US   \n",
       "\n",
       "           Birthdate  Age         College Experience  Games Played  MIN  FGM  \\\n",
       "0   January 17, 1994   23  Michigan State          2             8  173   30   \n",
       "1       May 14, 1982   35            Duke         12            30  947   90   \n",
       "2   October 27, 1990   26      Penn State          4            26  617   82   \n",
       "3  December 11, 1988   28    Georgia Tech          6            31  721   75   \n",
       "4     August 5, 1994   23          Baylor          R            24  137   16   \n",
       "\n",
       "   FGA   FG%  3PM  3PA   3P%  FTM  FTA   FT%  OREB  DREB  REB  AST  STL  BLK  \\\n",
       "0   85  35.3   12   32  37.5   21   26  80.8     6    22   28   12    3    6   \n",
       "1  177  50.8    5   18  27.8   32   41  78.0    19    82  101   72   63   13   \n",
       "2  218  37.6   19   64  29.7   35   42  83.3     4    36   40   78   22    3   \n",
       "3  195  38.5   21   68  30.9   17   21  81.0    35   134  169   65   20   10   \n",
       "4   50  32.0    7   20  35.0   11   12  91.7     3     9   12   12    7    0   \n",
       "\n",
       "   TO  PTS  DD2  TD3  \n",
       "0  12   93    0    0  \n",
       "1  40  217    0    0  \n",
       "2  24  218    0    0  \n",
       "3  38  188    2    0  \n",
       "4  14   50    0    0  "
      ]
     },
     "execution_count": 2,
     "metadata": {},
     "output_type": "execute_result"
    }
   ],
   "source": [
    "wnba = pd.read_csv(\"../data/wnba-clean.csv\")\n",
    "wnba.head()"
   ]
  },
  {
   "cell_type": "markdown",
   "metadata": {},
   "source": [
    "# Question 1: Can my sister play in a professional female basketball league?\n",
    "\n",
    "As we said, you grandmother is convinced that your sister couldn't play in a professional league because of her physique and weight (her weight is 67kg). \n",
    "\n",
    "To find an actual answer to the question we first need to know what's the average weight of a professional female basketball player. The data we have only refers to the WNBA league and not to every female professional basketball league in the world, therefore we have no way of actually calculating it.\n",
    "\n",
    "Still, given that we do have *some* data we can **infer** it using a sample of players like the one we have. \n",
    "\n",
    "**How would you do it? Try and think about the requirements that your sample must satisfy in order to be used to infer the average weight. Do you feel it actually fulfills those requirements? Do you need to make any assumptions? We could calculate a confidence interval to do the inference, but do you know any other ways?**"
   ]
  },
  {
   "cell_type": "code",
   "execution_count": 3,
   "metadata": {},
   "outputs": [
    {
     "data": {
      "text/plain": [
       "'\\nSample size > 30\\nNormally distributed\\nIndependent samples\\n\\n'"
      ]
     },
     "execution_count": 3,
     "metadata": {},
     "output_type": "execute_result"
    }
   ],
   "source": [
    "\"\"\"\n",
    "Sample size > 30\n",
    "Normally distributed\n",
    "Independent samples\n",
    "\n",
    "\"\"\""
   ]
  },
  {
   "cell_type": "markdown",
   "metadata": {},
   "source": [
    "**Now that all the requirements have been taken into account, compute the confidence interval of the average weight with a confidence level of 95%.**"
   ]
  },
  {
   "cell_type": "code",
   "execution_count": 4,
   "metadata": {},
   "outputs": [
    {
     "data": {
      "text/plain": [
       "(57.50291420081216, 100.45483227806109)"
      ]
     },
     "execution_count": 4,
     "metadata": {},
     "output_type": "execute_result"
    }
   ],
   "source": [
    "avg_weight = np.mean(wnba[\"Weight\"])\n",
    "confidence = 0.95\n",
    "df = len(wnba[\"Weight\"])-1\n",
    "stdv_weight = np.std(wnba[\"Weight\"])\n",
    "# stdv_weight = (wnba[\"Weight\"]).std()\n",
    "\n",
    "# tstudent_std = np.std(wnba[\"Weight\"]) / math.sqrt(len(wnba[\"Weight\"]))\n",
    "\n",
    "stats.norm.interval(confidence, loc=avg_weight, scale=stdv_weight)"
   ]
  },
  {
   "cell_type": "markdown",
   "metadata": {},
   "source": [
    "**What can you say about these results?**"
   ]
  },
  {
   "cell_type": "code",
   "execution_count": 5,
   "metadata": {},
   "outputs": [
    {
     "data": {
      "text/plain": [
       "'\\nThere is a 95% likelihood of a random player having weight between 57kg to 100kg\\n'"
      ]
     },
     "execution_count": 5,
     "metadata": {},
     "output_type": "execute_result"
    }
   ],
   "source": [
    "\"\"\"\n",
    "There is a 95% likelihood of a random player having weight between 57kg to 100kg\n",
    "\"\"\""
   ]
  },
  {
   "cell_type": "markdown",
   "metadata": {},
   "source": [
    "**If your sister weighs 67kg what would you tell your grandmother in regards to her assumption?**"
   ]
  },
  {
   "cell_type": "code",
   "execution_count": 6,
   "metadata": {},
   "outputs": [
    {
     "data": {
      "text/plain": [
       "\"\\nHer weight wouldn'\\n\""
      ]
     },
     "execution_count": 6,
     "metadata": {},
     "output_type": "execute_result"
    }
   ],
   "source": [
    "\"\"\"\n",
    "Her weight wouldn'\n",
    "\"\"\""
   ]
  },
  {
   "cell_type": "code",
   "execution_count": 7,
   "metadata": {},
   "outputs": [
    {
     "name": "stdout",
     "output_type": "stream",
     "text": [
      "55\n",
      "113\n"
     ]
    }
   ],
   "source": [
    "print(np.min(wnba[\"Weight\"]))\n",
    "print(np.max(wnba[\"Weight\"]))"
   ]
  },
  {
   "cell_type": "markdown",
   "metadata": {},
   "source": [
    "## Bonus: Can you plot the probability distribution of the average weight, indicating where the critical region is?"
   ]
  },
  {
   "cell_type": "code",
   "execution_count": 8,
   "metadata": {},
   "outputs": [
    {
     "data": {
      "text/plain": [
       "[]"
      ]
     },
     "execution_count": 8,
     "metadata": {},
     "output_type": "execute_result"
    },
    {
     "data": {
      "image/png": "[encoded data removed]",
      "text/plain": [
       "<Figure size 432x288 with 1 Axes>"
      ]
     },
     "metadata": {
      "needs_background": "light"
     },
     "output_type": "display_data"
    }
   ],
   "source": [
    "x_min = np.min(wnba[\"Weight\"])\n",
    "x_max = np.max(wnba[\"Weight\"])\n",
    "\n",
    "x = np.linspace(x_min, x_max, 100)\n",
    "y = stats.norm.pdf(x,avg_weight)\n",
    "\n",
    "plt.plot(x,y)\n",
    "plt.plot()"
   ]
  },
  {
   "cell_type": "markdown",
   "metadata": {},
   "source": [
    "# Question 2: Do female professional basketball players fail the majority of their free throws?\n",
    "\n",
    "You do not agree with your sister when she says that most female players fail their free throws. You decide to try and estimate the percentage of players that fail more than 40% of their free throws using, you guessed it, the WNBA sample.\n",
    "\n",
    "**How would you do it? Try and think about the requirements that your sample must satisfy in order to be used to infer the proportion of players that miss more than 40% of their free throws. Do you feel it actually fulfills those requirements? Do you need to make any assumptions?**"
   ]
  },
  {
   "cell_type": "code",
   "execution_count": 9,
   "metadata": {},
   "outputs": [
    {
     "data": {
      "text/plain": [
       "'\\nSample size > 30\\nNormally distributed\\nIndependent samples\\n\\n'"
      ]
     },
     "execution_count": 9,
     "metadata": {},
     "output_type": "execute_result"
    }
   ],
   "source": [
    "\"\"\"\n",
    "Sample size > 30\n",
    "Normally distributed\n",
    "Independent samples\n",
    "\n",
    "\"\"\""
   ]
  },
  {
   "cell_type": "markdown",
   "metadata": {},
   "source": [
    "**Now that all the requirements have been taken into account, compute the confidence interval of the proportion with a confidence level of 95%:**"
   ]
  },
  {
   "cell_type": "code",
   "execution_count": 10,
   "metadata": {},
   "outputs": [
    {
     "data": {
      "text/plain": [
       "7018"
      ]
     },
     "execution_count": 10,
     "metadata": {},
     "output_type": "execute_result"
    }
   ],
   "source": [
    "sum(wnba[\"FTA\"])"
   ]
  },
  {
   "cell_type": "code",
   "execution_count": 11,
   "metadata": {},
   "outputs": [
    {
     "name": "stdout",
     "output_type": "stream",
     "text": [
      "Confidence interval 95%: (0.049558988317297346, 0.14762411027425193)\n"
     ]
    }
   ],
   "source": [
    "total = len(wnba)\n",
    "fail = len(wnba[wnba[\"FT%\"]<60])\n",
    "prop = fail / total\n",
    "stderr = math.sqrt(((prop * (1-prop)) / total))\n",
    "\n",
    "conf_int = stats.norm.interval(0.95, prop, stderr)\n",
    "print(\"Confidence interval 95%:\",conf_int)"
   ]
  },
  {
   "cell_type": "code",
   "execution_count": 12,
   "metadata": {},
   "outputs": [
    {
     "name": "stdout",
     "output_type": "stream",
     "text": [
      "Confidence interval 95%: (0.31942328836747436, 0.4805767116325257)\n"
     ]
    }
   ],
   "source": [
    "# Variables\n",
    "confidence = 0.95\n",
    "\n",
    "# Parameters\n",
    "ratio = 0.4\n",
    "stderror = math.sqrt((ratio * (1 - ratio)) / len(wnba))\n",
    "\n",
    "# Confidence interval\n",
    "confidence_int = stats.norm.interval(confidence, loc=ratio, scale=stderror)\n",
    "print(\"Confidence interval 95%:\",confidence_int)"
   ]
  },
  {
   "cell_type": "markdown",
   "metadata": {},
   "source": [
    "**What can you comment about our result? What would you tell your sister?**"
   ]
  },
  {
   "cell_type": "code",
   "execution_count": 13,
   "metadata": {},
   "outputs": [
    {
     "data": {
      "text/plain": [
       "'\\nWith a confidence level of 95%, between 32% and 48% of players failed free throws.\\nSo my sister is not correct, as most female players do not fail free throws.\\n'"
      ]
     },
     "execution_count": 13,
     "metadata": {},
     "output_type": "execute_result"
    }
   ],
   "source": [
    "\"\"\"\n",
    "With a confidence level of 95%, between 32% and 48% of players failed free throws.\n",
    "So my sister is not correct, as most female players do not fail free throws.\n",
    "\"\"\""
   ]
  },
  {
   "cell_type": "markdown",
   "metadata": {},
   "source": [
    "# Bonus: Can you plot the probability distribution of the proportion of missed free throws, indicating where the critical region is?"
   ]
  },
  {
   "cell_type": "code",
   "execution_count": 14,
   "metadata": {},
   "outputs": [],
   "source": [
    "#your code here"
   ]
  },
  {
   "cell_type": "markdown",
   "metadata": {},
   "source": [
    "# Question 3: Is the average number of assists for WNBA players only higher than the average for WNBA and NBA players together?"
   ]
  },
  {
   "cell_type": "markdown",
   "metadata": {},
   "source": [
    "Your brother-in-law is convinced that the average assists for female professional players is higher than the average of both female and male players combined (which is 52 for the 2016-2017 season). You would like to actually prove if this is true or not but you remember your stats teacher saying \"you can't *prove* anything, you just can say that *you are not* saying foolishness\".\n",
    "\n",
    "**How would you do it? Try and think about the requirements that your sample must satisfy in order to do that. Do you feel it actually fulfills those requirements? Do you need to make any assumptions?**"
   ]
  },
  {
   "cell_type": "code",
   "execution_count": 15,
   "metadata": {},
   "outputs": [
    {
     "data": {
      "text/plain": [
       "'\\nSample size > 30\\nNormally distributed\\nIndependent samples\\n\\nH0: Average assists is the same across male and female\\nH1: Average assists is higher than the average of both female and male\\n\\n'"
      ]
     },
     "execution_count": 15,
     "metadata": {},
     "output_type": "execute_result"
    }
   ],
   "source": [
    "\"\"\"\n",
    "Sample size > 30\n",
    "Normally distributed\n",
    "Independent samples\n",
    "\n",
    "H0: Average assists is the same across male and female\n",
    "H1: Average assists is higher than the average of both female and male\n",
    "\n",
    "\"\"\""
   ]
  },
  {
   "cell_type": "markdown",
   "metadata": {},
   "source": [
    "**Use a two-tailed one-sample t-test to see if we can reject (or not) the null hypothesis with a 95% confidence level.**"
   ]
  },
  {
   "cell_type": "code",
   "execution_count": 16,
   "metadata": {
    "scrolled": true
   },
   "outputs": [
    {
     "data": {
      "text/plain": [
       "0.033261541354107166"
      ]
     },
     "execution_count": 16,
     "metadata": {},
     "output_type": "execute_result"
    }
   ],
   "source": [
    "# The average of both female and male assists = 52\n",
    "p = stats.ttest_1samp(wnba[\"AST\"],52)[1]\n",
    "p"
   ]
  },
  {
   "cell_type": "code",
   "execution_count": 17,
   "metadata": {},
   "outputs": [
    {
     "data": {
      "text/plain": [
       "'\\nBecause p < .05 we reject the null hypothesis\\n'"
      ]
     },
     "execution_count": 17,
     "metadata": {},
     "output_type": "execute_result"
    }
   ],
   "source": [
    "\"\"\"\n",
    "Because p < .05 we reject the null hypothesis\n",
    "\"\"\""
   ]
  },
  {
   "cell_type": "markdown",
   "metadata": {},
   "source": [
    "**Now use a one-tailed one-sample t-test to see if we can reject (or not) the null hypothesis with a 95% confidence level.**"
   ]
  },
  {
   "cell_type": "code",
   "execution_count": 18,
   "metadata": {},
   "outputs": [
    {
     "data": {
      "text/plain": [
       "0.016630770677053583"
      ]
     },
     "execution_count": 18,
     "metadata": {},
     "output_type": "execute_result"
    }
   ],
   "source": [
    "p/2"
   ]
  },
  {
   "cell_type": "code",
   "execution_count": 19,
   "metadata": {},
   "outputs": [
    {
     "data": {
      "text/plain": [
       "'\\nBecause p < .05 we reject the null hypothesis\\n'"
      ]
     },
     "execution_count": 19,
     "metadata": {},
     "output_type": "execute_result"
    }
   ],
   "source": [
    "\"\"\"\n",
    "Because p < .05 we reject the null hypothesis\n",
    "\"\"\""
   ]
  },
  {
   "cell_type": "markdown",
   "metadata": {},
   "source": [
    "# Bonus: Can you plot the resulting t-distribution of both tests? Indicate where the is the critical region and where does your statistic fall.**"
   ]
  },
  {
   "cell_type": "code",
   "execution_count": 20,
   "metadata": {},
   "outputs": [],
   "source": [
    "#your code here"
   ]
  },
  {
   "cell_type": "markdown",
   "metadata": {},
   "source": [
    "# Bonus: Satisfying your curiosity\n",
    "\n",
    "You finally managed to solve your family's debates over basketball! While you were doing that you started to take an interest in the normal distribution.\n",
    "\n",
    "You read that the normal distribution is present in a lot of natural phenomenons, like blood pressure, IQ, weight and height. If, for example, we could plot the distribution of the weights of every human on the planet right now it would have the shape of a normal distribution.\n",
    "\n",
    "In light of this you would like to see if it's possible to check if the distribution of the weights of the WNBA players is a sample distribution that comes from a population that has a normal distribution, because theoretically this should be the case.\n",
    "\n",
    "**How would you try to demonstrate that our sample fits a normal distribution? What kind of test would you use? Would you have to make any assumptions?**"
   ]
  },
  {
   "cell_type": "code",
   "execution_count": 21,
   "metadata": {},
   "outputs": [
    {
     "data": {
      "text/plain": [
       "<matplotlib.axes._subplots.AxesSubplot at 0x7ff53d0fe490>"
      ]
     },
     "execution_count": 21,
     "metadata": {},
     "output_type": "execute_result"
    },
    {
     "data": {
      "image/png": "[encoded data removed]",
      "text/plain": [
       "<Figure size 432x288 with 1 Axes>"
      ]
     },
     "metadata": {
      "needs_background": "light"
     },
     "output_type": "display_data"
    }
   ],
   "source": [
    "wnba[\"Weight\"].hist()"
   ]
  },
  {
   "cell_type": "code",
   "execution_count": 22,
   "metadata": {},
   "outputs": [
    {
     "data": {
      "text/plain": [
       "<matplotlib.axes._subplots.AxesSubplot at 0x7ff53d1741d0>"
      ]
     },
     "execution_count": 22,
     "metadata": {},
     "output_type": "execute_result"
    },
    {
     "data": {
      "image/png": "[encoded data removed]",
      "text/plain": [
       "<Figure size 432x288 with 1 Axes>"
      ]
     },
     "metadata": {
      "needs_background": "light"
     },
     "output_type": "display_data"
    }
   ],
   "source": [
    "wnba[\"Weight\"].plot(kind = \"box\")"
   ]
  },
  {
   "cell_type": "code",
   "execution_count": 23,
   "metadata": {},
   "outputs": [
    {
     "data": {
      "image/png": "[encoded data removed]",
      "text/plain": [
       "<Figure size 432x288 with 1 Axes>"
      ]
     },
     "metadata": {
      "needs_background": "light"
     },
     "output_type": "display_data"
    },
    {
     "data": {
      "text/plain": [
       "'\\nThe QQ Plot allows us to see deviation of a normal distribution \\nmuch better than in a Histogram or box plot.\\n'"
      ]
     },
     "execution_count": 23,
     "metadata": {},
     "output_type": "execute_result"
    }
   ],
   "source": [
    "import statsmodels.api as sm\n",
    "import pylab\n",
    "my_data = wnba[\"Weight\"]\n",
    "sm.qqplot(my_data, line='45')\n",
    "pylab.show()\n",
    "\n",
    "\"\"\"\n",
    "The QQ Plot allows us to see deviation of a normal distribution \n",
    "much better than in a Histogram or box plot.\n",
    "\"\"\""
   ]
  },
  {
   "cell_type": "code",
   "execution_count": 24,
   "metadata": {},
   "outputs": [
    {
     "name": "stdout",
     "output_type": "stream",
     "text": [
      "1.0 0.0\n"
     ]
    }
   ],
   "source": [
    "# KS Test\n",
    "from scipy.stats import kstest, norm\n",
    "my_data = wnba[\"Weight\"]\n",
    "ks_statistic, p_value = kstest(my_data, 'norm')\n",
    "print(ks_statistic, p_value)\n",
    "\n",
    "# Resource: https://towardsdatascience.com/6-ways-to-test-for-a-normal-distribution-which-one-to-use-9dcf47d8fa93"
   ]
  },
  {
   "cell_type": "code",
   "execution_count": 25,
   "metadata": {},
   "outputs": [
    {
     "data": {
      "text/plain": [
       "(0.9781054854393005, 0.022327149286866188)"
      ]
     },
     "execution_count": 25,
     "metadata": {},
     "output_type": "execute_result"
    }
   ],
   "source": [
    "# Shapiro test\n",
    "\n",
    "from scipy.stats import norm\n",
    "from scipy import stats\n",
    "my_data = wnba[\"Weight\"]\n",
    "stats.shapiro(my_data)\n",
    "\n",
    "# Resource: https://towardsdatascience.com/6-ways-to-test-for-a-normal-distribution-which-one-to-use-9dcf47d8fa93"
   ]
  },
  {
   "cell_type": "markdown",
   "metadata": {},
   "source": [
    "**What are your comments in regards to the results of the test?**"
   ]
  },
  {
   "cell_type": "code",
   "execution_count": 26,
   "metadata": {},
   "outputs": [
    {
     "data": {
      "text/plain": [
       "'\\nQQ Plot: There is no straight line so we do not a normal distribution.\\n\\nKS Test: P<0.05 so we do not assume a normal distribution\\n\\nShapiro: P< 0.05, so we do not assume a normal distribution\\n'"
      ]
     },
     "execution_count": 26,
     "metadata": {},
     "output_type": "execute_result"
    }
   ],
   "source": [
    "\"\"\"\n",
    "QQ Plot: There is no straight line so we do not a normal distribution.\n",
    "\n",
    "KS Test: P<0.05 so we do not assume a normal distribution\n",
    "\n",
    "Shapiro: P< 0.05, so we do not assume a normal distribution\n",
    "\"\"\""
   ]
  },
  {
   "cell_type": "code",
   "execution_count": 34,
   "metadata": {},
   "outputs": [
    {
     "data": {
      "text/plain": [
       "<matplotlib.axes._subplots.AxesSubplot at 0x7ff53e465190>"
      ]
     },
     "execution_count": 34,
     "metadata": {},
     "output_type": "execute_result"
    },
    {
     "data": {
      "image/png": "[encoded data removed]",
      "text/plain": [
       "<Figure size 432x288 with 1 Axes>"
      ]
     },
     "metadata": {
      "needs_background": "light"
     },
     "output_type": "display_data"
    }
   ],
   "source": [
    "import seaborn as sns\n",
    "sns.boxplot(x=\"Pos\",y=\"Height\", data=wnba)"
   ]
  },
  {
   "cell_type": "code",
   "execution_count": null,
   "metadata": {},
   "outputs": [],
   "source": [
    "F = Small Forward\n",
    "G/F = Shooting Guard\n",
    "G = Point Guard\n",
    "C = Center\n",
    "F/C = Small Forward"
   ]
  },
  {
   "cell_type": "code",
   "execution_count": null,
   "metadata": {},
   "outputs": [],
   "source": [
    "# Does shooting guard and point guard positions really get to score all the field goals?\n"
   ]
  },
  {
   "cell_type": "code",
   "execution_count": null,
   "metadata": {},
   "outputs": [],
   "source": [
    "# Compare age against all % categories (field goals, 3points, free throws)\n"
   ]
  },
  {
   "cell_type": "code",
   "execution_count": null,
   "metadata": {},
   "outputs": [],
   "source": [
    "# Compare time played against all  % categories (field goals, 3points, free throws)\n",
    "# Compare time played against which college they are from\n",
    "# Which position takes the most type of shot?\n",
    "# Look at comparison between years of experience against time played"
   ]
  },
  {
   "cell_type": "code",
   "execution_count": 39,
   "metadata": {},
   "outputs": [
    {
     "data": {
      "text/html": [
       "<div>\n",
       "<style scoped>\n",
       "    .dataframe tbody tr th:only-of-type {\n",
       "        vertical-align: middle;\n",
       "    }\n",
       "\n",
       "    .dataframe tbody tr th {\n",
       "        vertical-align: top;\n",
       "    }\n",
       "\n",
       "    .dataframe thead th {\n",
       "        text-align: right;\n",
       "    }\n",
       "</style>\n",
       "<table border=\"1\" class=\"dataframe\">\n",
       "  <thead>\n",
       "    <tr style=\"text-align: right;\">\n",
       "      <th></th>\n",
       "      <th>Name</th>\n",
       "      <th>Team</th>\n",
       "      <th>Pos</th>\n",
       "      <th>Height</th>\n",
       "      <th>Weight</th>\n",
       "      <th>BMI</th>\n",
       "      <th>Birth_Place</th>\n",
       "      <th>Birthdate</th>\n",
       "      <th>Age</th>\n",
       "      <th>College</th>\n",
       "      <th>Experience</th>\n",
       "      <th>Games Played</th>\n",
       "      <th>MIN</th>\n",
       "      <th>FGM</th>\n",
       "      <th>FGA</th>\n",
       "      <th>FG%</th>\n",
       "      <th>3PM</th>\n",
       "      <th>3PA</th>\n",
       "      <th>3P%</th>\n",
       "      <th>FTM</th>\n",
       "      <th>FTA</th>\n",
       "      <th>FT%</th>\n",
       "      <th>OREB</th>\n",
       "      <th>DREB</th>\n",
       "      <th>REB</th>\n",
       "      <th>AST</th>\n",
       "      <th>STL</th>\n",
       "      <th>BLK</th>\n",
       "      <th>TO</th>\n",
       "      <th>PTS</th>\n",
       "      <th>DD2</th>\n",
       "      <th>TD3</th>\n",
       "    </tr>\n",
       "  </thead>\n",
       "  <tbody>\n",
       "    <tr>\n",
       "      <th>4</th>\n",
       "      <td>Alexis Jones</td>\n",
       "      <td>MIN</td>\n",
       "      <td>G</td>\n",
       "      <td>175</td>\n",
       "      <td>78</td>\n",
       "      <td>25.469388</td>\n",
       "      <td>US</td>\n",
       "      <td>August 5, 1994</td>\n",
       "      <td>23</td>\n",
       "      <td>Baylor</td>\n",
       "      <td>R</td>\n",
       "      <td>24</td>\n",
       "      <td>137</td>\n",
       "      <td>16</td>\n",
       "      <td>50</td>\n",
       "      <td>32.0</td>\n",
       "      <td>7</td>\n",
       "      <td>20</td>\n",
       "      <td>35.0</td>\n",
       "      <td>11</td>\n",
       "      <td>12</td>\n",
       "      <td>91.7</td>\n",
       "      <td>3</td>\n",
       "      <td>9</td>\n",
       "      <td>12</td>\n",
       "      <td>12</td>\n",
       "      <td>7</td>\n",
       "      <td>0</td>\n",
       "      <td>14</td>\n",
       "      <td>50</td>\n",
       "      <td>0</td>\n",
       "      <td>0</td>\n",
       "    </tr>\n",
       "    <tr>\n",
       "      <th>67</th>\n",
       "      <td>Jia Perkins</td>\n",
       "      <td>MIN</td>\n",
       "      <td>G</td>\n",
       "      <td>173</td>\n",
       "      <td>75</td>\n",
       "      <td>25.059307</td>\n",
       "      <td>US</td>\n",
       "      <td>February 23, 1982</td>\n",
       "      <td>35</td>\n",
       "      <td>Texas Tech</td>\n",
       "      <td>14</td>\n",
       "      <td>30</td>\n",
       "      <td>932</td>\n",
       "      <td>178</td>\n",
       "      <td>420</td>\n",
       "      <td>42.4</td>\n",
       "      <td>47</td>\n",
       "      <td>123</td>\n",
       "      <td>38.2</td>\n",
       "      <td>114</td>\n",
       "      <td>134</td>\n",
       "      <td>85.1</td>\n",
       "      <td>24</td>\n",
       "      <td>72</td>\n",
       "      <td>96</td>\n",
       "      <td>103</td>\n",
       "      <td>41</td>\n",
       "      <td>11</td>\n",
       "      <td>83</td>\n",
       "      <td>517</td>\n",
       "      <td>0</td>\n",
       "      <td>0</td>\n",
       "    </tr>\n",
       "    <tr>\n",
       "      <th>88</th>\n",
       "      <td>Lindsay Whalen</td>\n",
       "      <td>MIN</td>\n",
       "      <td>G</td>\n",
       "      <td>175</td>\n",
       "      <td>78</td>\n",
       "      <td>25.469388</td>\n",
       "      <td>US</td>\n",
       "      <td>September 5, 1982</td>\n",
       "      <td>34</td>\n",
       "      <td>Minnesota</td>\n",
       "      <td>14</td>\n",
       "      <td>22</td>\n",
       "      <td>520</td>\n",
       "      <td>69</td>\n",
       "      <td>153</td>\n",
       "      <td>45.1</td>\n",
       "      <td>12</td>\n",
       "      <td>34</td>\n",
       "      <td>35.3</td>\n",
       "      <td>27</td>\n",
       "      <td>36</td>\n",
       "      <td>75.0</td>\n",
       "      <td>8</td>\n",
       "      <td>46</td>\n",
       "      <td>54</td>\n",
       "      <td>90</td>\n",
       "      <td>11</td>\n",
       "      <td>2</td>\n",
       "      <td>44</td>\n",
       "      <td>177</td>\n",
       "      <td>0</td>\n",
       "      <td>0</td>\n",
       "    </tr>\n",
       "    <tr>\n",
       "      <th>93</th>\n",
       "      <td>Maya Moore</td>\n",
       "      <td>MIN</td>\n",
       "      <td>F</td>\n",
       "      <td>183</td>\n",
       "      <td>80</td>\n",
       "      <td>23.888441</td>\n",
       "      <td>US</td>\n",
       "      <td>November 6, 1989</td>\n",
       "      <td>27</td>\n",
       "      <td>Connecticut</td>\n",
       "      <td>7</td>\n",
       "      <td>29</td>\n",
       "      <td>904</td>\n",
       "      <td>170</td>\n",
       "      <td>398</td>\n",
       "      <td>42.7</td>\n",
       "      <td>52</td>\n",
       "      <td>132</td>\n",
       "      <td>39.4</td>\n",
       "      <td>98</td>\n",
       "      <td>114</td>\n",
       "      <td>86.0</td>\n",
       "      <td>50</td>\n",
       "      <td>106</td>\n",
       "      <td>156</td>\n",
       "      <td>99</td>\n",
       "      <td>53</td>\n",
       "      <td>13</td>\n",
       "      <td>56</td>\n",
       "      <td>490</td>\n",
       "      <td>3</td>\n",
       "      <td>0</td>\n",
       "    </tr>\n",
       "    <tr>\n",
       "      <th>99</th>\n",
       "      <td>Natasha Howard</td>\n",
       "      <td>MIN</td>\n",
       "      <td>F</td>\n",
       "      <td>188</td>\n",
       "      <td>75</td>\n",
       "      <td>21.220009</td>\n",
       "      <td>US</td>\n",
       "      <td>February 9, 1991</td>\n",
       "      <td>26</td>\n",
       "      <td>Florida State</td>\n",
       "      <td>4</td>\n",
       "      <td>29</td>\n",
       "      <td>315</td>\n",
       "      <td>48</td>\n",
       "      <td>104</td>\n",
       "      <td>46.2</td>\n",
       "      <td>3</td>\n",
       "      <td>13</td>\n",
       "      <td>23.1</td>\n",
       "      <td>17</td>\n",
       "      <td>23</td>\n",
       "      <td>73.9</td>\n",
       "      <td>25</td>\n",
       "      <td>38</td>\n",
       "      <td>63</td>\n",
       "      <td>16</td>\n",
       "      <td>11</td>\n",
       "      <td>19</td>\n",
       "      <td>20</td>\n",
       "      <td>116</td>\n",
       "      <td>0</td>\n",
       "      <td>0</td>\n",
       "    </tr>\n",
       "    <tr>\n",
       "      <th>105</th>\n",
       "      <td>Plenette Pierson</td>\n",
       "      <td>MIN</td>\n",
       "      <td>F/C</td>\n",
       "      <td>188</td>\n",
       "      <td>88</td>\n",
       "      <td>24.898144</td>\n",
       "      <td>US</td>\n",
       "      <td>August 31, 1981</td>\n",
       "      <td>35</td>\n",
       "      <td>Texas Tech</td>\n",
       "      <td>15</td>\n",
       "      <td>29</td>\n",
       "      <td>402</td>\n",
       "      <td>54</td>\n",
       "      <td>142</td>\n",
       "      <td>38.0</td>\n",
       "      <td>17</td>\n",
       "      <td>51</td>\n",
       "      <td>33.3</td>\n",
       "      <td>15</td>\n",
       "      <td>20</td>\n",
       "      <td>75.0</td>\n",
       "      <td>13</td>\n",
       "      <td>49</td>\n",
       "      <td>62</td>\n",
       "      <td>48</td>\n",
       "      <td>12</td>\n",
       "      <td>4</td>\n",
       "      <td>33</td>\n",
       "      <td>140</td>\n",
       "      <td>0</td>\n",
       "      <td>0</td>\n",
       "    </tr>\n",
       "    <tr>\n",
       "      <th>109</th>\n",
       "      <td>Rebekkah Brunson</td>\n",
       "      <td>MIN</td>\n",
       "      <td>F</td>\n",
       "      <td>188</td>\n",
       "      <td>84</td>\n",
       "      <td>23.766410</td>\n",
       "      <td>US</td>\n",
       "      <td>November 12, 1981</td>\n",
       "      <td>35</td>\n",
       "      <td>Georgetown</td>\n",
       "      <td>14</td>\n",
       "      <td>26</td>\n",
       "      <td>719</td>\n",
       "      <td>97</td>\n",
       "      <td>218</td>\n",
       "      <td>44.5</td>\n",
       "      <td>22</td>\n",
       "      <td>60</td>\n",
       "      <td>36.7</td>\n",
       "      <td>62</td>\n",
       "      <td>83</td>\n",
       "      <td>74.7</td>\n",
       "      <td>46</td>\n",
       "      <td>135</td>\n",
       "      <td>181</td>\n",
       "      <td>40</td>\n",
       "      <td>31</td>\n",
       "      <td>9</td>\n",
       "      <td>42</td>\n",
       "      <td>278</td>\n",
       "      <td>2</td>\n",
       "      <td>0</td>\n",
       "    </tr>\n",
       "    <tr>\n",
       "      <th>110</th>\n",
       "      <td>Renee Montgomery</td>\n",
       "      <td>MIN</td>\n",
       "      <td>G</td>\n",
       "      <td>170</td>\n",
       "      <td>63</td>\n",
       "      <td>21.799308</td>\n",
       "      <td>US</td>\n",
       "      <td>February 12, 1986</td>\n",
       "      <td>31</td>\n",
       "      <td>Connecticut</td>\n",
       "      <td>9</td>\n",
       "      <td>29</td>\n",
       "      <td>614</td>\n",
       "      <td>71</td>\n",
       "      <td>181</td>\n",
       "      <td>39.2</td>\n",
       "      <td>30</td>\n",
       "      <td>89</td>\n",
       "      <td>33.7</td>\n",
       "      <td>44</td>\n",
       "      <td>51</td>\n",
       "      <td>86.3</td>\n",
       "      <td>12</td>\n",
       "      <td>34</td>\n",
       "      <td>46</td>\n",
       "      <td>96</td>\n",
       "      <td>24</td>\n",
       "      <td>1</td>\n",
       "      <td>43</td>\n",
       "      <td>216</td>\n",
       "      <td>0</td>\n",
       "      <td>0</td>\n",
       "    </tr>\n",
       "    <tr>\n",
       "      <th>116</th>\n",
       "      <td>Seimone Augustus</td>\n",
       "      <td>MIN</td>\n",
       "      <td>G/F</td>\n",
       "      <td>183</td>\n",
       "      <td>77</td>\n",
       "      <td>22.992624</td>\n",
       "      <td>US</td>\n",
       "      <td>April 30, 1984</td>\n",
       "      <td>33</td>\n",
       "      <td>LSU</td>\n",
       "      <td>12</td>\n",
       "      <td>27</td>\n",
       "      <td>756</td>\n",
       "      <td>125</td>\n",
       "      <td>251</td>\n",
       "      <td>49.8</td>\n",
       "      <td>18</td>\n",
       "      <td>41</td>\n",
       "      <td>43.9</td>\n",
       "      <td>30</td>\n",
       "      <td>35</td>\n",
       "      <td>85.7</td>\n",
       "      <td>12</td>\n",
       "      <td>70</td>\n",
       "      <td>82</td>\n",
       "      <td>108</td>\n",
       "      <td>17</td>\n",
       "      <td>1</td>\n",
       "      <td>39</td>\n",
       "      <td>298</td>\n",
       "      <td>1</td>\n",
       "      <td>0</td>\n",
       "    </tr>\n",
       "    <tr>\n",
       "      <th>130</th>\n",
       "      <td>Sylvia Fowles</td>\n",
       "      <td>MIN</td>\n",
       "      <td>C</td>\n",
       "      <td>198</td>\n",
       "      <td>96</td>\n",
       "      <td>24.487297</td>\n",
       "      <td>US</td>\n",
       "      <td>June 10, 1985</td>\n",
       "      <td>32</td>\n",
       "      <td>LSU</td>\n",
       "      <td>10</td>\n",
       "      <td>29</td>\n",
       "      <td>895</td>\n",
       "      <td>222</td>\n",
       "      <td>336</td>\n",
       "      <td>66.1</td>\n",
       "      <td>0</td>\n",
       "      <td>0</td>\n",
       "      <td>0.0</td>\n",
       "      <td>128</td>\n",
       "      <td>162</td>\n",
       "      <td>79.0</td>\n",
       "      <td>113</td>\n",
       "      <td>184</td>\n",
       "      <td>297</td>\n",
       "      <td>39</td>\n",
       "      <td>39</td>\n",
       "      <td>61</td>\n",
       "      <td>71</td>\n",
       "      <td>572</td>\n",
       "      <td>16</td>\n",
       "      <td>0</td>\n",
       "    </tr>\n",
       "    <tr>\n",
       "      <th>133</th>\n",
       "      <td>Temi Fagbenle</td>\n",
       "      <td>MIN</td>\n",
       "      <td>C</td>\n",
       "      <td>193</td>\n",
       "      <td>89</td>\n",
       "      <td>23.893259</td>\n",
       "      <td>UK</td>\n",
       "      <td>August 9, 1992</td>\n",
       "      <td>25</td>\n",
       "      <td>Southern California</td>\n",
       "      <td>R</td>\n",
       "      <td>17</td>\n",
       "      <td>74</td>\n",
       "      <td>6</td>\n",
       "      <td>14</td>\n",
       "      <td>42.9</td>\n",
       "      <td>0</td>\n",
       "      <td>0</td>\n",
       "      <td>0.0</td>\n",
       "      <td>5</td>\n",
       "      <td>6</td>\n",
       "      <td>83.3</td>\n",
       "      <td>3</td>\n",
       "      <td>13</td>\n",
       "      <td>16</td>\n",
       "      <td>1</td>\n",
       "      <td>3</td>\n",
       "      <td>3</td>\n",
       "      <td>8</td>\n",
       "      <td>17</td>\n",
       "      <td>0</td>\n",
       "      <td>0</td>\n",
       "    </tr>\n",
       "  </tbody>\n",
       "</table>\n",
       "</div>"
      ],
      "text/plain": [
       "                 Name Team  Pos  Height  Weight        BMI Birth_Place  \\\n",
       "4        Alexis Jones  MIN    G     175      78  25.469388          US   \n",
       "67        Jia Perkins  MIN    G     173      75  25.059307          US   \n",
       "88     Lindsay Whalen  MIN    G     175      78  25.469388          US   \n",
       "93         Maya Moore  MIN    F     183      80  23.888441          US   \n",
       "99     Natasha Howard  MIN    F     188      75  21.220009          US   \n",
       "105  Plenette Pierson  MIN  F/C     188      88  24.898144          US   \n",
       "109  Rebekkah Brunson  MIN    F     188      84  23.766410          US   \n",
       "110  Renee Montgomery  MIN    G     170      63  21.799308          US   \n",
       "116  Seimone Augustus  MIN  G/F     183      77  22.992624          US   \n",
       "130     Sylvia Fowles  MIN    C     198      96  24.487297          US   \n",
       "133     Temi Fagbenle  MIN    C     193      89  23.893259          UK   \n",
       "\n",
       "             Birthdate  Age              College Experience  Games Played  \\\n",
       "4       August 5, 1994   23               Baylor          R            24   \n",
       "67   February 23, 1982   35           Texas Tech         14            30   \n",
       "88   September 5, 1982   34            Minnesota         14            22   \n",
       "93    November 6, 1989   27          Connecticut          7            29   \n",
       "99    February 9, 1991   26        Florida State          4            29   \n",
       "105    August 31, 1981   35           Texas Tech         15            29   \n",
       "109  November 12, 1981   35           Georgetown         14            26   \n",
       "110  February 12, 1986   31          Connecticut          9            29   \n",
       "116     April 30, 1984   33                  LSU         12            27   \n",
       "130      June 10, 1985   32                  LSU         10            29   \n",
       "133     August 9, 1992   25  Southern California          R            17   \n",
       "\n",
       "     MIN  FGM  FGA   FG%  3PM  3PA   3P%  FTM  FTA   FT%  OREB  DREB  REB  \\\n",
       "4    137   16   50  32.0    7   20  35.0   11   12  91.7     3     9   12   \n",
       "67   932  178  420  42.4   47  123  38.2  114  134  85.1    24    72   96   \n",
       "88   520   69  153  45.1   12   34  35.3   27   36  75.0     8    46   54   \n",
       "93   904  170  398  42.7   52  132  39.4   98  114  86.0    50   106  156   \n",
       "99   315   48  104  46.2    3   13  23.1   17   23  73.9    25    38   63   \n",
       "105  402   54  142  38.0   17   51  33.3   15   20  75.0    13    49   62   \n",
       "109  719   97  218  44.5   22   60  36.7   62   83  74.7    46   135  181   \n",
       "110  614   71  181  39.2   30   89  33.7   44   51  86.3    12    34   46   \n",
       "116  756  125  251  49.8   18   41  43.9   30   35  85.7    12    70   82   \n",
       "130  895  222  336  66.1    0    0   0.0  128  162  79.0   113   184  297   \n",
       "133   74    6   14  42.9    0    0   0.0    5    6  83.3     3    13   16   \n",
       "\n",
       "     AST  STL  BLK  TO  PTS  DD2  TD3  \n",
       "4     12    7    0  14   50    0    0  \n",
       "67   103   41   11  83  517    0    0  \n",
       "88    90   11    2  44  177    0    0  \n",
       "93    99   53   13  56  490    3    0  \n",
       "99    16   11   19  20  116    0    0  \n",
       "105   48   12    4  33  140    0    0  \n",
       "109   40   31    9  42  278    2    0  \n",
       "110   96   24    1  43  216    0    0  \n",
       "116  108   17    1  39  298    1    0  \n",
       "130   39   39   61  71  572   16    0  \n",
       "133    1    3    3   8   17    0    0  "
      ]
     },
     "execution_count": 39,
     "metadata": {},
     "output_type": "execute_result"
    }
   ],
   "source": [
    "data = wnba[wnba[\"Team\"] == \"MIN\"]\n",
    "data"
   ]
  }
 ],
 "metadata": {
  "kernelspec": {
   "display_name": "Python 3",
   "language": "python",
   "name": "python3"
  },
  "language_info": {
   "codemirror_mode": {
    "name": "ipython",
    "version": 3
   },
   "file_extension": ".py",
   "mimetype": "text/x-python",
   "name": "python",
   "nbconvert_exporter": "python",
   "pygments_lexer": "ipython3",
   "version": "3.7.6"
  }
 },
 "nbformat": 4,
 "nbformat_minor": 2
}
