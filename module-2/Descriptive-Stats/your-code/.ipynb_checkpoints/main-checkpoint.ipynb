{
 "cells": [
  {
   "cell_type": "markdown",
   "metadata": {},
   "source": [
    "# Understanding Descriptive Statistics\n",
    "\n",
    "Import the necessary libraries here:"
   ]
  },
  {
   "cell_type": "code",
   "execution_count": 1,
   "metadata": {},
   "outputs": [],
   "source": [
    "# Libraries\n",
    "import pandas as pd\n",
    "import random\n",
    "import numpy as np\n",
    "import matplotlib\n",
    "%matplotlib inline"
   ]
  },
  {
   "cell_type": "markdown",
   "metadata": {},
   "source": [
    "## Challenge 1\n",
    "#### 1.- Define a function that simulates rolling a dice 10 times. Save the information in a dataframe.\n",
    "**Hint**: you can use the *choices* function from module *random* to help you with the simulation."
   ]
  },
  {
   "cell_type": "code",
   "execution_count": 8,
   "metadata": {},
   "outputs": [
    {
     "name": "stdout",
     "output_type": "stream",
     "text": [
      "   value\n",
      "0      6\n",
      "1      1\n",
      "2      3\n",
      "3      6\n",
      "4      1\n",
      "5      2\n",
      "6      1\n",
      "7      5\n",
      "8      1\n",
      "9      2\n"
     ]
    }
   ],
   "source": [
    "# your code here\n",
    "values = random.choices(range(1,7),k=10)\n",
    "result = pd.DataFrame(values, columns=['value'])\n",
    "\n",
    "# dice = pd.DataFrame(range(1,11), columns=['dice'])\n",
    "# result = pd.concat([result, dice],axis=1)\n",
    "\n",
    "print(result)"
   ]
  },
  {
   "cell_type": "markdown",
   "metadata": {},
   "source": [
    "#### 2.- Plot the results sorted by value."
   ]
  },
  {
   "cell_type": "code",
   "execution_count": 9,
   "metadata": {},
   "outputs": [
    {
     "name": "stdout",
     "output_type": "stream",
     "text": [
      "   value\n",
      "1      1\n",
      "4      1\n",
      "6      1\n",
      "8      1\n",
      "5      2\n",
      "9      2\n",
      "2      3\n",
      "7      5\n",
      "0      6\n",
      "3      6\n"
     ]
    }
   ],
   "source": [
    "# your code here\n",
    "print(result.sort_values('value', ascending= True))\n"
   ]
  },
  {
   "cell_type": "markdown",
   "metadata": {},
   "source": [
    "#### 3.- Calculate the frequency distribution and plot it. What is the relation between this plot and the plot above? Describe it with words."
   ]
  },
  {
   "cell_type": "code",
   "execution_count": 10,
   "metadata": {},
   "outputs": [
    {
     "name": "stdout",
     "output_type": "stream",
     "text": [
      "AxesSubplot(0.125,0.125;0.775x0.755)\n"
     ]
    },
    {
     "data": {
      "image/png": "[encoded data removed]",
      "text/plain": [
       "<Figure size 432x288 with 1 Axes>"
      ]
     },
     "metadata": {
      "needs_background": "light"
     },
     "output_type": "display_data"
    }
   ],
   "source": [
    "# your code here\n",
    "print(result['value'].hist(bins=6))"
   ]
  },
  {
   "cell_type": "code",
   "execution_count": null,
   "metadata": {},
   "outputs": [],
   "source": [
    "\"\"\"\n",
    "You can see the frequency of the numbers that have been rolled with the dice. \n",
    "For example, the number 1 has been rolled 4 times.\n",
    "\"\"\""
   ]
  },
  {
   "cell_type": "markdown",
   "metadata": {},
   "source": [
    "## Challenge 2\n",
    "Now, using the dice results obtained in *challenge 1*, your are going to define some functions that will help you calculate the mean of your data in two different ways, the median and the four quartiles. \n",
    "\n",
    "#### 1.- Define a function that computes the mean by summing all the observations and dividing by the total number of observations. You are not allowed to use any methods or functions that directly calculate the mean value. "
   ]
  },
  {
   "cell_type": "code",
   "execution_count": 11,
   "metadata": {},
   "outputs": [
    {
     "data": {
      "text/plain": [
       "value    2.8\n",
       "dtype: float64"
      ]
     },
     "execution_count": 11,
     "metadata": {},
     "output_type": "execute_result"
    }
   ],
   "source": [
    "# your code here\n",
    "def Mean(data):\n",
    "    mean_obsv = sum(data)/len(data)\n",
    "    return mean_obsv\n",
    "result.apply(Mean)\n"
   ]
  },
  {
   "cell_type": "markdown",
   "metadata": {},
   "source": [
    "#### 2.- First, calculate the frequency distribution. Then, calculate the mean using the values of the frequency distribution you've just computed. You are not allowed to use any methods or functions that directly calculate the mean value. "
   ]
  },
  {
   "cell_type": "code",
   "execution_count": 51,
   "metadata": {},
   "outputs": [
    {
     "name": "stdout",
     "output_type": "stream",
     "text": [
      "The frequency distribution is:    index  value\n",
      "0      1      4\n",
      "1      6      2\n",
      "2      2      2\n",
      "3      5      1\n",
      "4      3      1\n",
      "The total sum of all frequencies  is: 28\n",
      "The mean is: 2.8\n"
     ]
    }
   ],
   "source": [
    "# your code here\n",
    "\n",
    "#Find the frequency distribution\n",
    "count_obsv = result['value'].value_counts()\n",
    "count_obsv = pd.DataFrame(count_obsv, columns=['value']).reset_index()\n",
    "print(\"The frequency distribution is:\", count_obsv)\n",
    "\n",
    "# Calculate the sum of frequencies\n",
    "total = []\n",
    "for i in range(len(count_obsv)):\n",
    "    number = count_obsv['index'][i]*count_obsv['value'][i]\n",
    "    total.append(number)\n",
    "\n",
    "# Calculate the total sum of all frequencies                 \n",
    "sum_obsv1 = sum(total)\n",
    "print(\"The total sum of all frequencies  is:\", sum_obsv1)\n",
    "\n",
    "# Calculate mean\n",
    "mean_obsv1 = sum_obsv1/len(result)\n",
    "print(\"The mean is:\", mean_obsv1)"
   ]
  },
  {
   "cell_type": "markdown",
   "metadata": {},
   "source": [
    "#### 3.- Define a function to calculate the median. You are not allowed to use any methods or functions that directly calculate the median value. \n",
    "**Hint**: you might need to define two computation cases depending on the number of observations used to calculate the median."
   ]
  },
  {
   "cell_type": "code",
   "execution_count": 37,
   "metadata": {},
   "outputs": [
    {
     "data": {
      "text/plain": [
       "2.0"
      ]
     },
     "execution_count": 37,
     "metadata": {},
     "output_type": "execute_result"
    }
   ],
   "source": [
    "# your code here\n",
    "\n",
    "def Median(data):\n",
    "    # Median is the middle number. \n",
    "\n",
    "    # First we sort the list of all observations\n",
    "    data.sort()\n",
    "\n",
    "    # We check the lenght of the list\n",
    "    length = len(data)\n",
    "\n",
    "    # Then we look for the position of the median\n",
    "    if len(data) % 2 == 0:\n",
    "        median1 = data[length // 2]\n",
    "        median2 = data[length // 2 -1]\n",
    "        median = (median1+median2)/2\n",
    "    else:\n",
    "        median = data[length // 2]\n",
    "\n",
    "    # Now we find the median\n",
    "    return median\n",
    "\n",
    "Median(values)"
   ]
  },
  {
   "cell_type": "markdown",
   "metadata": {},
   "source": [
    "#### 4.- Define a function to calculate the four quartiles. You can use the function you defined above to compute the median but you are not allowed to use any methods or functions that directly calculate the quartiles. "
   ]
  },
  {
   "cell_type": "code",
   "execution_count": 46,
   "metadata": {},
   "outputs": [
    {
     "name": "stdout",
     "output_type": "stream",
     "text": [
      "Q1: 1 \n",
      "Q2: 2 \n",
      "Q3: 5 \n",
      "Q4: 6\n"
     ]
    }
   ],
   "source": [
    "def quartiles(data):\n",
    "    # First we sort the list of all observations\n",
    "    data.sort()\n",
    "    \n",
    "    # We divide the data into two halves (excluding the median)\n",
    "    middle = len(data) // 2 \n",
    "    \n",
    "    # Then we look for the position of the median\n",
    "    if (len(data) % 2 == 0):# even\n",
    "        Q1 = Median(data[:middle])\n",
    "        Q3 = Median(data[middle:])\n",
    "    else:# odd\n",
    "        Q1 = Median(data[:middle])  # same as even\n",
    "        Q3 = Median(data[middle+1:])\n",
    "    return print(\"Q1:\",Q1,\"\\nQ2:\",int(Median(data)),\"\\nQ3:\",Q3,\"\\nQ4:\",max(data))\n",
    "\n",
    "quartiles(values)"
   ]
  },
  {
   "cell_type": "markdown",
   "metadata": {},
   "source": [
    "## Challenge 3\n",
    "Read the csv `roll_the_dice_hundred.csv` from the `data` folder.\n",
    "#### 1.- Sort the values and plot them. What do you see?"
   ]
  },
  {
   "cell_type": "code",
   "execution_count": 47,
   "metadata": {},
   "outputs": [
    {
     "name": "stdout",
     "output_type": "stream",
     "text": [
      "    roll  value\n",
      "0      0      1\n",
      "1      1      2\n",
      "2      2      6\n",
      "3      3      1\n",
      "4      4      6\n",
      "..   ...    ...\n",
      "95    95      4\n",
      "96    96      6\n",
      "97    97      1\n",
      "98    98      3\n",
      "99    99      6\n",
      "\n",
      "[100 rows x 2 columns]\n",
      "AxesSubplot(0.125,0.125;0.775x0.755)\n"
     ]
    },
    {
     "data": {
      "image/png": "[encoded data removed]",
      "text/plain": [
       "<Figure size 432x288 with 1 Axes>"
      ]
     },
     "metadata": {
      "needs_background": "light"
     },
     "output_type": "display_data"
    }
   ],
   "source": [
    "# your code here\n",
    "dice_hundred = pd.read_csv('../data/roll_the_dice_hundred.csv')\n",
    "dice_hundred = dice_hundred.drop(['Unnamed: 0'], axis=1)\n",
    "print(dice_hundred)\n",
    "print(dice_hundred[\"value\"].hist(bins = 6))\n"
   ]
  },
  {
   "cell_type": "code",
   "execution_count": 48,
   "metadata": {},
   "outputs": [
    {
     "data": {
      "text/plain": [
       "'\\nIt looks like it is quite equally divided, but 6 and 4 have been rolled the most. \\n'"
      ]
     },
     "execution_count": 48,
     "metadata": {},
     "output_type": "execute_result"
    }
   ],
   "source": [
    "\"\"\"\n",
    "It looks like it is quite equally divided, but 6 and 4 have been rolled the most. \n",
    "\"\"\""
   ]
  },
  {
   "cell_type": "markdown",
   "metadata": {},
   "source": [
    "#### 2.- Using the functions you defined in *challenge 2*, calculate the mean value of the hundred dice rolls."
   ]
  },
  {
   "cell_type": "code",
   "execution_count": 49,
   "metadata": {},
   "outputs": [
    {
     "data": {
      "text/plain": [
       "roll     49.50\n",
       "value     3.74\n",
       "dtype: float64"
      ]
     },
     "execution_count": 49,
     "metadata": {},
     "output_type": "execute_result"
    }
   ],
   "source": [
    "# your code here\n",
    "# dice_hundred['value'].mean()\n",
    "dice_hundred.apply(Mean)\n"
   ]
  },
  {
   "cell_type": "markdown",
   "metadata": {},
   "source": [
    "#### 3.- Now, calculate the frequency distribution.\n"
   ]
  },
  {
   "cell_type": "code",
   "execution_count": 56,
   "metadata": {},
   "outputs": [
    {
     "name": "stdout",
     "output_type": "stream",
     "text": [
      "The frequency distribution is:    index  value\n",
      "0      6     23\n",
      "1      4     22\n",
      "2      2     17\n",
      "3      3     14\n",
      "4      5     12\n",
      "5      1     12\n"
     ]
    }
   ],
   "source": [
    "# your code here\n",
    "count = dice_hundred['value'].value_counts()\n",
    "freqdistr = pd.DataFrame(count, columns=['value']).reset_index()\n",
    "print(\"The frequency distribution is:\", freqdistr)"
   ]
  },
  {
   "cell_type": "markdown",
   "metadata": {},
   "source": [
    "#### 4.- Plot the histogram. What do you see (shape, values...) ? How can you connect the mean value to the histogram? "
   ]
  },
  {
   "cell_type": "code",
   "execution_count": 58,
   "metadata": {},
   "outputs": [
    {
     "name": "stdout",
     "output_type": "stream",
     "text": [
      "[[<matplotlib.axes._subplots.AxesSubplot object at 0x11baf9650>\n",
      "  <matplotlib.axes._subplots.AxesSubplot object at 0x11bb815d0>]]\n"
     ]
    },
    {
     "data": {
      "image/png": "[encoded data removed]",
      "text/plain": [
       "<Figure size 432x288 with 2 Axes>"
      ]
     },
     "metadata": {
      "needs_background": "light"
     },
     "output_type": "display_data"
    }
   ],
   "source": [
    "# your code here\n",
    "print(dice_hundred.hist(bins=6))"
   ]
  },
  {
   "cell_type": "code",
   "execution_count": null,
   "metadata": {},
   "outputs": [],
   "source": [
    "\"\"\"\n",
    "Well the mean is 3.74 so that seems to be in the histogram too.\n",
    "\"\"\""
   ]
  },
  {
   "cell_type": "markdown",
   "metadata": {},
   "source": [
    "#### 5.- Read the `roll_the_dice_thousand.csv` from the `data` folder. Plot the frequency distribution as you did before. Has anything changed? Why do you think it changed?"
   ]
  },
  {
   "cell_type": "code",
   "execution_count": 60,
   "metadata": {},
   "outputs": [
    {
     "name": "stdout",
     "output_type": "stream",
     "text": [
      "[[<matplotlib.axes._subplots.AxesSubplot object at 0x11be84a10>\n",
      "  <matplotlib.axes._subplots.AxesSubplot object at 0x11bf09250>]\n",
      " [<matplotlib.axes._subplots.AxesSubplot object at 0x11bf39a50>\n",
      "  <matplotlib.axes._subplots.AxesSubplot object at 0x11bf7b290>]]\n"
     ]
    },
    {
     "data": {
      "image/png": "[encoded data removed]",
      "text/plain": [
       "<Figure size 432x288 with 4 Axes>"
      ]
     },
     "metadata": {
      "needs_background": "light"
     },
     "output_type": "display_data"
    }
   ],
   "source": [
    "# your code here\n",
    "dice_thousand = pd.read_csv('../data/roll_the_dice_thousand.csv')\n",
    "print(dice_thousand.hist(bins=6))"
   ]
  },
  {
   "cell_type": "code",
   "execution_count": null,
   "metadata": {},
   "outputs": [],
   "source": [
    "\"\"\"\n",
    "The frequency here is almost equal to each other, so it seems the data is very spread out.\n",
    "\"\"\""
   ]
  },
  {
   "cell_type": "markdown",
   "metadata": {},
   "source": [
    "## Challenge 4\n",
    "In the `data` folder of this repository you will find three different files with the prefix `ages_population`. These files contain information about a poll answered by a thousand people regarding their age. Each file corresponds to the poll answers in different neighbourhoods of Barcelona.\n",
    "\n",
    "#### 1.- Read the file `ages_population.csv`. Calculate the frequency distribution and plot it as we did during the lesson. Try to guess the range in which the mean and the standard deviation will be by looking at the plot. "
   ]
  },
  {
   "cell_type": "code",
   "execution_count": 61,
   "metadata": {},
   "outputs": [
    {
     "name": "stdout",
     "output_type": "stream",
     "text": [
      "[[<matplotlib.axes._subplots.AxesSubplot object at 0x11c03a350>]]\n"
     ]
    },
    {
     "data": {
      "text/plain": [
       "'\\nThe mean will probably be between 34 and 41\\n'"
      ]
     },
     "execution_count": 61,
     "metadata": {},
     "output_type": "execute_result"
    },
    {
     "data": {
      "image/png": "[encoded data removed]",
      "text/plain": [
       "<Figure size 432x288 with 1 Axes>"
      ]
     },
     "metadata": {
      "needs_background": "light"
     },
     "output_type": "display_data"
    }
   ],
   "source": [
    "# your code here\n",
    "ages_pop = pd.read_csv('../data/ages_population.csv')\n",
    "print(ages_pop.hist())\n",
    "\n",
    "\"\"\"\n",
    "The mean will probably be between 34 and 41\n",
    "\"\"\""
   ]
  },
  {
   "cell_type": "markdown",
   "metadata": {},
   "source": [
    "#### 2.- Calculate the exact mean and standard deviation and compare them with your guesses. Do they fall inside the ranges you guessed?"
   ]
  },
  {
   "cell_type": "code",
   "execution_count": 62,
   "metadata": {},
   "outputs": [
    {
     "name": "stdout",
     "output_type": "stream",
     "text": [
      "Mean is: observation    36.56\n",
      "dtype: float64\n",
      "Std is: observation    12.8165\n",
      "dtype: float64\n"
     ]
    }
   ],
   "source": [
    "# your code here\n",
    "print(\"Mean is:\", ages_pop.mean())\n",
    "print(\"Std is:\", ages_pop.std())"
   ]
  },
  {
   "cell_type": "code",
   "execution_count": null,
   "metadata": {},
   "outputs": [],
   "source": [
    "\"\"\"\n",
    "Yes it was in the range\n",
    "\"\"\""
   ]
  },
  {
   "cell_type": "markdown",
   "metadata": {},
   "source": [
    "#### 3.- Now read the file `ages_population2.csv` . Calculate the frequency distribution and plot it."
   ]
  },
  {
   "cell_type": "code",
   "execution_count": 63,
   "metadata": {},
   "outputs": [
    {
     "name": "stdout",
     "output_type": "stream",
     "text": [
      "[[<matplotlib.axes._subplots.AxesSubplot object at 0x11c13e450>]]\n"
     ]
    },
    {
     "data": {
      "image/png": "[encoded data removed]",
      "text/plain": [
       "<Figure size 432x288 with 1 Axes>"
      ]
     },
     "metadata": {
      "needs_background": "light"
     },
     "output_type": "display_data"
    }
   ],
   "source": [
    "# your code here\n",
    "ages_pop2 = pd.read_csv('../data/ages_population2.csv')\n",
    "print(ages_pop2.hist())"
   ]
  },
  {
   "cell_type": "markdown",
   "metadata": {},
   "source": [
    "####  4.- What do you see? Is there any difference with the frequency distribution in step 1?"
   ]
  },
  {
   "cell_type": "code",
   "execution_count": null,
   "metadata": {},
   "outputs": [],
   "source": [
    "\"\"\"\n",
    "Yes it looks less normally distributed as the variance is less. \n",
    "There are more values in the middle (so closer to mean)\n",
    "\"\"\""
   ]
  },
  {
   "cell_type": "markdown",
   "metadata": {},
   "source": [
    "#### 5.- Calculate the mean and standard deviation. Compare the results with the mean and standard deviation in step 2. What do you think?"
   ]
  },
  {
   "cell_type": "code",
   "execution_count": 64,
   "metadata": {},
   "outputs": [
    {
     "name": "stdout",
     "output_type": "stream",
     "text": [
      "Mean is: observation    27.155\n",
      "dtype: float64\n",
      "Stdev is: observation    2.969814\n",
      "dtype: float64\n"
     ]
    }
   ],
   "source": [
    "# your code here\n",
    "print(\"Mean is:\",ages_pop2.mean())\n",
    "print(\"Stdev is:\",ages_pop2.std())"
   ]
  },
  {
   "cell_type": "code",
   "execution_count": null,
   "metadata": {},
   "outputs": [],
   "source": [
    "\"\"\"\n",
    "The mean is lower in pop2, and the stdev is smaller. This is\n",
    "as expected because the variety seems to be lower in pop2 compared\n",
    "to pop\n",
    "\"\"\""
   ]
  },
  {
   "cell_type": "markdown",
   "metadata": {},
   "source": [
    "## Challenge 5\n",
    "Now is the turn of `ages_population3.csv`.\n",
    "\n",
    "#### 1.- Read the file `ages_population3.csv`. Calculate the frequency distribution and plot it."
   ]
  },
  {
   "cell_type": "code",
   "execution_count": 65,
   "metadata": {},
   "outputs": [
    {
     "name": "stdout",
     "output_type": "stream",
     "text": [
      "[[<matplotlib.axes._subplots.AxesSubplot object at 0x11c12b450>]]\n"
     ]
    },
    {
     "data": {
      "image/png": "[encoded data removed]",
      "text/plain": [
       "<Figure size 432x288 with 1 Axes>"
      ]
     },
     "metadata": {
      "needs_background": "light"
     },
     "output_type": "display_data"
    }
   ],
   "source": [
    "# your code here\n",
    "ages_pop3 = pd.read_csv('../data/ages_population3.csv')\n",
    "print(ages_pop3.hist())"
   ]
  },
  {
   "cell_type": "markdown",
   "metadata": {},
   "source": [
    "#### 2.- Calculate the mean and standard deviation. Compare the results with the plot in step 1. What is happening?"
   ]
  },
  {
   "cell_type": "code",
   "execution_count": 66,
   "metadata": {},
   "outputs": [
    {
     "name": "stdout",
     "output_type": "stream",
     "text": [
      "Mean is: observation    41.989\n",
      "dtype: float64\n",
      "Standard deviation is: observation    16.144706\n",
      "dtype: float64\n"
     ]
    }
   ],
   "source": [
    "# your code here\n",
    "print(\"Mean is:\",ages_pop3.mean())\n",
    "print(\"Standard deviation is:\",ages_pop3.std())"
   ]
  },
  {
   "cell_type": "code",
   "execution_count": null,
   "metadata": {},
   "outputs": [],
   "source": [
    "\"\"\"\n",
    "The mean is higher and the stdv is higher. This is expected because\n",
    "in the histogram you can see that the data is less normaly distributed\n",
    "and has two peaks around 35 and around 65\n",
    "\"\"\""
   ]
  },
  {
   "cell_type": "markdown",
   "metadata": {},
   "source": [
    "#### 3.- Calculate the four quartiles. Use the results to explain your reasoning for question in step 2. How much of a difference is there between the median and the mean?"
   ]
  },
  {
   "cell_type": "code",
   "execution_count": 67,
   "metadata": {},
   "outputs": [
    {
     "name": "stdout",
     "output_type": "stream",
     "text": [
      "First quartile is: observation    30.0\n",
      "Name: 0.25, dtype: float64\n",
      "Second quartile is: observation    40.0\n",
      "Name: 0.5, dtype: float64\n",
      "Third quartile is: observation    53.0\n",
      "Name: 0.75, dtype: float64\n",
      "Fourth quartile is: observation    77.0\n",
      "Name: 1, dtype: float64\n"
     ]
    }
   ],
   "source": [
    "# your code here\n",
    "print(\"First quartile is:\", ages_pop3.quantile(.25))\n",
    "print(\"Second quartile is:\", ages_pop3.quantile(.50))\n",
    "print(\"Third quartile is:\", ages_pop3.quantile(.75))\n",
    "print(\"Fourth quartile is:\", ages_pop3.quantile(1))"
   ]
  },
  {
   "cell_type": "code",
   "execution_count": null,
   "metadata": {},
   "outputs": [],
   "source": [
    "\"\"\"\n",
    "The second quartile (the median) is almost the same as the mean.\n",
    "\n",
    "You can also see the second peak in the in relatively\n",
    "big jumps in the range between the third (53) and the \n",
    "fourth quartile (77) \n",
    "\"\"\""
   ]
  },
  {
   "cell_type": "markdown",
   "metadata": {},
   "source": [
    "#### 4.- Calculate other percentiles that might be useful to give more arguments to your reasoning."
   ]
  },
  {
   "cell_type": "code",
   "execution_count": null,
   "metadata": {},
   "outputs": [],
   "source": [
    "# your code here"
   ]
  },
  {
   "cell_type": "code",
   "execution_count": null,
   "metadata": {},
   "outputs": [],
   "source": [
    "\"\"\"\n",
    "your comments here\n",
    "\"\"\""
   ]
  },
  {
   "cell_type": "markdown",
   "metadata": {},
   "source": [
    "## Bonus challenge\n",
    "Compare the information about the three neighbourhoods. Prepare a report about the three of them. Remember to find out which are their similarities and their differences backing your arguments in basic statistics."
   ]
  },
  {
   "cell_type": "code",
   "execution_count": null,
   "metadata": {},
   "outputs": [],
   "source": [
    "# your code here"
   ]
  },
  {
   "cell_type": "code",
   "execution_count": null,
   "metadata": {},
   "outputs": [],
   "source": [
    "\"\"\"\n",
    "your comments here\n",
    "\"\"\""
   ]
  }
 ],
 "metadata": {
  "kernelspec": {
   "display_name": "Python 3",
   "language": "python",
   "name": "python3"
  },
  "language_info": {
   "codemirror_mode": {
    "name": "ipython",
    "version": 3
   },
   "file_extension": ".py",
   "mimetype": "text/x-python",
   "name": "python",
   "nbconvert_exporter": "python",
   "pygments_lexer": "ipython3",
   "version": "3.7.6"
  }
 },
 "nbformat": 4,
 "nbformat_minor": 2
}
