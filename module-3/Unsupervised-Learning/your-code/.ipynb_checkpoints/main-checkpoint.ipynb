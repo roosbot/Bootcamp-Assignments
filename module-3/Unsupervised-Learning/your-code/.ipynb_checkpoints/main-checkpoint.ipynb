{
 "cells": [
  {
   "cell_type": "markdown",
   "metadata": {},
   "source": [
    "# Before your start:\n",
    "- Read the README.md file\n",
    "- Comment as much as you can and use the resources in the README.md file\n",
    "- Happy learning!"
   ]
  },
  {
   "cell_type": "code",
   "execution_count": 1,
   "metadata": {},
   "outputs": [],
   "source": [
    "# Import your libraries:\n",
    "\n",
    "%matplotlib inline\n",
    "\n",
    "import matplotlib.pyplot as plt\n",
    "import numpy as np\n",
    "import pandas as pd"
   ]
  },
  {
   "cell_type": "markdown",
   "metadata": {},
   "source": [
    "# Challenge 1 - Import and Describe the Dataset\n",
    "\n",
    "In this lab, we will use a dataset containing information about customer preferences. We will look at how much each customer spends in a year on each subcategory in the grocery store and try to find similarities using clustering.\n",
    "\n",
    "The origin of the dataset is [here](https://archive.ics.uci.edu/ml/datasets/wholesale+customers)."
   ]
  },
  {
   "cell_type": "code",
   "execution_count": 2,
   "metadata": {},
   "outputs": [
    {
     "data": {
      "text/html": [
       "<div>\n",
       "<style scoped>\n",
       "    .dataframe tbody tr th:only-of-type {\n",
       "        vertical-align: middle;\n",
       "    }\n",
       "\n",
       "    .dataframe tbody tr th {\n",
       "        vertical-align: top;\n",
       "    }\n",
       "\n",
       "    .dataframe thead th {\n",
       "        text-align: right;\n",
       "    }\n",
       "</style>\n",
       "<table border=\"1\" class=\"dataframe\">\n",
       "  <thead>\n",
       "    <tr style=\"text-align: right;\">\n",
       "      <th></th>\n",
       "      <th>Channel</th>\n",
       "      <th>Region</th>\n",
       "      <th>Fresh</th>\n",
       "      <th>Milk</th>\n",
       "      <th>Grocery</th>\n",
       "      <th>Frozen</th>\n",
       "      <th>Detergents_Paper</th>\n",
       "      <th>Delicassen</th>\n",
       "    </tr>\n",
       "  </thead>\n",
       "  <tbody>\n",
       "    <tr>\n",
       "      <th>0</th>\n",
       "      <td>2</td>\n",
       "      <td>3</td>\n",
       "      <td>12669</td>\n",
       "      <td>9656</td>\n",
       "      <td>7561</td>\n",
       "      <td>214</td>\n",
       "      <td>2674</td>\n",
       "      <td>1338</td>\n",
       "    </tr>\n",
       "    <tr>\n",
       "      <th>1</th>\n",
       "      <td>2</td>\n",
       "      <td>3</td>\n",
       "      <td>7057</td>\n",
       "      <td>9810</td>\n",
       "      <td>9568</td>\n",
       "      <td>1762</td>\n",
       "      <td>3293</td>\n",
       "      <td>1776</td>\n",
       "    </tr>\n",
       "    <tr>\n",
       "      <th>2</th>\n",
       "      <td>2</td>\n",
       "      <td>3</td>\n",
       "      <td>6353</td>\n",
       "      <td>8808</td>\n",
       "      <td>7684</td>\n",
       "      <td>2405</td>\n",
       "      <td>3516</td>\n",
       "      <td>7844</td>\n",
       "    </tr>\n",
       "    <tr>\n",
       "      <th>3</th>\n",
       "      <td>1</td>\n",
       "      <td>3</td>\n",
       "      <td>13265</td>\n",
       "      <td>1196</td>\n",
       "      <td>4221</td>\n",
       "      <td>6404</td>\n",
       "      <td>507</td>\n",
       "      <td>1788</td>\n",
       "    </tr>\n",
       "    <tr>\n",
       "      <th>4</th>\n",
       "      <td>2</td>\n",
       "      <td>3</td>\n",
       "      <td>22615</td>\n",
       "      <td>5410</td>\n",
       "      <td>7198</td>\n",
       "      <td>3915</td>\n",
       "      <td>1777</td>\n",
       "      <td>5185</td>\n",
       "    </tr>\n",
       "  </tbody>\n",
       "</table>\n",
       "</div>"
      ],
      "text/plain": [
       "   Channel  Region  Fresh  Milk  Grocery  Frozen  Detergents_Paper  Delicassen\n",
       "0        2       3  12669  9656     7561     214              2674        1338\n",
       "1        2       3   7057  9810     9568    1762              3293        1776\n",
       "2        2       3   6353  8808     7684    2405              3516        7844\n",
       "3        1       3  13265  1196     4221    6404               507        1788\n",
       "4        2       3  22615  5410     7198    3915              1777        5185"
      ]
     },
     "execution_count": 2,
     "metadata": {},
     "output_type": "execute_result"
    }
   ],
   "source": [
    "# loading the data:\n",
    "customers = pd.read_csv(\"../data/Wholesale customers data.csv\")\n",
    "customers.head(5)"
   ]
  },
  {
   "cell_type": "markdown",
   "metadata": {},
   "source": [
    "#### Explore the dataset with mathematical and visualization techniques. What do you find?\n",
    "\n",
    "Checklist:\n",
    "\n",
    "* What does each column mean?\n",
    "* Any categorical data to convert?\n",
    "* Any missing data to remove?\n",
    "* Column collinearity - any high correlations?\n",
    "* Descriptive statistics - any outliers to remove?\n",
    "* Column-wise data distribution - is the distribution skewed?\n",
    "* Etc.\n",
    "\n",
    "Additional info: Over a century ago, an Italian economist named Vilfredo Pareto discovered that roughly 20% of the customers account for 80% of the typical retail sales. This is called the [Pareto principle](https://en.wikipedia.org/wiki/Pareto_principle). Check if this dataset displays this characteristic."
   ]
  },
  {
   "cell_type": "code",
   "execution_count": 3,
   "metadata": {},
   "outputs": [
    {
     "data": {
      "text/plain": [
       "'\\nFrom data set description:\\n1) FRESH: annual spending (m.u.) on fresh products (Continuous)\\n2) MILK: annual spending (m.u.) on milk products (Continuous)\\n3) GROCERY: annual spending (m.u.)on grocery products (Continuous)\\n4) FROZEN: annual spending (m.u.)on frozen products (Continuous)\\n5) DETERGENTS_PAPER: annual spending (m.u.) on detergents and paper products (Continuous)\\n6) DELICATESSEN: annual spending (m.u.)on and delicatessen products (Continuous)\\n7) CHANNEL: Horeca (Hotel/Restaurant/Cafe) or Retail channel (Nominal)\\n8) REGION: Lisnon, Oporto or Other (Nominal)\\n'"
      ]
     },
     "execution_count": 3,
     "metadata": {},
     "output_type": "execute_result"
    }
   ],
   "source": [
    "# What does each column mean?\n",
    "customers.describe()\n",
    "\n",
    "\"\"\"\n",
    "From data set description:\n",
    "1) FRESH: annual spending (m.u.) on fresh products (Continuous)\n",
    "2) MILK: annual spending (m.u.) on milk products (Continuous)\n",
    "3) GROCERY: annual spending (m.u.)on grocery products (Continuous)\n",
    "4) FROZEN: annual spending (m.u.)on frozen products (Continuous)\n",
    "5) DETERGENTS_PAPER: annual spending (m.u.) on detergents and paper products (Continuous)\n",
    "6) DELICATESSEN: annual spending (m.u.)on and delicatessen products (Continuous)\n",
    "7) CHANNEL: Horeca (Hotel/Restaurant/Cafe) or Retail channel (Nominal)\n",
    "8) REGION: Lisnon, Oporto or Other (Nominal)\n",
    "\"\"\""
   ]
  },
  {
   "cell_type": "code",
   "execution_count": 4,
   "metadata": {},
   "outputs": [
    {
     "data": {
      "text/plain": [
       "'\\nNo all categorical data is already converted into numbers\\n'"
      ]
     },
     "execution_count": 4,
     "metadata": {},
     "output_type": "execute_result"
    }
   ],
   "source": [
    "# Any categorical data to convert?\n",
    "customers.dtypes\n",
    "\n",
    "\"\"\"\n",
    "No all categorical data is already converted into numbers\n",
    "\"\"\""
   ]
  },
  {
   "cell_type": "code",
   "execution_count": 5,
   "metadata": {},
   "outputs": [
    {
     "data": {
      "text/plain": [
       "Channel             0\n",
       "Region              0\n",
       "Fresh               0\n",
       "Milk                0\n",
       "Grocery             0\n",
       "Frozen              0\n",
       "Detergents_Paper    0\n",
       "Delicassen          0\n",
       "dtype: int64"
      ]
     },
     "execution_count": 5,
     "metadata": {},
     "output_type": "execute_result"
    }
   ],
   "source": [
    "# Any missing data to remove?\n",
    "customers.isnull().sum()\n"
   ]
  },
  {
   "cell_type": "code",
   "execution_count": 6,
   "metadata": {},
   "outputs": [
    {
     "data": {
      "text/plain": [
       "'\\nIt seems that Detergents_Paper and Grocery are quite highly correlated (0.92)\\n'"
      ]
     },
     "execution_count": 6,
     "metadata": {},
     "output_type": "execute_result"
    },
    {
     "data": {
      "image/png": "[encoded data removed]",
      "text/plain": [
       "<Figure size 720x720 with 2 Axes>"
      ]
     },
     "metadata": {
      "needs_background": "light"
     },
     "output_type": "display_data"
    }
   ],
   "source": [
    "# Column collinearity - any high correlations?\n",
    "\n",
    "# Import libraries\n",
    "import numpy as np\n",
    "import seaborn as sns\n",
    "import matplotlib.pyplot as plt\n",
    "\n",
    "# Create correlation heatmap\n",
    "corr = customers.corr()\n",
    "mask = np.triu(np.ones_like(corr, dtype=np.bool))\n",
    "cmap = sns.diverging_palette(250, 10, s=95, l=45,n=9, center=\"light\", as_cmap=True)\n",
    "fig, ax = plt.subplots(figsize=(10,10))         # Sample figsize in inches\n",
    "sns.heatmap(corr, mask=mask, cmap=cmap, vmax=1, vmin=-1, center=0,square=True, linewidths=.5, \n",
    "                cbar_kws={\"shrink\": .9}, annot=True)\n",
    "\n",
    "\n",
    "\n",
    "\"\"\"\n",
    "It seems that Detergents_Paper and Grocery are quite highly correlated (0.92)\n",
    "\"\"\""
   ]
  },
  {
   "cell_type": "code",
   "execution_count": 7,
   "metadata": {},
   "outputs": [
    {
     "data": {
      "text/html": [
       "<div>\n",
       "<style scoped>\n",
       "    .dataframe tbody tr th:only-of-type {\n",
       "        vertical-align: middle;\n",
       "    }\n",
       "\n",
       "    .dataframe tbody tr th {\n",
       "        vertical-align: top;\n",
       "    }\n",
       "\n",
       "    .dataframe thead th {\n",
       "        text-align: right;\n",
       "    }\n",
       "</style>\n",
       "<table border=\"1\" class=\"dataframe\">\n",
       "  <thead>\n",
       "    <tr style=\"text-align: right;\">\n",
       "      <th></th>\n",
       "      <th>Channel</th>\n",
       "      <th>Region</th>\n",
       "      <th>Fresh</th>\n",
       "      <th>Milk</th>\n",
       "      <th>Grocery</th>\n",
       "      <th>Frozen</th>\n",
       "      <th>Detergents_Paper</th>\n",
       "      <th>Delicassen</th>\n",
       "      <th>Outlier</th>\n",
       "    </tr>\n",
       "  </thead>\n",
       "  <tbody>\n",
       "    <tr>\n",
       "      <th>2</th>\n",
       "      <td>2</td>\n",
       "      <td>3</td>\n",
       "      <td>6353</td>\n",
       "      <td>8808</td>\n",
       "      <td>7684</td>\n",
       "      <td>2405</td>\n",
       "      <td>3516</td>\n",
       "      <td>7844</td>\n",
       "      <td>Delicassen</td>\n",
       "    </tr>\n",
       "    <tr>\n",
       "      <th>23</th>\n",
       "      <td>2</td>\n",
       "      <td>3</td>\n",
       "      <td>26373</td>\n",
       "      <td>36423</td>\n",
       "      <td>22019</td>\n",
       "      <td>5154</td>\n",
       "      <td>4337</td>\n",
       "      <td>16523</td>\n",
       "      <td>Delicassen</td>\n",
       "    </tr>\n",
       "    <tr>\n",
       "      <th>47</th>\n",
       "      <td>2</td>\n",
       "      <td>3</td>\n",
       "      <td>44466</td>\n",
       "      <td>54259</td>\n",
       "      <td>55571</td>\n",
       "      <td>7782</td>\n",
       "      <td>24171</td>\n",
       "      <td>6465</td>\n",
       "      <td>Delicassen</td>\n",
       "    </tr>\n",
       "    <tr>\n",
       "      <th>71</th>\n",
       "      <td>1</td>\n",
       "      <td>3</td>\n",
       "      <td>18291</td>\n",
       "      <td>1266</td>\n",
       "      <td>21042</td>\n",
       "      <td>5373</td>\n",
       "      <td>4173</td>\n",
       "      <td>14472</td>\n",
       "      <td>Delicassen</td>\n",
       "    </tr>\n",
       "    <tr>\n",
       "      <th>87</th>\n",
       "      <td>1</td>\n",
       "      <td>3</td>\n",
       "      <td>43265</td>\n",
       "      <td>5025</td>\n",
       "      <td>8117</td>\n",
       "      <td>6312</td>\n",
       "      <td>1579</td>\n",
       "      <td>14351</td>\n",
       "      <td>Delicassen</td>\n",
       "    </tr>\n",
       "    <tr>\n",
       "      <th>171</th>\n",
       "      <td>2</td>\n",
       "      <td>3</td>\n",
       "      <td>200</td>\n",
       "      <td>25862</td>\n",
       "      <td>19816</td>\n",
       "      <td>651</td>\n",
       "      <td>8773</td>\n",
       "      <td>6250</td>\n",
       "      <td>Delicassen</td>\n",
       "    </tr>\n",
       "    <tr>\n",
       "      <th>181</th>\n",
       "      <td>1</td>\n",
       "      <td>3</td>\n",
       "      <td>112151</td>\n",
       "      <td>29627</td>\n",
       "      <td>18148</td>\n",
       "      <td>16745</td>\n",
       "      <td>4948</td>\n",
       "      <td>8550</td>\n",
       "      <td>Delicassen</td>\n",
       "    </tr>\n",
       "    <tr>\n",
       "      <th>183</th>\n",
       "      <td>1</td>\n",
       "      <td>3</td>\n",
       "      <td>36847</td>\n",
       "      <td>43950</td>\n",
       "      <td>20170</td>\n",
       "      <td>36534</td>\n",
       "      <td>239</td>\n",
       "      <td>47943</td>\n",
       "      <td>Delicassen</td>\n",
       "    </tr>\n",
       "    <tr>\n",
       "      <th>202</th>\n",
       "      <td>1</td>\n",
       "      <td>1</td>\n",
       "      <td>25203</td>\n",
       "      <td>11487</td>\n",
       "      <td>9490</td>\n",
       "      <td>5065</td>\n",
       "      <td>284</td>\n",
       "      <td>6854</td>\n",
       "      <td>Delicassen</td>\n",
       "    </tr>\n",
       "    <tr>\n",
       "      <th>218</th>\n",
       "      <td>2</td>\n",
       "      <td>1</td>\n",
       "      <td>18</td>\n",
       "      <td>7504</td>\n",
       "      <td>15205</td>\n",
       "      <td>1285</td>\n",
       "      <td>4797</td>\n",
       "      <td>6372</td>\n",
       "      <td>Delicassen</td>\n",
       "    </tr>\n",
       "  </tbody>\n",
       "</table>\n",
       "</div>"
      ],
      "text/plain": [
       "     Channel  Region   Fresh   Milk  Grocery  Frozen  Detergents_Paper  \\\n",
       "2          2       3    6353   8808     7684    2405              3516   \n",
       "23         2       3   26373  36423    22019    5154              4337   \n",
       "47         2       3   44466  54259    55571    7782             24171   \n",
       "71         1       3   18291   1266    21042    5373              4173   \n",
       "87         1       3   43265   5025     8117    6312              1579   \n",
       "171        2       3     200  25862    19816     651              8773   \n",
       "181        1       3  112151  29627    18148   16745              4948   \n",
       "183        1       3   36847  43950    20170   36534               239   \n",
       "202        1       1   25203  11487     9490    5065               284   \n",
       "218        2       1      18   7504    15205    1285              4797   \n",
       "\n",
       "     Delicassen     Outlier  \n",
       "2          7844  Delicassen  \n",
       "23        16523  Delicassen  \n",
       "47         6465  Delicassen  \n",
       "71        14472  Delicassen  \n",
       "87        14351  Delicassen  \n",
       "171        6250  Delicassen  \n",
       "181        8550  Delicassen  \n",
       "183       47943  Delicassen  \n",
       "202        6854  Delicassen  \n",
       "218        6372  Delicassen  "
      ]
     },
     "execution_count": 7,
     "metadata": {},
     "output_type": "execute_result"
    }
   ],
   "source": [
    "# Descriptive statistics - any outliers to remove?\n",
    "stats = customers.describe().transpose()\n",
    "stats['IQR'] = stats['75%'] - stats['25%']\n",
    "\n",
    "outliers = pd.DataFrame(columns=customers.columns)\n",
    " \n",
    "for col in stats.index:\n",
    "    iqr = stats.at[col,'IQR']\n",
    "    cutoff = iqr * 3\n",
    "    lower = stats.at[col,'25%'] - cutoff\n",
    "    upper = stats.at[col,'75%'] + cutoff\n",
    "    results = customers[(customers[col] < lower) | \n",
    "                   (customers[col] > upper)].copy()\n",
    "    results['Outlier'] = col\n",
    "    outliers = outliers.append(results)\n",
    "results"
   ]
  },
  {
   "cell_type": "code",
   "execution_count": 8,
   "metadata": {},
   "outputs": [
    {
     "data": {
      "text/plain": [
       "<matplotlib.axes._subplots.AxesSubplot at 0x7fe19c21c3d0>"
      ]
     },
     "execution_count": 8,
     "metadata": {},
     "output_type": "execute_result"
    },
    {
     "data": {
      "image/png": "[encoded data removed]",
      "text/plain": [
       "<Figure size 432x288 with 1 Axes>"
      ]
     },
     "metadata": {
      "needs_background": "light"
     },
     "output_type": "display_data"
    }
   ],
   "source": [
    "customers.boxplot(\"Delicassen\")"
   ]
  },
  {
   "cell_type": "code",
   "execution_count": 9,
   "metadata": {},
   "outputs": [
    {
     "name": "stdout",
     "output_type": "stream",
     "text": [
      "There seem to be 10 outliers. But one observation is particularly high as you can see in the boxplot\n"
     ]
    }
   ],
   "source": [
    "print(\"There seem to be\",len(results),\"outliers. But one observation is particularly high as you can see in the boxplot\")"
   ]
  },
  {
   "cell_type": "code",
   "execution_count": 10,
   "metadata": {},
   "outputs": [
    {
     "name": "stdout",
     "output_type": "stream",
     "text": [
      "[ 0.75835455 -1.27924678  2.55258269  4.03992212  3.57518722  5.88782573\n",
      "  3.61945758 11.11353365]\n",
      "significantly skewed\n",
      "significantly skewed\n",
      "significantly skewed\n",
      "significantly skewed\n",
      "significantly skewed\n",
      "significantly skewed\n",
      "significantly skewed\n",
      "significantly skewed\n"
     ]
    },
    {
     "data": {
      "text/plain": [
       "'\\nSome variables are just 1 or 2 because they are categorical variables\\nthat have been encoded. But for the continous values it seems that \\nall distributions are significantly skewed to the left.\\n'"
      ]
     },
     "execution_count": 10,
     "metadata": {},
     "output_type": "execute_result"
    },
    {
     "data": {
      "image/png": "[encoded data removed]",
      "text/plain": [
       "<Figure size 1080x720 with 9 Axes>"
      ]
     },
     "metadata": {
      "needs_background": "light"
     },
     "output_type": "display_data"
    }
   ],
   "source": [
    "# Column-wise data distribution - is the distribution skewed?\n",
    "\n",
    "# Import library\n",
    "from scipy.stats import skew\n",
    "from scipy.stats import skewtest\n",
    "\n",
    "# Create histograms\n",
    "customers.hist(figsize=(15,10))\n",
    "\n",
    "# Calculate skew\n",
    "print(skew(customers))\n",
    "\n",
    "# Check if significantly skewed\n",
    "stat, pvalue = skewtest(customers)\n",
    "\n",
    "for p in pvalue:\n",
    "    if p < .05:\n",
    "        print(\"significantly skewed\")\n",
    "    elif p >= 0.05:\n",
    "        print(\"not significantly skewed\")\n",
    "    else:\n",
    "        print(\"something went wrong\")\n",
    "\n",
    "\"\"\"\n",
    "Some variables are just 1 or 2 because they are categorical variables\n",
    "that have been encoded. But for the continous values it seems that \n",
    "all distributions are significantly skewed to the left.\n",
    "\"\"\""
   ]
  },
  {
   "cell_type": "code",
   "execution_count": 11,
   "metadata": {},
   "outputs": [
    {
     "data": {
      "text/html": [
       "<div>\n",
       "<style scoped>\n",
       "    .dataframe tbody tr th:only-of-type {\n",
       "        vertical-align: middle;\n",
       "    }\n",
       "\n",
       "    .dataframe tbody tr th {\n",
       "        vertical-align: top;\n",
       "    }\n",
       "\n",
       "    .dataframe thead th {\n",
       "        text-align: right;\n",
       "    }\n",
       "</style>\n",
       "<table border=\"1\" class=\"dataframe\">\n",
       "  <thead>\n",
       "    <tr style=\"text-align: right;\">\n",
       "      <th></th>\n",
       "      <th>Channel</th>\n",
       "      <th>Region</th>\n",
       "      <th>Fresh</th>\n",
       "      <th>Milk</th>\n",
       "      <th>Grocery</th>\n",
       "      <th>Frozen</th>\n",
       "      <th>Detergents_Paper</th>\n",
       "      <th>Delicassen</th>\n",
       "    </tr>\n",
       "  </thead>\n",
       "  <tbody>\n",
       "    <tr>\n",
       "      <th>0</th>\n",
       "      <td>0.343643</td>\n",
       "      <td>0.268097</td>\n",
       "      <td>0.239937</td>\n",
       "      <td>0.378614</td>\n",
       "      <td>0.216117</td>\n",
       "      <td>0.015833</td>\n",
       "      <td>0.210907</td>\n",
       "      <td>0.199421</td>\n",
       "    </tr>\n",
       "    <tr>\n",
       "      <th>1</th>\n",
       "      <td>0.687285</td>\n",
       "      <td>0.536193</td>\n",
       "      <td>0.373589</td>\n",
       "      <td>0.763266</td>\n",
       "      <td>0.489601</td>\n",
       "      <td>0.146192</td>\n",
       "      <td>0.470637</td>\n",
       "      <td>0.464123</td>\n",
       "    </tr>\n",
       "    <tr>\n",
       "      <th>2</th>\n",
       "      <td>1.030928</td>\n",
       "      <td>0.804290</td>\n",
       "      <td>0.493908</td>\n",
       "      <td>1.108629</td>\n",
       "      <td>0.709234</td>\n",
       "      <td>0.324122</td>\n",
       "      <td>0.747955</td>\n",
       "      <td>1.633224</td>\n",
       "    </tr>\n",
       "    <tr>\n",
       "      <th>3</th>\n",
       "      <td>1.202749</td>\n",
       "      <td>1.072386</td>\n",
       "      <td>0.745133</td>\n",
       "      <td>1.155525</td>\n",
       "      <td>0.829884</td>\n",
       "      <td>0.797914</td>\n",
       "      <td>0.787944</td>\n",
       "      <td>1.899714</td>\n",
       "    </tr>\n",
       "    <tr>\n",
       "      <th>4</th>\n",
       "      <td>1.546392</td>\n",
       "      <td>1.340483</td>\n",
       "      <td>1.173437</td>\n",
       "      <td>1.367652</td>\n",
       "      <td>1.035625</td>\n",
       "      <td>1.087560</td>\n",
       "      <td>0.928102</td>\n",
       "      <td>2.672507</td>\n",
       "    </tr>\n",
       "    <tr>\n",
       "      <th>...</th>\n",
       "      <td>...</td>\n",
       "      <td>...</td>\n",
       "      <td>...</td>\n",
       "      <td>...</td>\n",
       "      <td>...</td>\n",
       "      <td>...</td>\n",
       "      <td>...</td>\n",
       "      <td>...</td>\n",
       "    </tr>\n",
       "    <tr>\n",
       "      <th>72</th>\n",
       "      <td>19.587629</td>\n",
       "      <td>19.571046</td>\n",
       "      <td>18.856407</td>\n",
       "      <td>23.187538</td>\n",
       "      <td>23.185583</td>\n",
       "      <td>12.691155</td>\n",
       "      <td>25.279980</td>\n",
       "      <td>23.447893</td>\n",
       "    </tr>\n",
       "    <tr>\n",
       "      <th>73</th>\n",
       "      <td>19.931271</td>\n",
       "      <td>19.839142</td>\n",
       "      <td>19.233273</td>\n",
       "      <td>23.396607</td>\n",
       "      <td>23.434628</td>\n",
       "      <td>13.292790</td>\n",
       "      <td>25.340239</td>\n",
       "      <td>23.544474</td>\n",
       "    </tr>\n",
       "    <tr>\n",
       "      <th>74</th>\n",
       "      <td>20.274914</td>\n",
       "      <td>20.107239</td>\n",
       "      <td>19.388383</td>\n",
       "      <td>23.645317</td>\n",
       "      <td>23.714572</td>\n",
       "      <td>13.387859</td>\n",
       "      <td>25.490178</td>\n",
       "      <td>23.809772</td>\n",
       "    </tr>\n",
       "    <tr>\n",
       "      <th>75</th>\n",
       "      <td>20.446735</td>\n",
       "      <td>20.375335</td>\n",
       "      <td>19.774699</td>\n",
       "      <td>23.689899</td>\n",
       "      <td>23.714658</td>\n",
       "      <td>13.713905</td>\n",
       "      <td>25.490414</td>\n",
       "      <td>23.955090</td>\n",
       "    </tr>\n",
       "    <tr>\n",
       "      <th>76</th>\n",
       "      <td>20.618557</td>\n",
       "      <td>20.643432</td>\n",
       "      <td>19.788278</td>\n",
       "      <td>23.830546</td>\n",
       "      <td>23.901363</td>\n",
       "      <td>14.271002</td>\n",
       "      <td>25.532138</td>\n",
       "      <td>24.088335</td>\n",
       "    </tr>\n",
       "  </tbody>\n",
       "</table>\n",
       "<p>77 rows × 8 columns</p>\n",
       "</div>"
      ],
      "text/plain": [
       "      Channel     Region      Fresh       Milk    Grocery     Frozen  \\\n",
       "0    0.343643   0.268097   0.239937   0.378614   0.216117   0.015833   \n",
       "1    0.687285   0.536193   0.373589   0.763266   0.489601   0.146192   \n",
       "2    1.030928   0.804290   0.493908   1.108629   0.709234   0.324122   \n",
       "3    1.202749   1.072386   0.745133   1.155525   0.829884   0.797914   \n",
       "4    1.546392   1.340483   1.173437   1.367652   1.035625   1.087560   \n",
       "..        ...        ...        ...        ...        ...        ...   \n",
       "72  19.587629  19.571046  18.856407  23.187538  23.185583  12.691155   \n",
       "73  19.931271  19.839142  19.233273  23.396607  23.434628  13.292790   \n",
       "74  20.274914  20.107239  19.388383  23.645317  23.714572  13.387859   \n",
       "75  20.446735  20.375335  19.774699  23.689899  23.714658  13.713905   \n",
       "76  20.618557  20.643432  19.788278  23.830546  23.901363  14.271002   \n",
       "\n",
       "    Detergents_Paper  Delicassen  \n",
       "0           0.210907    0.199421  \n",
       "1           0.470637    0.464123  \n",
       "2           0.747955    1.633224  \n",
       "3           0.787944    1.899714  \n",
       "4           0.928102    2.672507  \n",
       "..               ...         ...  \n",
       "72         25.279980   23.447893  \n",
       "73         25.340239   23.544474  \n",
       "74         25.490178   23.809772  \n",
       "75         25.490414   23.955090  \n",
       "76         25.532138   24.088335  \n",
       "\n",
       "[77 rows x 8 columns]"
      ]
     },
     "execution_count": 11,
     "metadata": {},
     "output_type": "execute_result"
    }
   ],
   "source": [
    "# Check Pareto principle\n",
    "cummulative_sum = customers.cumsum()\n",
    "cummulative_perc = 100 * cummulative_sum / customers.sum()\n",
    "cummulative_perc\n",
    "\n",
    "# cummulative_perc.hist(figsize=(15,10))\n",
    "pareto = cummulative_perc[(cummulative_perc[\"Fresh\"])< 20] \n",
    "pareto\n",
    "# Source: https://mode.com/blog/pareto-chart-101/"
   ]
  },
  {
   "cell_type": "code",
   "execution_count": 12,
   "metadata": {},
   "outputs": [
    {
     "data": {
      "text/html": [
       "<div>\n",
       "<style scoped>\n",
       "    .dataframe tbody tr th:only-of-type {\n",
       "        vertical-align: middle;\n",
       "    }\n",
       "\n",
       "    .dataframe tbody tr th {\n",
       "        vertical-align: top;\n",
       "    }\n",
       "\n",
       "    .dataframe thead th {\n",
       "        text-align: right;\n",
       "    }\n",
       "</style>\n",
       "<table border=\"1\" class=\"dataframe\">\n",
       "  <thead>\n",
       "    <tr style=\"text-align: right;\">\n",
       "      <th></th>\n",
       "      <th>Channel</th>\n",
       "      <th>Region</th>\n",
       "      <th>Fresh</th>\n",
       "      <th>Milk</th>\n",
       "      <th>Grocery</th>\n",
       "      <th>Frozen</th>\n",
       "      <th>Detergents_Paper</th>\n",
       "      <th>Delicassen</th>\n",
       "    </tr>\n",
       "  </thead>\n",
       "  <tbody>\n",
       "    <tr>\n",
       "      <th>0</th>\n",
       "      <td>0.343643</td>\n",
       "      <td>0.268097</td>\n",
       "      <td>0.239937</td>\n",
       "      <td>0.378614</td>\n",
       "      <td>0.216117</td>\n",
       "      <td>0.015833</td>\n",
       "      <td>0.210907</td>\n",
       "      <td>0.199421</td>\n",
       "    </tr>\n",
       "    <tr>\n",
       "      <th>1</th>\n",
       "      <td>0.687285</td>\n",
       "      <td>0.536193</td>\n",
       "      <td>0.373589</td>\n",
       "      <td>0.763266</td>\n",
       "      <td>0.489601</td>\n",
       "      <td>0.146192</td>\n",
       "      <td>0.470637</td>\n",
       "      <td>0.464123</td>\n",
       "    </tr>\n",
       "    <tr>\n",
       "      <th>2</th>\n",
       "      <td>1.030928</td>\n",
       "      <td>0.804290</td>\n",
       "      <td>0.493908</td>\n",
       "      <td>1.108629</td>\n",
       "      <td>0.709234</td>\n",
       "      <td>0.324122</td>\n",
       "      <td>0.747955</td>\n",
       "      <td>1.633224</td>\n",
       "    </tr>\n",
       "    <tr>\n",
       "      <th>3</th>\n",
       "      <td>1.202749</td>\n",
       "      <td>1.072386</td>\n",
       "      <td>0.745133</td>\n",
       "      <td>1.155525</td>\n",
       "      <td>0.829884</td>\n",
       "      <td>0.797914</td>\n",
       "      <td>0.787944</td>\n",
       "      <td>1.899714</td>\n",
       "    </tr>\n",
       "    <tr>\n",
       "      <th>4</th>\n",
       "      <td>1.546392</td>\n",
       "      <td>1.340483</td>\n",
       "      <td>1.173437</td>\n",
       "      <td>1.367652</td>\n",
       "      <td>1.035625</td>\n",
       "      <td>1.087560</td>\n",
       "      <td>0.928102</td>\n",
       "      <td>2.672507</td>\n",
       "    </tr>\n",
       "    <tr>\n",
       "      <th>...</th>\n",
       "      <td>...</td>\n",
       "      <td>...</td>\n",
       "      <td>...</td>\n",
       "      <td>...</td>\n",
       "      <td>...</td>\n",
       "      <td>...</td>\n",
       "      <td>...</td>\n",
       "      <td>...</td>\n",
       "    </tr>\n",
       "    <tr>\n",
       "      <th>84</th>\n",
       "      <td>22.680412</td>\n",
       "      <td>22.788204</td>\n",
       "      <td>21.207523</td>\n",
       "      <td>25.462553</td>\n",
       "      <td>25.881605</td>\n",
       "      <td>14.920653</td>\n",
       "      <td>27.889581</td>\n",
       "      <td>25.094084</td>\n",
       "    </tr>\n",
       "    <tr>\n",
       "      <th>85</th>\n",
       "      <td>23.024055</td>\n",
       "      <td>23.056300</td>\n",
       "      <td>21.512762</td>\n",
       "      <td>27.273946</td>\n",
       "      <td>28.533552</td>\n",
       "      <td>14.996560</td>\n",
       "      <td>31.109739</td>\n",
       "      <td>25.532869</td>\n",
       "    </tr>\n",
       "    <tr>\n",
       "      <th>86</th>\n",
       "      <td>23.367698</td>\n",
       "      <td>23.324397</td>\n",
       "      <td>21.946937</td>\n",
       "      <td>30.155817</td>\n",
       "      <td>29.451472</td>\n",
       "      <td>15.069582</td>\n",
       "      <td>32.692725</td>\n",
       "      <td>25.667456</td>\n",
       "    </tr>\n",
       "    <tr>\n",
       "      <th>87</th>\n",
       "      <td>23.539519</td>\n",
       "      <td>23.592493</td>\n",
       "      <td>22.766329</td>\n",
       "      <td>30.352849</td>\n",
       "      <td>29.683481</td>\n",
       "      <td>15.536566</td>\n",
       "      <td>32.817266</td>\n",
       "      <td>27.806386</td>\n",
       "    </tr>\n",
       "    <tr>\n",
       "      <th>88</th>\n",
       "      <td>23.711340</td>\n",
       "      <td>23.860590</td>\n",
       "      <td>22.915265</td>\n",
       "      <td>30.374101</td>\n",
       "      <td>29.799015</td>\n",
       "      <td>16.256797</td>\n",
       "      <td>32.830280</td>\n",
       "      <td>27.813242</td>\n",
       "    </tr>\n",
       "  </tbody>\n",
       "</table>\n",
       "<p>89 rows × 8 columns</p>\n",
       "</div>"
      ],
      "text/plain": [
       "      Channel     Region      Fresh       Milk    Grocery     Frozen  \\\n",
       "0    0.343643   0.268097   0.239937   0.378614   0.216117   0.015833   \n",
       "1    0.687285   0.536193   0.373589   0.763266   0.489601   0.146192   \n",
       "2    1.030928   0.804290   0.493908   1.108629   0.709234   0.324122   \n",
       "3    1.202749   1.072386   0.745133   1.155525   0.829884   0.797914   \n",
       "4    1.546392   1.340483   1.173437   1.367652   1.035625   1.087560   \n",
       "..        ...        ...        ...        ...        ...        ...   \n",
       "84  22.680412  22.788204  21.207523  25.462553  25.881605  14.920653   \n",
       "85  23.024055  23.056300  21.512762  27.273946  28.533552  14.996560   \n",
       "86  23.367698  23.324397  21.946937  30.155817  29.451472  15.069582   \n",
       "87  23.539519  23.592493  22.766329  30.352849  29.683481  15.536566   \n",
       "88  23.711340  23.860590  22.915265  30.374101  29.799015  16.256797   \n",
       "\n",
       "    Detergents_Paper  Delicassen  \n",
       "0           0.210907    0.199421  \n",
       "1           0.470637    0.464123  \n",
       "2           0.747955    1.633224  \n",
       "3           0.787944    1.899714  \n",
       "4           0.928102    2.672507  \n",
       "..               ...         ...  \n",
       "84         27.889581   25.094084  \n",
       "85         31.109739   25.532869  \n",
       "86         32.692725   25.667456  \n",
       "87         32.817266   27.806386  \n",
       "88         32.830280   27.813242  \n",
       "\n",
       "[89 rows x 8 columns]"
      ]
     },
     "execution_count": 12,
     "metadata": {},
     "output_type": "execute_result"
    }
   ],
   "source": [
    "# sales_80\n",
    "customers_20 = round(len(customers)*.2)+1\n",
    "cummulative_perc[:customers_20]"
   ]
  },
  {
   "cell_type": "markdown",
   "metadata": {},
   "source": [
    "Additional info: Over a century ago, an Italian economist named Vilfredo Pareto discovered that roughly 20% of the customers account for 80% of the typical retail sales. This is called the Pareto principle. Check if this dataset displays this characteristic."
   ]
  },
  {
   "cell_type": "markdown",
   "metadata": {},
   "source": [
    "# Challenge 2 - Data Cleaning and Transformation\n",
    "\n",
    "If your conclusion from the previous challenge is the data need cleaning/transformation, do it in the cells below. However, if your conclusion is the data need not be cleaned or transformed, feel free to skip this challenge. But if you do choose the latter, please provide rationale."
   ]
  },
  {
   "cell_type": "code",
   "execution_count": 13,
   "metadata": {},
   "outputs": [],
   "source": [
    "# Your code here"
   ]
  },
  {
   "cell_type": "code",
   "execution_count": 14,
   "metadata": {},
   "outputs": [
    {
     "data": {
      "text/plain": [
       "'\\nIt could be that the outliers could be dropped, but since I have no\\nclear industry-related reasons to do so, I choose to keep the data.\\n\\nSince grocery and paper sales are related but in very different categories\\nI also decide to keep it.\\n'"
      ]
     },
     "execution_count": 14,
     "metadata": {},
     "output_type": "execute_result"
    }
   ],
   "source": [
    "\"\"\"\n",
    "It could be that the outliers could be dropped, but since I have no\n",
    "clear industry-related reasons to do so, I choose to keep the data.\n",
    "\n",
    "Since grocery and paper sales are related but in very different categories\n",
    "I also decide to keep it.\n",
    "\"\"\""
   ]
  },
  {
   "cell_type": "markdown",
   "metadata": {},
   "source": [
    "# Challenge 3 - Data Preprocessing\n",
    "\n",
    "One problem with the dataset is the value ranges are remarkably different across various categories (e.g. `Fresh` and `Grocery` compared to `Detergents_Paper` and `Delicassen`). If you made this observation in the first challenge, you've done a great job! This means you not only completed the bonus questions in the previous Supervised Learning lab but also researched deep into [*feature scaling*](https://en.wikipedia.org/wiki/Feature_scaling). Keep on the good work!\n",
    "\n",
    "Diverse value ranges in different features could cause issues in our clustering. The way to reduce the problem is through feature scaling. We'll use this technique again with this dataset.\n",
    "\n",
    "#### We will use the `StandardScaler` from `sklearn.preprocessing` and scale our data. Read more about `StandardScaler` [here](https://scikit-learn.org/stable/modules/generated/sklearn.preprocessing.StandardScaler.html#sklearn.preprocessing.StandardScaler).\n",
    "\n",
    "*After scaling your data, assign the transformed data to a new variable `customers_scale`.*"
   ]
  },
  {
   "cell_type": "code",
   "execution_count": 15,
   "metadata": {},
   "outputs": [],
   "source": [
    "# Your import here:\n",
    "from sklearn.preprocessing import StandardScaler\n",
    "\n",
    "# Your code here:\n",
    "scaler = StandardScaler()\n",
    "scaler = scaler.fit(customers)\n",
    "customers_scale = scaler.fit_transform(customers)"
   ]
  },
  {
   "cell_type": "markdown",
   "metadata": {},
   "source": [
    "# Challenge 3 - Data Clustering with K-Means\n",
    "\n",
    "Now let's cluster the data with K-Means first. Initiate the K-Means model, then fit your scaled data. In the data returned from the `.fit` method, there is an attribute called `labels_` which is the cluster number assigned to each data record. What you can do is to assign these labels back to `customers` in a new column called `customers['labels']`. Then you'll see the cluster results of the original data."
   ]
  },
  {
   "cell_type": "code",
   "execution_count": 16,
   "metadata": {
    "scrolled": true
   },
   "outputs": [],
   "source": [
    "# Import library\n",
    "from sklearn.cluster import KMeans\n",
    "from sklearn import cluster\n",
    "\n",
    "# Initate K-Means model\n",
    "kmeans = cluster.KMeans()\n",
    "\n",
    "# Fit scaled data\n",
    "kmeans.fit(customers)\n",
    "\n",
    "# Assign labels to records\n",
    "customers[\"labels\"] = kmeans.labels_\n"
   ]
  },
  {
   "cell_type": "markdown",
   "metadata": {},
   "source": [
    "Count the values in `labels`."
   ]
  },
  {
   "cell_type": "code",
   "execution_count": 17,
   "metadata": {},
   "outputs": [
    {
     "data": {
      "text/plain": [
       "(array([0, 1, 2, 3, 4, 5, 6, 7], dtype=int32),\n",
       " array([ 32, 174,  30,   5,   3,  88,   3, 105]))"
      ]
     },
     "execution_count": 17,
     "metadata": {},
     "output_type": "execute_result"
    }
   ],
   "source": [
    "# Your code here:\n",
    "np.unique(kmeans.labels_, return_counts=True)"
   ]
  },
  {
   "cell_type": "markdown",
   "metadata": {},
   "source": [
    "# Challenge 4 - Data Clustering with DBSCAN\n",
    "\n",
    "Now let's cluster the data using DBSCAN. Use `DBSCAN(eps=0.5)` to initiate the model, then fit your scaled data. In the data returned from the `.fit` method, assign the `labels_` back to `customers['labels_DBSCAN']`. Now your original data have two labels, one from K-Means and the other from DBSCAN."
   ]
  },
  {
   "cell_type": "code",
   "execution_count": 18,
   "metadata": {
    "scrolled": true
   },
   "outputs": [
    {
     "data": {
      "text/html": [
       "<div>\n",
       "<style scoped>\n",
       "    .dataframe tbody tr th:only-of-type {\n",
       "        vertical-align: middle;\n",
       "    }\n",
       "\n",
       "    .dataframe tbody tr th {\n",
       "        vertical-align: top;\n",
       "    }\n",
       "\n",
       "    .dataframe thead th {\n",
       "        text-align: right;\n",
       "    }\n",
       "</style>\n",
       "<table border=\"1\" class=\"dataframe\">\n",
       "  <thead>\n",
       "    <tr style=\"text-align: right;\">\n",
       "      <th></th>\n",
       "      <th>Channel</th>\n",
       "      <th>Region</th>\n",
       "      <th>Fresh</th>\n",
       "      <th>Milk</th>\n",
       "      <th>Grocery</th>\n",
       "      <th>Frozen</th>\n",
       "      <th>Detergents_Paper</th>\n",
       "      <th>Delicassen</th>\n",
       "      <th>labels</th>\n",
       "      <th>labels_DBSCAN</th>\n",
       "    </tr>\n",
       "  </thead>\n",
       "  <tbody>\n",
       "    <tr>\n",
       "      <th>0</th>\n",
       "      <td>2</td>\n",
       "      <td>3</td>\n",
       "      <td>12669</td>\n",
       "      <td>9656</td>\n",
       "      <td>7561</td>\n",
       "      <td>214</td>\n",
       "      <td>2674</td>\n",
       "      <td>1338</td>\n",
       "      <td>7</td>\n",
       "      <td>-1</td>\n",
       "    </tr>\n",
       "    <tr>\n",
       "      <th>1</th>\n",
       "      <td>2</td>\n",
       "      <td>3</td>\n",
       "      <td>7057</td>\n",
       "      <td>9810</td>\n",
       "      <td>9568</td>\n",
       "      <td>1762</td>\n",
       "      <td>3293</td>\n",
       "      <td>1776</td>\n",
       "      <td>5</td>\n",
       "      <td>-1</td>\n",
       "    </tr>\n",
       "    <tr>\n",
       "      <th>2</th>\n",
       "      <td>2</td>\n",
       "      <td>3</td>\n",
       "      <td>6353</td>\n",
       "      <td>8808</td>\n",
       "      <td>7684</td>\n",
       "      <td>2405</td>\n",
       "      <td>3516</td>\n",
       "      <td>7844</td>\n",
       "      <td>5</td>\n",
       "      <td>-1</td>\n",
       "    </tr>\n",
       "    <tr>\n",
       "      <th>3</th>\n",
       "      <td>1</td>\n",
       "      <td>3</td>\n",
       "      <td>13265</td>\n",
       "      <td>1196</td>\n",
       "      <td>4221</td>\n",
       "      <td>6404</td>\n",
       "      <td>507</td>\n",
       "      <td>1788</td>\n",
       "      <td>7</td>\n",
       "      <td>-1</td>\n",
       "    </tr>\n",
       "    <tr>\n",
       "      <th>4</th>\n",
       "      <td>2</td>\n",
       "      <td>3</td>\n",
       "      <td>22615</td>\n",
       "      <td>5410</td>\n",
       "      <td>7198</td>\n",
       "      <td>3915</td>\n",
       "      <td>1777</td>\n",
       "      <td>5185</td>\n",
       "      <td>7</td>\n",
       "      <td>-1</td>\n",
       "    </tr>\n",
       "  </tbody>\n",
       "</table>\n",
       "</div>"
      ],
      "text/plain": [
       "   Channel  Region  Fresh  Milk  Grocery  Frozen  Detergents_Paper  \\\n",
       "0        2       3  12669  9656     7561     214              2674   \n",
       "1        2       3   7057  9810     9568    1762              3293   \n",
       "2        2       3   6353  8808     7684    2405              3516   \n",
       "3        1       3  13265  1196     4221    6404               507   \n",
       "4        2       3  22615  5410     7198    3915              1777   \n",
       "\n",
       "   Delicassen  labels  labels_DBSCAN  \n",
       "0        1338       7             -1  \n",
       "1        1776       5             -1  \n",
       "2        7844       5             -1  \n",
       "3        1788       7             -1  \n",
       "4        5185       7             -1  "
      ]
     },
     "execution_count": 18,
     "metadata": {},
     "output_type": "execute_result"
    }
   ],
   "source": [
    "# Import library\n",
    "from sklearn.cluster import DBSCAN\n",
    "\n",
    "clustering = DBSCAN(eps=0.5)\n",
    "clustering.fit(customers)\n",
    "\n",
    "customers[\"labels_DBSCAN\"] = clustering.labels_\n",
    "customers.head(5)\n",
    "# Source: https://scikit-learn.org/stable/modules/generated/sklearn.cluster.DBSCAN.html"
   ]
  },
  {
   "cell_type": "markdown",
   "metadata": {},
   "source": [
    "Count the values in `labels_DBSCAN`."
   ]
  },
  {
   "cell_type": "code",
   "execution_count": 19,
   "metadata": {},
   "outputs": [
    {
     "data": {
      "text/plain": [
       "(array([-1]), array([440]))"
      ]
     },
     "execution_count": 19,
     "metadata": {},
     "output_type": "execute_result"
    }
   ],
   "source": [
    "# Your code here\n",
    "np.unique(clustering.labels_, return_counts=True)"
   ]
  },
  {
   "cell_type": "markdown",
   "metadata": {},
   "source": [
    "# Challenge 5 - Compare K-Means with DBSCAN\n",
    "\n",
    "Now we want to visually compare how K-Means and DBSCAN have clustered our data. We will create scatter plots for several columns. For each of the following column pairs, plot a scatter plot using `labels` and another using `labels_DBSCAN`. Put them side by side to compare. Which clustering algorithm makes better sense?\n",
    "\n",
    "Columns to visualize:\n",
    "\n",
    "* `Detergents_Paper` as X and `Milk` as y\n",
    "* `Grocery` as X and `Fresh` as y\n",
    "* `Frozen` as X and `Delicassen` as y"
   ]
  },
  {
   "cell_type": "markdown",
   "metadata": {},
   "source": [
    "Visualize `Detergents_Paper` as X and `Milk` as y by `labels` and `labels_DBSCAN` respectively"
   ]
  },
  {
   "cell_type": "code",
   "execution_count": 20,
   "metadata": {},
   "outputs": [
    {
     "data": {
      "text/plain": [
       "<matplotlib.colorbar.Colorbar at 0x7fe19c43bb90>"
      ]
     },
     "execution_count": 20,
     "metadata": {},
     "output_type": "execute_result"
    },
    {
     "data": {
      "image/png": "[encoded data removed]",
      "text/plain": [
       "<Figure size 432x288 with 2 Axes>"
      ]
     },
     "metadata": {
      "needs_background": "light"
     },
     "output_type": "display_data"
    }
   ],
   "source": [
    "# Initialize variables\n",
    "x = customers[\"Detergents_Paper\"]\n",
    "y = customers[\"Milk\"]\n",
    "c = customers[\"labels\"]\n",
    "label = customers[\"labels\"]\n",
    "\n",
    "# Create plot\n",
    "plot = plt.scatter(x=x, y=y, c=label, label=label)\n",
    "plt.colorbar(plot)"
   ]
  },
  {
   "cell_type": "markdown",
   "metadata": {},
   "source": [
    "Visualize `Grocery` as X and `Fresh` as y by `labels` and `labels_DBSCAN` respectively"
   ]
  },
  {
   "cell_type": "code",
   "execution_count": 21,
   "metadata": {},
   "outputs": [
    {
     "data": {
      "text/plain": [
       "<matplotlib.colorbar.Colorbar at 0x7fe19c4d5b90>"
      ]
     },
     "execution_count": 21,
     "metadata": {},
     "output_type": "execute_result"
    },
    {
     "data": {
      "image/png": "[encoded data removed]",
      "text/plain": [
       "<Figure size 432x288 with 2 Axes>"
      ]
     },
     "metadata": {
      "needs_background": "light"
     },
     "output_type": "display_data"
    }
   ],
   "source": [
    "# Initialize variables\n",
    "x = customers[\"Grocery\"]\n",
    "y = customers[\"Fresh\"]\n",
    "c = customers[\"labels\"]\n",
    "label = customers[\"labels\"]\n",
    "\n",
    "# Create plot\n",
    "plot = plt.scatter(x=x, y=y, c=label, label=label)\n",
    "plt.colorbar(plot)"
   ]
  },
  {
   "cell_type": "markdown",
   "metadata": {},
   "source": [
    "Visualize `Frozen` as X and `Delicassen` as y by `labels` and `labels_DBSCAN` respectively"
   ]
  },
  {
   "cell_type": "code",
   "execution_count": 22,
   "metadata": {},
   "outputs": [
    {
     "data": {
      "text/plain": [
       "<matplotlib.colorbar.Colorbar at 0x7fe19ccff850>"
      ]
     },
     "execution_count": 22,
     "metadata": {},
     "output_type": "execute_result"
    },
    {
     "data": {
      "image/png": "[encoded data removed]",
      "text/plain": [
       "<Figure size 432x288 with 2 Axes>"
      ]
     },
     "metadata": {
      "needs_background": "light"
     },
     "output_type": "display_data"
    }
   ],
   "source": [
    "# Initialize variables\n",
    "x = customers[\"Frozen\"]\n",
    "y = customers[\"Delicassen\"]\n",
    "c = customers[\"labels\"]\n",
    "label = customers[\"labels\"]\n",
    "\n",
    "# Create plot\n",
    "plot = plt.scatter(x=x, y=y, c=label, label=label)\n",
    "plt.colorbar(plot)"
   ]
  },
  {
   "cell_type": "markdown",
   "metadata": {},
   "source": [
    "Let's use a groupby to see how the mean differs between the groups. Group `customers` by `labels` and `labels_DBSCAN` respectively and compute the means for all columns."
   ]
  },
  {
   "cell_type": "code",
   "execution_count": 23,
   "metadata": {},
   "outputs": [
    {
     "data": {
      "text/html": [
       "<div>\n",
       "<style scoped>\n",
       "    .dataframe tbody tr th:only-of-type {\n",
       "        vertical-align: middle;\n",
       "    }\n",
       "\n",
       "    .dataframe tbody tr th {\n",
       "        vertical-align: top;\n",
       "    }\n",
       "\n",
       "    .dataframe thead th {\n",
       "        text-align: right;\n",
       "    }\n",
       "</style>\n",
       "<table border=\"1\" class=\"dataframe\">\n",
       "  <thead>\n",
       "    <tr style=\"text-align: right;\">\n",
       "      <th></th>\n",
       "      <th></th>\n",
       "      <th>Channel</th>\n",
       "      <th>Region</th>\n",
       "      <th>Fresh</th>\n",
       "      <th>Milk</th>\n",
       "      <th>Grocery</th>\n",
       "      <th>Frozen</th>\n",
       "      <th>Detergents_Paper</th>\n",
       "      <th>Delicassen</th>\n",
       "    </tr>\n",
       "    <tr>\n",
       "      <th>labels</th>\n",
       "      <th>labels_DBSCAN</th>\n",
       "      <th></th>\n",
       "      <th></th>\n",
       "      <th></th>\n",
       "      <th></th>\n",
       "      <th></th>\n",
       "      <th></th>\n",
       "      <th></th>\n",
       "      <th></th>\n",
       "    </tr>\n",
       "  </thead>\n",
       "  <tbody>\n",
       "    <tr>\n",
       "      <th>0</th>\n",
       "      <th>-1</th>\n",
       "      <td>1.093750</td>\n",
       "      <td>2.593750</td>\n",
       "      <td>38912.093750</td>\n",
       "      <td>4767.750000</td>\n",
       "      <td>5452.343750</td>\n",
       "      <td>5081.000000</td>\n",
       "      <td>811.625000</td>\n",
       "      <td>2129.531250</td>\n",
       "    </tr>\n",
       "    <tr>\n",
       "      <th>1</th>\n",
       "      <th>-1</th>\n",
       "      <td>1.063218</td>\n",
       "      <td>2.511494</td>\n",
       "      <td>5708.356322</td>\n",
       "      <td>2463.247126</td>\n",
       "      <td>3061.028736</td>\n",
       "      <td>2699.379310</td>\n",
       "      <td>794.454023</td>\n",
       "      <td>846.109195</td>\n",
       "    </tr>\n",
       "    <tr>\n",
       "      <th>2</th>\n",
       "      <th>-1</th>\n",
       "      <td>2.000000</td>\n",
       "      <td>2.433333</td>\n",
       "      <td>6683.066667</td>\n",
       "      <td>17468.033333</td>\n",
       "      <td>26658.933333</td>\n",
       "      <td>1986.300000</td>\n",
       "      <td>11872.900000</td>\n",
       "      <td>2531.200000</td>\n",
       "    </tr>\n",
       "    <tr>\n",
       "      <th>3</th>\n",
       "      <th>-1</th>\n",
       "      <td>2.000000</td>\n",
       "      <td>2.800000</td>\n",
       "      <td>25603.000000</td>\n",
       "      <td>43460.600000</td>\n",
       "      <td>61472.200000</td>\n",
       "      <td>2636.000000</td>\n",
       "      <td>29974.200000</td>\n",
       "      <td>2708.800000</td>\n",
       "    </tr>\n",
       "    <tr>\n",
       "      <th>4</th>\n",
       "      <th>-1</th>\n",
       "      <td>1.000000</td>\n",
       "      <td>2.666667</td>\n",
       "      <td>26959.333333</td>\n",
       "      <td>21274.666667</td>\n",
       "      <td>11952.666667</td>\n",
       "      <td>44137.333333</td>\n",
       "      <td>527.333333</td>\n",
       "      <td>18750.000000</td>\n",
       "    </tr>\n",
       "    <tr>\n",
       "      <th>5</th>\n",
       "      <th>-1</th>\n",
       "      <td>1.784091</td>\n",
       "      <td>2.568182</td>\n",
       "      <td>4398.579545</td>\n",
       "      <td>8712.113636</td>\n",
       "      <td>12551.375000</td>\n",
       "      <td>1445.636364</td>\n",
       "      <td>5331.125000</td>\n",
       "      <td>1507.056818</td>\n",
       "    </tr>\n",
       "    <tr>\n",
       "      <th>6</th>\n",
       "      <th>-1</th>\n",
       "      <td>1.000000</td>\n",
       "      <td>3.000000</td>\n",
       "      <td>85779.666667</td>\n",
       "      <td>12503.666667</td>\n",
       "      <td>12619.666667</td>\n",
       "      <td>13991.666667</td>\n",
       "      <td>2159.000000</td>\n",
       "      <td>3958.000000</td>\n",
       "    </tr>\n",
       "    <tr>\n",
       "      <th>7</th>\n",
       "      <th>-1</th>\n",
       "      <td>1.228571</td>\n",
       "      <td>2.561905</td>\n",
       "      <td>18932.295238</td>\n",
       "      <td>3427.038095</td>\n",
       "      <td>4820.009524</td>\n",
       "      <td>3285.657143</td>\n",
       "      <td>1146.609524</td>\n",
       "      <td>1574.761905</td>\n",
       "    </tr>\n",
       "  </tbody>\n",
       "</table>\n",
       "</div>"
      ],
      "text/plain": [
       "                       Channel    Region         Fresh          Milk  \\\n",
       "labels labels_DBSCAN                                                   \n",
       "0      -1             1.093750  2.593750  38912.093750   4767.750000   \n",
       "1      -1             1.063218  2.511494   5708.356322   2463.247126   \n",
       "2      -1             2.000000  2.433333   6683.066667  17468.033333   \n",
       "3      -1             2.000000  2.800000  25603.000000  43460.600000   \n",
       "4      -1             1.000000  2.666667  26959.333333  21274.666667   \n",
       "5      -1             1.784091  2.568182   4398.579545   8712.113636   \n",
       "6      -1             1.000000  3.000000  85779.666667  12503.666667   \n",
       "7      -1             1.228571  2.561905  18932.295238   3427.038095   \n",
       "\n",
       "                           Grocery        Frozen  Detergents_Paper  \\\n",
       "labels labels_DBSCAN                                                 \n",
       "0      -1              5452.343750   5081.000000        811.625000   \n",
       "1      -1              3061.028736   2699.379310        794.454023   \n",
       "2      -1             26658.933333   1986.300000      11872.900000   \n",
       "3      -1             61472.200000   2636.000000      29974.200000   \n",
       "4      -1             11952.666667  44137.333333        527.333333   \n",
       "5      -1             12551.375000   1445.636364       5331.125000   \n",
       "6      -1             12619.666667  13991.666667       2159.000000   \n",
       "7      -1              4820.009524   3285.657143       1146.609524   \n",
       "\n",
       "                        Delicassen  \n",
       "labels labels_DBSCAN                \n",
       "0      -1              2129.531250  \n",
       "1      -1               846.109195  \n",
       "2      -1              2531.200000  \n",
       "3      -1              2708.800000  \n",
       "4      -1             18750.000000  \n",
       "5      -1              1507.056818  \n",
       "6      -1              3958.000000  \n",
       "7      -1              1574.761905  "
      ]
     },
     "execution_count": 23,
     "metadata": {},
     "output_type": "execute_result"
    }
   ],
   "source": [
    "# Group customers by labels and labels_DBSACN\n",
    "\n",
    "customers.groupby([\"labels\",\"labels_DBSCAN\"]).agg(\"mean\")"
   ]
  },
  {
   "cell_type": "markdown",
   "metadata": {},
   "source": [
    "Which algorithm appears to perform better?"
   ]
  },
  {
   "cell_type": "code",
   "execution_count": 24,
   "metadata": {},
   "outputs": [],
   "source": [
    "# Your observations here"
   ]
  },
  {
   "cell_type": "markdown",
   "metadata": {},
   "source": [
    "# Bonus Challenge 2 - Changing K-Means Number of Clusters\n",
    "\n",
    "As we mentioned earlier, we don't need to worry about the number of clusters with DBSCAN because it automatically decides that based on the parameters we send to it. But with K-Means, we have to supply the `n_clusters` param (if you don't supply `n_clusters`, the algorithm will use `8` by default). You need to know that the optimal number of clusters differs case by case based on the dataset. K-Means can perform badly if the wrong number of clusters is used.\n",
    "\n",
    "In advanced machine learning, data scientists try different numbers of clusters and evaluate the results with statistical measures (read [here](https://en.wikipedia.org/wiki/Cluster_analysis#External_evaluation)). We are not using statistical measures today but we'll use our eyes instead. In the cells below, experiment with different number of clusters and visualize with scatter plots. What number of clusters seems to work best for K-Means?"
   ]
  },
  {
   "cell_type": "code",
   "execution_count": 25,
   "metadata": {},
   "outputs": [],
   "source": [
    "# Your code here"
   ]
  },
  {
   "cell_type": "code",
   "execution_count": 26,
   "metadata": {},
   "outputs": [],
   "source": [
    "# Your comment here"
   ]
  },
  {
   "cell_type": "markdown",
   "metadata": {},
   "source": [
    "# Bonus Challenge 3 - Changing DBSCAN `eps` and `min_samples`\n",
    "\n",
    "Experiment changing the `eps` and `min_samples` params for DBSCAN. See how the results differ with scatter plot visualization."
   ]
  },
  {
   "cell_type": "code",
   "execution_count": 27,
   "metadata": {},
   "outputs": [],
   "source": [
    "# Your code here"
   ]
  },
  {
   "cell_type": "code",
   "execution_count": 28,
   "metadata": {},
   "outputs": [],
   "source": [
    "# Your comment here"
   ]
  }
 ],
 "metadata": {
  "kernelspec": {
   "display_name": "Python 3",
   "language": "python",
   "name": "python3"
  },
  "language_info": {
   "codemirror_mode": {
    "name": "ipython",
    "version": 3
   },
   "file_extension": ".py",
   "mimetype": "text/x-python",
   "name": "python",
   "nbconvert_exporter": "python",
   "pygments_lexer": "ipython3",
   "version": "3.7.6"
  }
 },
 "nbformat": 4,
 "nbformat_minor": 2
}
